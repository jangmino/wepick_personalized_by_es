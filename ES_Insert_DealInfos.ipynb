{
 "cells": [
  {
   "cell_type": "markdown",
   "metadata": {},
   "source": [
    "# DealInfos & Wepick_Setting 을 ES에 벌크 인서트\n",
    "\n",
    "-  환경: ElasticSearch 6\n",
    "-  테스트 머신: 장민 PC or twiceSpark1\n",
    "\n",
    "```\n",
    "- dealinfos (몽고디비 dealinfos 컬렉션), wepick_setting (wepick_setting.pkl) 적재\n",
    "```"
   ]
  },
  {
   "cell_type": "code",
   "execution_count": 1,
   "metadata": {
    "collapsed": true
   },
   "outputs": [],
   "source": [
    "import requests\n",
    "import time\n",
    "import urllib\n",
    "import matplotlib.pyplot as plt\n",
    "import matplotlib.font_manager as fm\n",
    "import json\n",
    "import elasticsearch\n",
    "import csv\n",
    "import pickle\n",
    "from elasticsearch.helpers import bulk\n",
    "import re\n",
    "import glob\n",
    "import os\n",
    "from datetime import timezone, timedelta, datetime\n",
    "import pandas as pd"
   ]
  },
  {
   "cell_type": "code",
   "execution_count": 2,
   "metadata": {
    "collapsed": true
   },
   "outputs": [],
   "source": [
    "def make_documents(file_path):\n",
    "    pred_dic = {}\n",
    "    with open(file_path, 'rb') as jsonfile:\n",
    "        for row in jsonfile:\n",
    "            source = eval(row)\n",
    "            source['sst'] = datetime.fromtimestamp(source['sst'])\n",
    "            source['set'] = datetime.fromtimestamp(source['set'])\n",
    "            source['dc'] = source['dc'].replace(\" \", \"\") # 편의상 공백을 모두 지워버림\n",
    "            doc =  {\n",
    "                \"_op_type\":'create',\n",
    "                \"_index\":\"dealinfos\",\n",
    "                \"_type\":\"doc\",\n",
    "                \"_id\": source['did'],\n",
    "                \"_source\": source\n",
    "            }\n",
    "            yield(doc)"
   ]
  },
  {
   "cell_type": "code",
   "execution_count": 3,
   "metadata": {
    "collapsed": true
   },
   "outputs": [],
   "source": [
    "### Jangmin's PC\n",
    "#es_url = 'localhost:9200'\n",
    "\n",
    "es_url = 'twiceSpark1:9200'"
   ]
  },
  {
   "cell_type": "code",
   "execution_count": 4,
   "metadata": {
    "collapsed": true
   },
   "outputs": [],
   "source": [
    "es = elasticsearch.Elasticsearch(es_url)"
   ]
  },
  {
   "cell_type": "code",
   "execution_count": 5,
   "metadata": {},
   "outputs": [
    {
     "data": {
      "text/plain": [
       "{'dealinfos': {'settings': {'index': {'analysis': {'analyzer': {'my_analyzer': {'filter': ['my_length_filter',\n",
       "        'lowercase'],\n",
       "       'tokenizer': 'my_tokenizer',\n",
       "       'type': 'custom'},\n",
       "      'my_analyzer_comma': {'filter': ['my_length_filter', 'lowercase'],\n",
       "       'tokenizer': 'my_tokenizer_comma_only',\n",
       "       'type': 'custom'}},\n",
       "     'filter': {'my_length_filter': {'max': '20',\n",
       "       'min': '2',\n",
       "       'type': 'length'}},\n",
       "     'tokenizer': {'my_tokenizer': {'pattern': '[,/]',\n",
       "       'type': 'simple_pattern_split'},\n",
       "      'my_tokenizer_comma_only': {'pattern': '[,]',\n",
       "       'type': 'simple_pattern_split'}}},\n",
       "    'creation_date': '1530536617370',\n",
       "    'number_of_replicas': '1',\n",
       "    'number_of_shards': '5',\n",
       "    'provided_name': 'dealinfos',\n",
       "    'uuid': '5PIhYaDLQeqrNekGHSkXPw',\n",
       "    'version': {'created': '6030099'}}}}}"
      ]
     },
     "execution_count": 5,
     "metadata": {},
     "output_type": "execute_result"
    }
   ],
   "source": [
    "es.indices.get_settings(index='dealinfos')"
   ]
  },
  {
   "cell_type": "markdown",
   "metadata": {},
   "source": [
    "# bulk inserting to ES"
   ]
  },
  {
   "cell_type": "code",
   "execution_count": 6,
   "metadata": {
    "scrolled": true
   },
   "outputs": [
    {
     "name": "stdout",
     "output_type": "stream",
     "text": [
      "Elapsed Time 6516.166028022766 sec\n"
     ]
    }
   ],
   "source": [
    "# jangmin PC\n",
    "data_dir = r'd:\\WMIND\\temp\\dealinfo'\n",
    "# for twiceSpark1\n",
    "# r'/home/twice/ojm/dealinfo'\n",
    "start = time.time()\n",
    "total_time = 0\n",
    "bulk(es, make_documents(data_dir))\n",
    "total_time += (time.time() - start)\n",
    "print(\"Elapsed Time {} sec\".format(total_time))"
   ]
  },
  {
   "cell_type": "code",
   "execution_count": 27,
   "metadata": {
    "collapsed": true
   },
   "outputs": [],
   "source": [
    "res = es.search(index='dealinfos', body={'query': {'match':{'dc':'에버랜드'}}})"
   ]
  },
  {
   "cell_type": "markdown",
   "metadata": {
    "collapsed": true
   },
   "source": [
    "## wepick_setting to ES"
   ]
  },
  {
   "cell_type": "code",
   "execution_count": 7,
   "metadata": {
    "collapsed": true
   },
   "outputs": [],
   "source": [
    "with open(r'wepick_setting.pkl', 'rb') as f:\n",
    "    wepick_setting_dic = pickle.load(f)"
   ]
  },
  {
   "cell_type": "code",
   "execution_count": 23,
   "metadata": {
    "collapsed": true
   },
   "outputs": [],
   "source": [
    "def make_documents(wepick_setting_path):\n",
    "    with open(wepick_setting_path, 'rb') as f:\n",
    "        wepick_setting_dic = pickle.load(f)\n",
    "        source= {}\n",
    "        for dt, setting in wepick_setting_dic.items():\n",
    "            source['dt'] = dt\n",
    "            vec = []\n",
    "            for slot, did in setting.items():\n",
    "                vec.append(\"{}_{}\".format(slot, did))\n",
    "            source['setting'] = vec\n",
    "            doc =  {\n",
    "                \"_op_type\":'create',\n",
    "                \"_index\":\"wepick_setting\",\n",
    "                \"_type\":\"doc\",\n",
    "                \"_id\": source['dt'],\n",
    "                \"_source\": source\n",
    "            }\n",
    "            yield(doc)"
   ]
  },
  {
   "cell_type": "code",
   "execution_count": 24,
   "metadata": {},
   "outputs": [
    {
     "name": "stdout",
     "output_type": "stream",
     "text": [
      "Elapsed Time 0.900590181350708 sec\n"
     ]
    }
   ],
   "source": [
    "#data_dir = r'd:\\WMIND\\temp\\dealinfo_small'\n",
    "data_dir = r'wepick_setting.pkl'\n",
    "start = time.time()\n",
    "total_time = 0\n",
    "bulk(es, make_documents(data_dir))\n",
    "total_time += (time.time() - start)\n",
    "print(\"Elapsed Time {} sec\".format(total_time))"
   ]
  },
  {
   "cell_type": "markdown",
   "metadata": {},
   "source": [
    "### wepick_setting to ES (확장 버전)\n",
    "\n",
    "- 3월10일- 4월11일까지 전부"
   ]
  },
  {
   "cell_type": "code",
   "execution_count": 7,
   "metadata": {
    "collapsed": true
   },
   "outputs": [],
   "source": [
    "data_path = r'd:\\WMIND\\temp\\wepick_settings.txt'"
   ]
  },
  {
   "cell_type": "code",
   "execution_count": 8,
   "metadata": {
    "collapsed": true
   },
   "outputs": [],
   "source": [
    "with open(data_path) as csvfile:\n",
    "    reader = csv.reader(csvfile)\n",
    "    wepick_setting_dic = {}\n",
    "    for row in reader:\n",
    "        deal_info = row[0].strip().split(' ')\n",
    "        cnt, did = int(deal_info[0]), int(deal_info[1])\n",
    "        slot = int(row[1])\n",
    "        dt= row[2]\n",
    "        if dt not in wepick_setting_dic:\n",
    "            wepick_setting_dic[dt] = {}\n",
    "        if slot not in wepick_setting_dic[dt] or cnt > wepick_setting_dic[dt][slot][1]:\n",
    "            wepick_setting_dic[dt][slot] = (did, cnt)"
   ]
  },
  {
   "cell_type": "code",
   "execution_count": 9,
   "metadata": {
    "collapsed": true
   },
   "outputs": [],
   "source": [
    "def make_documents(wepick_setting_dic):        \n",
    "        for dt, settings in wepick_setting_dic.items():\n",
    "            source= {}\n",
    "            source['dt'] = dt\n",
    "            vec = []\n",
    "            for slot, deal_info in settings.items():\n",
    "                vec.append( {\"slot\":slot, \"did\":deal_info[0], \"cnt\":deal_info[1]} )\n",
    "            source['settings'] = vec\n",
    "            doc =  {\n",
    "                \"_op_type\":'create',\n",
    "                \"_index\":\"wepick_setting_ext\",\n",
    "                \"_type\":\"doc\",\n",
    "                \"_id\": source['dt'],\n",
    "                \"_source\": source\n",
    "            }\n",
    "            yield(doc)"
   ]
  },
  {
   "cell_type": "code",
   "execution_count": 10,
   "metadata": {},
   "outputs": [
    {
     "name": "stdout",
     "output_type": "stream",
     "text": [
      "Elapsed Time 1.6316378116607666 sec\n"
     ]
    }
   ],
   "source": [
    "start = time.time()\n",
    "total_time = 0\n",
    "bulk(es, make_documents(wepick_setting_dic))\n",
    "total_time += (time.time() - start)\n",
    "print(\"Elapsed Time {} sec\".format(total_time))"
   ]
  },
  {
   "cell_type": "code",
   "execution_count": 10,
   "metadata": {
    "collapsed": true
   },
   "outputs": [
    {
     "data": {
      "text/plain": [
       "{1: (3527645, 4119),\n",
       " 2: (3526222, 3422),\n",
       " 3: (3524983, 833),\n",
       " 4: (3521050, 3510),\n",
       " 5: (3513020, 1443),\n",
       " 6: (3515664, 3008),\n",
       " 7: (3535398, 2821),\n",
       " 9: (3526953, 864),\n",
       " 10: (3525364, 2855),\n",
       " 11: (3532655, 288),\n",
       " 12: (3521622, 380),\n",
       " 13: (3524754, 177),\n",
       " 14: (3207879, 195),\n",
       " 15: (3528037, 975),\n",
       " 17: (2991058, 381),\n",
       " 18: (3520987, 2013),\n",
       " 19: (1534369, 262),\n",
       " 20: (3527675, 1285),\n",
       " 21: (3525346, 76),\n",
       " 22: (3486081, 345),\n",
       " 23: (2409745, 324),\n",
       " 24: (3529131, 467),\n",
       " 25: (3119538, 288),\n",
       " 26: (3538332, 380),\n",
       " 27: (3528363, 1506),\n",
       " 28: (3525317, 1658),\n",
       " 29: (3505573, 378),\n",
       " 30: (3512215, 704),\n",
       " 31: (3519047, 379),\n",
       " 32: (3514459, 1032),\n",
       " 33: (3541064, 186),\n",
       " 34: (1438471, 288),\n",
       " 35: (3515997, 1392),\n",
       " 36: (3512593, 1486),\n",
       " 37: (3068897, 247),\n",
       " 38: (3525124, 155),\n",
       " 39: (3517009, 610),\n",
       " 40: (3544562, 675),\n",
       " 41: (3539755, 574),\n",
       " 42: (3526985, 1222),\n",
       " 43: (3527053, 587),\n",
       " 44: (3522402, 707),\n",
       " 45: (3515524, 975),\n",
       " 46: (3522395, 597),\n",
       " 47: (3500355, 176),\n",
       " 48: (3516354, 162),\n",
       " 49: (3509649, 215),\n",
       " 50: (3061867, 163),\n",
       " 51: (3521785, 530),\n",
       " 52: (3515704, 1),\n",
       " 53: (3483431, 461),\n",
       " 54: (3498872, 571),\n",
       " 55: (3527575, 904),\n",
       " 56: (3527861, 304),\n",
       " 57: (3464309, 111),\n",
       " 58: (3524547, 171),\n",
       " 59: (3527824, 201),\n",
       " 60: (3119252, 153),\n",
       " 61: (3527477, 604),\n",
       " 62: (3506713, 1),\n",
       " 63: (3506713, 239),\n",
       " 64: (3508946, 344),\n",
       " 65: (3515873, 455),\n",
       " 66: (3525068, 888),\n",
       " 67: (3513787, 172),\n",
       " 68: (3515414, 386),\n",
       " 69: (3477356, 114),\n",
       " 70: (3529165, 1488),\n",
       " 71: (3544419, 496),\n",
       " 73: (3521451, 195),\n",
       " 74: (3525500, 1057),\n",
       " 75: (3513766, 415),\n",
       " 76: (3521741, 235),\n",
       " 77: (3492158, 289),\n",
       " 78: (3504137, 286),\n",
       " 79: (3518630, 551),\n",
       " 80: (3511172, 45),\n",
       " 81: (3515690, 262),\n",
       " 83: (3524294, 305),\n",
       " 84: (2258611, 192),\n",
       " 85: (3512421, 101),\n",
       " 86: (3532552, 118),\n",
       " 87: (3507588, 254),\n",
       " 88: (3533188, 164),\n",
       " 89: (3512948, 69),\n",
       " 90: (3527631, 737),\n",
       " 91: (3527569, 752),\n",
       " 92: (3519199, 146),\n",
       " 98: (3504137, 1)}"
      ]
     },
     "execution_count": 10,
     "metadata": {},
     "output_type": "execute_result"
    }
   ],
   "source": [
    "wepick_setting_dic['2018-04-11 23']"
   ]
  },
  {
   "cell_type": "markdown",
   "metadata": {},
   "source": [
    "### 간단 분석"
   ]
  },
  {
   "cell_type": "code",
   "execution_count": 31,
   "metadata": {
    "collapsed": true
   },
   "outputs": [],
   "source": [
    "## 간단 분석\n",
    "path = 'c:\\\\windows\\\\fonts\\\\nanumgothiccoding.ttf'\n",
    "font_name = fm.FontProperties(fname=path, size=50).get_name()\n",
    "plt.rc('font', family=font_name)"
   ]
  },
  {
   "cell_type": "code",
   "execution_count": 53,
   "metadata": {
    "collapsed": true
   },
   "outputs": [],
   "source": [
    "h = []\n",
    "label = []\n",
    "for s, pair in dic['2018-04-11 16'].items():\n",
    "    if s < 21: continue\n",
    "    h.append(int(pair[1]))\n",
    "    label.append(s)\n"
   ]
  },
  {
   "cell_type": "code",
   "execution_count": 119,
   "metadata": {
    "collapsed": true
   },
   "outputs": [],
   "source": [
    "slot_dic = {}\n",
    "#for i in range(24):\n",
    "for dt in dic.keys():\n",
    "    #dt = '2018-04-10 {:02}'.format(i)\n",
    "    for s, pair in dic[dt].items():\n",
    "        if s > 100 or s < 20: continue\n",
    "        if s not in slot_dic:\n",
    "            slot_dic[s] = pair[1]\n",
    "        else:\n",
    "            slot_dic[s] += pair[1]"
   ]
  },
  {
   "cell_type": "code",
   "execution_count": 120,
   "metadata": {
    "collapsed": true
   },
   "outputs": [],
   "source": [
    "import numpy as np"
   ]
  },
  {
   "cell_type": "code",
   "execution_count": 121,
   "metadata": {
    "collapsed": true
   },
   "outputs": [],
   "source": [
    "n_groups = len(label)"
   ]
  },
  {
   "cell_type": "code",
   "execution_count": 122,
   "metadata": {},
   "outputs": [
    {
     "data": {
      "text/plain": [
       "[<matplotlib.lines.Line2D at 0x28125aab6a0>]"
      ]
     },
     "execution_count": 122,
     "metadata": {},
     "output_type": "execute_result"
    }
   ],
   "source": [
    "plt.plot( slot_dic.keys(), slot_dic.values() )"
   ]
  },
  {
   "cell_type": "code",
   "execution_count": 123,
   "metadata": {
    "scrolled": true
   },
   "outputs": [
    {
     "data": {
      "image/png": "[encoded data removed]",
      "text/plain": [
       "<matplotlib.figure.Figure at 0x28125a70a20>"
      ]
     },
     "metadata": {},
     "output_type": "display_data"
    }
   ],
   "source": [
    "plt.show()"
   ]
  },
  {
   "cell_type": "code",
   "execution_count": 86,
   "metadata": {
    "collapsed": true
   },
   "outputs": [
    {
     "data": {
      "text/plain": [
       "{21: 96344,\n",
       " 22: 555880,\n",
       " 23: 162338,\n",
       " 24: 590638,\n",
       " 25: 497122,\n",
       " 26: 105804,\n",
       " 27: 453021,\n",
       " 28: 457793,\n",
       " 29: 400802,\n",
       " 30: 432653,\n",
       " 31: 165501,\n",
       " 32: 362986,\n",
       " 33: 384490,\n",
       " 34: 351675,\n",
       " 35: 364683,\n",
       " 36: 380245,\n",
       " 37: 386812,\n",
       " 38: 346335,\n",
       " 39: 328041,\n",
       " 40: 354587,\n",
       " 41: 378463,\n",
       " 42: 326872,\n",
       " 43: 268729,\n",
       " 44: 293436,\n",
       " 45: 357237,\n",
       " 46: 322691,\n",
       " 47: 254410,\n",
       " 48: 299000,\n",
       " 49: 291971,\n",
       " 50: 314874,\n",
       " 51: 283494,\n",
       " 52: 237638,\n",
       " 53: 265361,\n",
       " 54: 291537,\n",
       " 55: 237128,\n",
       " 56: 225087,\n",
       " 57: 208740,\n",
       " 58: 231501,\n",
       " 59: 250360,\n",
       " 60: 273493,\n",
       " 61: 234818,\n",
       " 62: 197651,\n",
       " 63: 240403,\n",
       " 64: 246465,\n",
       " 65: 221687,\n",
       " 66: 200070,\n",
       " 67: 198304,\n",
       " 68: 194979,\n",
       " 69: 181843,\n",
       " 70: 213362,\n",
       " 71: 205468,\n",
       " 72: 197385,\n",
       " 73: 237838,\n",
       " 74: 223019,\n",
       " 75: 213612,\n",
       " 76: 195124,\n",
       " 77: 194301,\n",
       " 78: 176141,\n",
       " 79: 185387,\n",
       " 80: 191943,\n",
       " 81: 198641,\n",
       " 82: 182312,\n",
       " 83: 180791,\n",
       " 84: 180220,\n",
       " 85: 169651,\n",
       " 86: 186484,\n",
       " 87: 171513,\n",
       " 88: 163740,\n",
       " 89: 135349,\n",
       " 90: 108277,\n",
       " 91: 86088,\n",
       " 92: 82180,\n",
       " 93: 58596,\n",
       " 94: 47415,\n",
       " 95: 37902,\n",
       " 96: 20890,\n",
       " 97: 11280,\n",
       " 98: 15482,\n",
       " 99: 13931,\n",
       " 100: 6287,\n",
       " 101: 1638,\n",
       " 102: 1071,\n",
       " 103: 1384,\n",
       " 104: 1110,\n",
       " 105: 37,\n",
       " 106: 31,\n",
       " 107: 40,\n",
       " 108: 18,\n",
       " 109: 27,\n",
       " 110: 22,\n",
       " 111: 17,\n",
       " 112: 20,\n",
       " 113: 10,\n",
       " 114: 12,\n",
       " 115: 6,\n",
       " 116: 6,\n",
       " 117: 12,\n",
       " 118: 5,\n",
       " 119: 13,\n",
       " 120: 17,\n",
       " 121: 13,\n",
       " 122: 3,\n",
       " 123: 4,\n",
       " 124: 3,\n",
       " 125: 5,\n",
       " 126: 11,\n",
       " 127: 9,\n",
       " 128: 7,\n",
       " 129: 7,\n",
       " 130: 5,\n",
       " 131: 4,\n",
       " 132: 5,\n",
       " 133: 3,\n",
       " 134: 10,\n",
       " 135: 2,\n",
       " 136: 3,\n",
       " 137: 10,\n",
       " 138: 2,\n",
       " 139: 5,\n",
       " 140: 11,\n",
       " 141: 7,\n",
       " 142: 5,\n",
       " 143: 1,\n",
       " 144: 2,\n",
       " 146: 9,\n",
       " 147: 4,\n",
       " 148: 7,\n",
       " 149: 4,\n",
       " 151: 10,\n",
       " 152: 7,\n",
       " 153: 15,\n",
       " 154: 4,\n",
       " 155: 1,\n",
       " 156: 2,\n",
       " 157: 7,\n",
       " 158: 7,\n",
       " 159: 6,\n",
       " 160: 10,\n",
       " 161: 7,\n",
       " 162: 1,\n",
       " 163: 4,\n",
       " 164: 7,\n",
       " 165: 9,\n",
       " 166: 2,\n",
       " 167: 5,\n",
       " 168: 1,\n",
       " 170: 4,\n",
       " 171: 3,\n",
       " 172: 9,\n",
       " 173: 4,\n",
       " 174: 8,\n",
       " 176: 2,\n",
       " 177: 1,\n",
       " 178: 3,\n",
       " 179: 8,\n",
       " 180: 6,\n",
       " 181: 1,\n",
       " 182: 3,\n",
       " 183: 1,\n",
       " 184: 5,\n",
       " 185: 3,\n",
       " 186: 2,\n",
       " 187: 3,\n",
       " 188: 1,\n",
       " 189: 2,\n",
       " 190: 2,\n",
       " 191: 4,\n",
       " 192: 2,\n",
       " 194: 1,\n",
       " 195: 1,\n",
       " 196: 3}"
      ]
     },
     "execution_count": 86,
     "metadata": {},
     "output_type": "execute_result"
    }
   ],
   "source": [
    "slot_dic"
   ]
  },
  {
   "cell_type": "markdown",
   "metadata": {},
   "source": [
    "### Negative Labeling 전략\n",
    "\n",
    "-  데이터: pos_dataset_by_user.csv\n",
    "- ```\n",
    "sort -t, -k2,2n -k4n pos_dataset.csv > pos_dataset_by_user.csv\n",
    "```"
   ]
  },
  {
   "cell_type": "code",
   "execution_count": 11,
   "metadata": {
    "collapsed": true
   },
   "outputs": [],
   "source": [
    "data_path = r'd:\\WMIND\\temp\\pos_dataset_by_user.csv'"
   ]
  },
  {
   "cell_type": "code",
   "execution_count": 12,
   "metadata": {
    "collapsed": true
   },
   "outputs": [],
   "source": [
    "def process_user(u, vec, wepick_setting_dic):\n",
    "    print(u, vec)"
   ]
  },
  {
   "cell_type": "code",
   "execution_count": 25,
   "metadata": {},
   "outputs": [
    {
     "name": "stdout",
     "output_type": "stream",
     "text": [
      "1000006 [('3398131', '22', Timestamp('2018-03-11 20:54:36.608000+0900', tz='Asia/Tokyo'), '2018-03-11 20'), ('3365865', '5', Timestamp('2018-03-12 13:50:30.903000+0900', tz='Asia/Tokyo'), '2018-03-12 13'), ('3284877', '6', Timestamp('2018-03-12 13:50:51.361000+0900', tz='Asia/Tokyo'), '2018-03-12 13'), ('3384031', '9', Timestamp('2018-03-12 13:51:18.597000+0900', tz='Asia/Tokyo'), '2018-03-12 13'), ('3398754', '1', Timestamp('2018-03-12 13:53:37.854000+0900', tz='Asia/Tokyo'), '2018-03-12 13'), ('3387193', '2', Timestamp('2018-03-12 19:33:46.955000+0900', tz='Asia/Tokyo'), '2018-03-12 19'), ('3429250', '1', Timestamp('2018-03-18 23:40:18.543000+0900', tz='Asia/Tokyo'), '2018-03-18 23'), ('3337685', '10', Timestamp('2018-03-18 23:42:59.454000+0900', tz='Asia/Tokyo'), '2018-03-18 23'), ('3418856', '10', Timestamp('2018-03-20 19:28:20.613000+0900', tz='Asia/Tokyo'), '2018-03-20 19'), ('3339612', '7', Timestamp('2018-03-26 22:48:24.891000+0900', tz='Asia/Tokyo'), '2018-03-26 22'), ('1938495', '4', Timestamp('2018-03-28 14:46:18.153000+0900', tz='Asia/Tokyo'), '2018-03-28 14'), ('3472717', '4', Timestamp('2018-04-02 00:15:45.807000+0900', tz='Asia/Tokyo'), '2018-04-02 00'), ('3435709', '14', Timestamp('2018-04-02 22:24:56.708000+0900', tz='Asia/Tokyo'), '2018-04-02 22'), ('3518911', '4', Timestamp('2018-04-10 09:52:38.706000+0900', tz='Asia/Tokyo'), '2018-04-10 09')]\n",
      "1000007 [('3398754', '1', Timestamp('2018-03-12 07:28:59.899000+0900', tz='Asia/Tokyo'), '2018-03-12 07'), ('3396811', '14', Timestamp('2018-03-12 07:30:25.504000+0900', tz='Asia/Tokyo'), '2018-03-12 07'), ('3198909', '21', Timestamp('2018-03-12 07:30:57.162000+0900', tz='Asia/Tokyo'), '2018-03-12 07'), ('3398754', '1', Timestamp('2018-03-12 17:20:37.294000+0900', tz='Asia/Tokyo'), '2018-03-12 17'), ('3408614', '2', Timestamp('2018-03-14 00:43:45.501000+0900', tz='Asia/Tokyo'), '2018-03-14 00'), ('3389057', '5', Timestamp('2018-03-14 00:43:56.579000+0900', tz='Asia/Tokyo'), '2018-03-14 00'), ('3389057', '5', Timestamp('2018-03-14 00:44:01.766000+0900', tz='Asia/Tokyo'), '2018-03-14 00'), ('3411797', '4', Timestamp('2018-03-14 00:44:10.067000+0900', tz='Asia/Tokyo'), '2018-03-14 00'), ('3446138', '93', Timestamp('2018-03-22 13:42:05.170000+0900', tz='Asia/Tokyo'), '2018-03-22 13'), ('3447558', '1', Timestamp('2018-03-22 13:43:15.889000+0900', tz='Asia/Tokyo'), '2018-03-22 13'), ('3447558', '1', Timestamp('2018-03-22 15:47:33.271000+0900', tz='Asia/Tokyo'), '2018-03-22 15'), ('3447558', '1', Timestamp('2018-03-22 16:10:00.365000+0900', tz='Asia/Tokyo'), '2018-03-22 16'), ('1590568', '71', Timestamp('2018-03-23 22:04:03.368000+0900', tz='Asia/Tokyo'), '2018-03-23 22'), ('3168382', '78', Timestamp('2018-03-26 20:46:13.347000+0900', tz='Asia/Tokyo'), '2018-03-26 20'), ('3476566', '2', Timestamp('2018-03-29 16:17:08.058000+0900', tz='Asia/Tokyo'), '2018-03-29 16'), ('3479981', '22', Timestamp('2018-03-29 16:21:34.589000+0900', tz='Asia/Tokyo'), '2018-03-29 16'), ('3464375', '1', Timestamp('2018-03-29 16:47:46.268000+0900', tz='Asia/Tokyo'), '2018-03-29 16'), ('3417995', '5', Timestamp('2018-03-29 16:53:09.761000+0900', tz='Asia/Tokyo'), '2018-03-29 16'), ('3464375', '1', Timestamp('2018-03-29 16:54:16.690000+0900', tz='Asia/Tokyo'), '2018-03-29 16'), ('3473900', '2', Timestamp('2018-03-30 13:45:48.682000+0900', tz='Asia/Tokyo'), '2018-03-30 13'), ('3439441', '6', Timestamp('2018-03-30 13:46:48.593000+0900', tz='Asia/Tokyo'), '2018-03-30 13'), ('3439441', '6', Timestamp('2018-03-30 13:51:28.388000+0900', tz='Asia/Tokyo'), '2018-03-30 13'), ('1430840', '7', Timestamp('2018-03-30 13:51:52.684000+0900', tz='Asia/Tokyo'), '2018-03-30 13'), ('3481282', '2', Timestamp('2018-04-01 16:36:21.539000+0900', tz='Asia/Tokyo'), '2018-04-01 16'), ('3467182', '38', Timestamp('2018-04-01 16:39:34.980000+0900', tz='Asia/Tokyo'), '2018-04-01 16'), ('3481282', '2', Timestamp('2018-04-01 19:26:37.457000+0900', tz='Asia/Tokyo'), '2018-04-01 19'), ('3481282', '2', Timestamp('2018-04-01 19:34:56.017000+0900', tz='Asia/Tokyo'), '2018-04-01 19'), ('3481282', '2', Timestamp('2018-04-01 19:39:26.635000+0900', tz='Asia/Tokyo'), '2018-04-01 19'), ('3480792', '2', Timestamp('2018-04-02 14:16:54.749000+0900', tz='Asia/Tokyo'), '2018-04-02 14'), ('3489914', '6', Timestamp('2018-04-02 14:22:06.758000+0900', tz='Asia/Tokyo'), '2018-04-02 14'), ('3483941', '1', Timestamp('2018-04-02 20:19:45.623000+0900', tz='Asia/Tokyo'), '2018-04-02 20'), ('3493647', '2', Timestamp('2018-04-04 11:24:20.160000+0900', tz='Asia/Tokyo'), '2018-04-04 11'), ('3476054', '1', Timestamp('2018-04-04 16:28:51.280000+0900', tz='Asia/Tokyo'), '2018-04-04 16'), ('3493647', '1', Timestamp('2018-04-04 21:09:39.259000+0900', tz='Asia/Tokyo'), '2018-04-04 21'), ('3503625', '1', Timestamp('2018-04-05 10:57:21.875000+0900', tz='Asia/Tokyo'), '2018-04-05 10'), ('3499380', '4', Timestamp('2018-04-05 11:47:29.358000+0900', tz='Asia/Tokyo'), '2018-04-05 11'), ('3499380', '4', Timestamp('2018-04-05 11:47:47.280000+0900', tz='Asia/Tokyo'), '2018-04-05 11'), ('3504535', '6', Timestamp('2018-04-05 11:53:58.618000+0900', tz='Asia/Tokyo'), '2018-04-05 11'), ('3503625', '1', Timestamp('2018-04-05 12:00:07.390000+0900', tz='Asia/Tokyo'), '2018-04-05 12'), ('3499380', '4', Timestamp('2018-04-05 12:00:46.358000+0900', tz='Asia/Tokyo'), '2018-04-05 12'), ('3499380', '4', Timestamp('2018-04-05 14:28:31.716000+0900', tz='Asia/Tokyo'), '2018-04-05 14'), ('3503625', '1', Timestamp('2018-04-05 14:40:51.474000+0900', tz='Asia/Tokyo'), '2018-04-05 14'), ('3503625', '1', Timestamp('2018-04-05 14:41:09.979000+0900', tz='Asia/Tokyo'), '2018-04-05 14'), ('3523535', '29', Timestamp('2018-04-10 08:10:44.416000+0900', tz='Asia/Tokyo'), '2018-04-10 08'), ('3513125', '1', Timestamp('2018-04-10 18:14:56.132000+0900', tz='Asia/Tokyo'), '2018-04-10 18'), ('3513125', '1', Timestamp('2018-04-10 18:15:15.176000+0900', tz='Asia/Tokyo'), '2018-04-10 18'), ('3513125', '1', Timestamp('2018-04-10 18:16:01.431000+0900', tz='Asia/Tokyo'), '2018-04-10 18'), ('3513125', '1', Timestamp('2018-04-10 19:29:00.445000+0900', tz='Asia/Tokyo'), '2018-04-10 19'), ('3513125', '1', Timestamp('2018-04-10 21:28:49.038000+0900', tz='Asia/Tokyo'), '2018-04-10 21'), ('3513125', '1', Timestamp('2018-04-10 21:34:47.185000+0900', tz='Asia/Tokyo'), '2018-04-10 21'), ('3513125', '1', Timestamp('2018-04-10 21:35:10.299000+0900', tz='Asia/Tokyo'), '2018-04-10 21'), ('3526222', '2', Timestamp('2018-04-11 14:13:28.843000+0900', tz='Asia/Tokyo'), '2018-04-11 14'), ('3532655', '11', Timestamp('2018-04-11 14:24:55.459000+0900', tz='Asia/Tokyo'), '2018-04-11 14'), ('3520987', '18', Timestamp('2018-04-11 14:26:59.739000+0900', tz='Asia/Tokyo'), '2018-04-11 14'), ('3528037', '15', Timestamp('2018-04-11 16:16:52.195000+0900', tz='Asia/Tokyo'), '2018-04-11 16'), ('3541064', '33', Timestamp('2018-04-11 16:33:25.678000+0900', tz='Asia/Tokyo'), '2018-04-11 16'), ('3207879', '14', Timestamp('2018-04-11 18:23:58.609000+0900', tz='Asia/Tokyo'), '2018-04-11 18')]\n",
      "1000011 [('3397373', '1', Timestamp('2018-03-11 19:50:04.304000+0900', tz='Asia/Tokyo'), '2018-03-11 19'), ('3425066', '27', Timestamp('2018-03-19 20:26:59.407000+0900', tz='Asia/Tokyo'), '2018-03-19 20'), ('3455169', '3', Timestamp('2018-03-25 19:16:28.631000+0900', tz='Asia/Tokyo'), '2018-03-25 19'), ('3463949', '36', Timestamp('2018-03-29 21:09:56.226000+0900', tz='Asia/Tokyo'), '2018-03-29 21'), ('3431371', '60', Timestamp('2018-03-29 21:10:50.151000+0900', tz='Asia/Tokyo'), '2018-03-29 21'), ('3449872', '3', Timestamp('2018-03-30 23:55:18.702000+0900', tz='Asia/Tokyo'), '2018-03-30 23'), ('3230480', '22', Timestamp('2018-03-30 23:56:25.884000+0900', tz='Asia/Tokyo'), '2018-03-30 23'), ('3483941', '5', Timestamp('2018-04-03 23:20:51.796000+0900', tz='Asia/Tokyo'), '2018-04-03 23')]\n"
     ]
    }
   ],
   "source": [
    "with open(data_path) as csvfile:\n",
    "    reader = csv.reader(csvfile)\n",
    "    prev_u = None\n",
    "    user_vec = []\n",
    "    i = 0\n",
    "    for row in reader:\n",
    "        v,u,slot,rgtime,dt = row[0], row[1], row[2], pd.to_datetime(row[3], unit='ms', utc=True).tz_convert('Asia/Tokyo'), row[4]\n",
    "        if prev_u != None and prev_u != u:\n",
    "            process_user(prev_u, user_vec, wepick_setting_dic)\n",
    "            user_vec = []\n",
    "            i += 1\n",
    "            if i == 3: break\n",
    "        prev_u = u\n",
    "        user_vec.append((v, slot, rgtime, dt))\n",
    "    if user_vec != []:\n",
    "        process_user(prev_u, user_vec)"
   ]
  },
  {
   "cell_type": "code",
   "execution_count": 24,
   "metadata": {},
   "outputs": [
    {
     "data": {
      "text/plain": [
       "Timestamp('2018-03-11 20:54:36.608000+0900', tz='Asia/Tokyo')"
      ]
     },
     "execution_count": 24,
     "metadata": {},
     "output_type": "execute_result"
    }
   ],
   "source": [
    "pd.to_datetime('1520769276608', unit='ms', utc=True).tz_convert('Asia/Tokyo')"
   ]
  },
  {
   "cell_type": "code",
   "execution_count": null,
   "metadata": {
    "collapsed": true
   },
   "outputs": [],
   "source": []
  }
 ],
 "metadata": {
  "kernelspec": {
   "display_name": "Python 3",
   "language": "python",
   "name": "python3"
  },
  "language_info": {
   "codemirror_mode": {
    "name": "ipython",
    "version": 3
   },
   "file_extension": ".py",
   "mimetype": "text/x-python",
   "name": "python",
   "nbconvert_exporter": "python",
   "pygments_lexer": "ipython3",
   "version": "3.6.2"
  }
 },
 "nbformat": 4,
 "nbformat_minor": 2
}
