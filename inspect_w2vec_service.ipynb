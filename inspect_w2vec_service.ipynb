{
 "cells": [
  {
   "cell_type": "code",
   "execution_count": 203,
   "metadata": {
    "collapsed": true
   },
   "outputs": [],
   "source": [
    "import requests\n",
    "import time\n",
    "import urllib\n",
    "import matplotlib.pyplot as plt\n",
    "import matplotlib.font_manager as fm\n",
    "import json\n",
    "import elasticsearch\n",
    "import csv\n",
    "import pickle\n",
    "from elasticsearch.helpers import bulk\n",
    "import re\n",
    "import glob\n",
    "import os\n",
    "from datetime import timezone, timedelta, datetime\n",
    "import pandas as pd\n",
    "import numpy as np\n",
    "from operator import itemgetter, attrgetter"
   ]
  },
  {
   "cell_type": "code",
   "execution_count": 119,
   "metadata": {
    "collapsed": true
   },
   "outputs": [],
   "source": [
    "def load_data(data_path):\n",
    "    \"\"\"\n",
    "    키워드 - word2vec 딕셔너리\n",
    "    \"\"\"\n",
    "    zerovec = np.zeros((20,), dtype=np.float32)\n",
    "    dic = {}\n",
    "    with open(data_path, 'rt', encoding='utf8') as csvfile:\n",
    "        reader = csv.reader(csvfile)\n",
    "        w2c_dic = {}\n",
    "        for row in reader:\n",
    "            key=row[0]\n",
    "            vec=np.array(list(map(lambda x:float(x), row[1:-1])), dtype=np.float32)\n",
    "            if np.allclose(vec, zerovec) != True:\n",
    "                dic[key]=vec\n",
    "    return dic"
   ]
  },
  {
   "cell_type": "code",
   "execution_count": 120,
   "metadata": {},
   "outputs": [],
   "source": [
    "#\n",
    "dic_0940 = load_data(r'd:\\WMIND\\temp\\data\\result\\model_1534375850586.csv\\part-00000')\n",
    "dic_0955 = load_data(r'd:\\WMIND\\temp\\data\\result\\model_1534379450653.csv\\part-00000')"
   ]
  },
  {
   "cell_type": "code",
   "execution_count": 116,
   "metadata": {},
   "outputs": [
    {
     "data": {
      "text/plain": [
       "array([-2.1750903, 11.656229 ,  0.6676253, 21.856644 , -1.9875165,\n",
       "       13.427332 , 10.398073 ,  1.8186046,  5.6832595,  0.7159476,\n",
       "       -3.6526413,  6.9150577, -3.230278 ,  5.8001475, -7.654966 ,\n",
       "       10.17702  ,  3.525654 ,  5.1598554,  9.885317 ,  1.6343417],\n",
       "      dtype=float32)"
      ]
     },
     "execution_count": 116,
     "metadata": {},
     "output_type": "execute_result"
    }
   ],
   "source": [
    "dic_0955['여름']"
   ]
  },
  {
   "cell_type": "code",
   "execution_count": 123,
   "metadata": {},
   "outputs": [
    {
     "data": {
      "text/plain": [
       "array([  7.8301716 ,  13.248194  , -14.633035  ,   0.37966922,\n",
       "        -5.387335  ,   5.110036  ,   4.6691194 ,   6.516449  ,\n",
       "        15.045565  ,  10.236552  ,   3.8216882 ,  -3.0212533 ,\n",
       "        -1.6769195 ,  -0.35369164,  -8.497376  ,  10.399048  ,\n",
       "       -13.144906  ,  -3.8625247 ,   2.724656  ,  -5.5872793 ],\n",
       "      dtype=float32)"
      ]
     },
     "execution_count": 123,
     "metadata": {},
     "output_type": "execute_result"
    }
   ],
   "source": [
    "dic_0940['여름']"
   ]
  },
  {
   "cell_type": "markdown",
   "metadata": {},
   "source": [
    "## 0816_09_40.org 로 부터 구성"
   ]
  },
  {
   "cell_type": "code",
   "execution_count": 47,
   "metadata": {},
   "outputs": [],
   "source": [
    "def read_history(data_path):\n",
    "    with open(data_path, 'rt', encoding='utf8') as fs:\n",
    "        doAction=False\n",
    "        history = []\n",
    "        while True:\n",
    "            line = fs.readline()\n",
    "            if not line: break\n",
    "            if doAction:\n",
    "                line = line.rstrip()\n",
    "                if len(line) == 0: break\n",
    "                data = line.split('\\t')\n",
    "                if len(data) == 6:\n",
    "                    did = int(data[0])\n",
    "                    history.append( (did,list(map(lambda x: x.strip(), data[-1].strip()[1:-1].split(',')))) )\n",
    "            if line.startswith('행동 최신'):\n",
    "                doAction=True   \n",
    "    return history"
   ]
  },
  {
   "cell_type": "code",
   "execution_count": 53,
   "metadata": {
    "collapsed": true
   },
   "outputs": [],
   "source": [
    "def read_wepick(data_path):\n",
    "    with open(data_path, 'rt', encoding='utf8') as fs:\n",
    "        doAction=False\n",
    "        history = []\n",
    "        while True:\n",
    "            line = fs.readline()\n",
    "            if not line: break\n",
    "            if doAction:\n",
    "                line = line.rstrip()\n",
    "                if len(line) == 0: break\n",
    "                data = line.split('\\t')\n",
    "                if len(data) == 5:\n",
    "                    did = int(data[0])\n",
    "                    history.append( (did,list(map(lambda x: x.strip(), data[-1].strip()[1:-1].split(',')))) )\n",
    "            if line.startswith('결과 리스트'):\n",
    "                doAction=True   \n",
    "    return history"
   ]
  },
  {
   "cell_type": "code",
   "execution_count": 56,
   "metadata": {},
   "outputs": [],
   "source": [
    "history_0940 = read_history(r'd:\\WMIND\\temp\\data\\0816_09_40.org')\n",
    "wepick_0940 = read_wepick(r'd:\\WMIND\\temp\\data\\0816_09_40.org')\n",
    "history_0955 = read_history(r'd:\\WMIND\\temp\\data\\0816_09_55.org')\n",
    "wepick_0955 = read_wepick(r'd:\\WMIND\\temp\\data\\0816_09_55.org')"
   ]
  },
  {
   "cell_type": "markdown",
   "metadata": {},
   "source": [
    "## 단비님이 만들어준 딜피쳐를 활용"
   ]
  },
  {
   "cell_type": "code",
   "execution_count": 161,
   "metadata": {
    "collapsed": true
   },
   "outputs": [],
   "source": [
    "def read_history_features(data_path):\n",
    "    with open(data_path, 'rt', encoding='utf8') as fs:\n",
    "        doAction=False\n",
    "        history = []\n",
    "        while True:\n",
    "            line = fs.readline()\n",
    "            if not line: break\n",
    "            if doAction:\n",
    "                line = line.rstrip()\n",
    "                if len(line) == 0: break\n",
    "                data = line.split('\\t')\n",
    "                if len(data) == 2:\n",
    "                    did = int(data[0])\n",
    "                    vec = list(map(lambda a: float(a), \n",
    "                              map(lambda x: x.strip(), \n",
    "                                  data[-1].strip()[1:-1].split(',')\n",
    "                                 )\n",
    "                             ) \n",
    "                        )\n",
    "                    history.append( (did, np.array(vec, dtype=np.float32) ) )\n",
    "            if line.startswith('사용자 행동 unique 딜'):\n",
    "                doAction=True   \n",
    "    return history"
   ]
  },
  {
   "cell_type": "code",
   "execution_count": 165,
   "metadata": {
    "collapsed": true
   },
   "outputs": [],
   "source": [
    "def read_wepick_features(data_path):\n",
    "    with open(data_path, 'rt', encoding='utf8') as fs:\n",
    "        doAction=False\n",
    "        wepicks = []\n",
    "        while True:\n",
    "            line = fs.readline()\n",
    "            if not line: break\n",
    "            if doAction:\n",
    "                line = line.rstrip()\n",
    "                if len(line) == 0: break\n",
    "                data = line.split('\\t')\n",
    "                if len(data) == 2:\n",
    "                    did = int(data[0])\n",
    "                    vec = list(map(lambda a: float(a), \n",
    "                              map(lambda x: x.strip(), \n",
    "                                  data[-1].strip()[1:-1].split(',')\n",
    "                                 )\n",
    "                             ) \n",
    "                        )\n",
    "                    wepicks.append( (did, np.array(vec, dtype=np.float32) ) )\n",
    "            if line.startswith('위픽 리스트 딜'):\n",
    "                doAction=True   \n",
    "    return wepicks"
   ]
  },
  {
   "cell_type": "code",
   "execution_count": 179,
   "metadata": {
    "collapsed": true
   },
   "outputs": [],
   "source": [
    "def calc_centroid(datas, strategy='average'):\n",
    "    n = len(datas)\n",
    "    centroid = np.zeros((20,))\n",
    "    for did, vec in datas:\n",
    "        centroid += vec\n",
    "    return centroid / n"
   ]
  },
  {
   "cell_type": "code",
   "execution_count": 210,
   "metadata": {
    "collapsed": true
   },
   "outputs": [],
   "source": [
    "def calc_original_rank(cenroid, datas):\n",
    "    \"\"\"\n",
    "    쿼리와, 각 data간 유사도를 재고, 정렬    \n",
    "    \"\"\"\n",
    "    scores = []\n",
    "    for did, vec in datas:\n",
    "        scores.append( (did, np.dot(centroid, vec) / np.linalg.norm(centroid) / np.linalg.norm(vec) ) )\n",
    "#         print(centroid, vec)\n",
    "#         print(np.dot(centroid, vec) / np.linalg.norm(did) , np.linalg.norm(vec))\n",
    "#         break\n",
    "    return sorted(scores, key=itemgetter(1), reverse=True)"
   ]
  },
  {
   "cell_type": "code",
   "execution_count": 164,
   "metadata": {},
   "outputs": [],
   "source": [
    "history_4000 = read_history_features(r'd:\\WMIND\\temp\\data\\20180816_4000_deal2vec.txt')\n",
    "history_4003 = read_history_features(r'd:\\WMIND\\temp\\data\\20180816_4003_deal2vec.txt')"
   ]
  },
  {
   "cell_type": "code",
   "execution_count": 172,
   "metadata": {},
   "outputs": [],
   "source": [
    "wepick_4000 = read_wepick_features(r'd:\\WMIND\\temp\\data\\20180816_4000_deal2vec.txt')\n",
    "wepick_4003 = read_wepick_features(r'd:\\WMIND\\temp\\data\\20180816_4003_deal2vec.txt')"
   ]
  },
  {
   "cell_type": "code",
   "execution_count": 212,
   "metadata": {
    "scrolled": false
   },
   "outputs": [],
   "source": [
    "centroid_4000 = calc_centroid(history_4000)\n",
    "centroid_4003 = calc_centroid(history_4003)"
   ]
  },
  {
   "cell_type": "code",
   "execution_count": 213,
   "metadata": {},
   "outputs": [
    {
     "data": {
      "text/plain": [
       "[(3925584, 0.523868155977151),\n",
       " (3929546, 0.523868155977151),\n",
       " (3926878, 0.4995753045484816),\n",
       " (3917082, 0.4869143092858477),\n",
       " (3926552, 0.43565926189631576),\n",
       " (3925803, 0.4268817381130126),\n",
       " (3918668, 0.39444586426473877),\n",
       " (3925238, 0.36742748921653223),\n",
       " (3925745, 0.3558961915869726),\n",
       " (3929946, 0.3047584820338496),\n",
       " (1998145, 0.2661902885863478),\n",
       " (2205335, 0.23922762095106592),\n",
       " (3680030, 0.1987761649446484),\n",
       " (3921091, 0.1936548438496343),\n",
       " (3005018, 0.17130419289319326),\n",
       " (3927051, 0.1558177862795168),\n",
       " (1657902, 0.15117004782512689),\n",
       " (3126922, 0.14624592800606695),\n",
       " (2277736, 0.1460655803097252),\n",
       " (3928179, 0.13816804682940353),\n",
       " (3909664, 0.13816435439218874),\n",
       " (1355945, 0.12277758231345041),\n",
       " (3910546, 0.12085660655727112),\n",
       " (3921747, 0.11728783707996089),\n",
       " (3927178, 0.11453792038408157),\n",
       " (3922962, 0.11428991159797096),\n",
       " (3914261, 0.10766191274102457),\n",
       " (3925721, 0.10072634548269523),\n",
       " (1832247, 0.07981208068614554),\n",
       " (3919555, 0.06451065830765916),\n",
       " (3177907, 0.06331628290282844),\n",
       " (3910070, 0.04856051986774994),\n",
       " (3912166, 0.041156539216786386),\n",
       " (3911583, 0.035925549304730214),\n",
       " (3915520, 0.03493619133535895),\n",
       " (2853271, 0.028393880095772303),\n",
       " (3921948, 0.021378923116751804),\n",
       " (3922068, 0.004491955166841237),\n",
       " (3909058, 0.004228786154037654),\n",
       " (1338912, -0.0032205536287856626),\n",
       " (1759162, -0.006193030990392174),\n",
       " (3916946, -0.006688214558654203),\n",
       " (3917983, -0.008486015739878368),\n",
       " (3925424, -0.009059789527966716),\n",
       " (3921272, -0.009163595638330637),\n",
       " (3925660, -0.012380547825626824),\n",
       " (3916663, -0.013069434732874384),\n",
       " (3916328, -0.016636638510206768),\n",
       " (3914678, -0.029462291726905728),\n",
       " (3913825, -0.03668606053919788),\n",
       " (1923440, -0.03712932026750565),\n",
       " (3917956, -0.04366885517206395),\n",
       " (3037789, -0.056031228788693654),\n",
       " (3399436, -0.07727096698705664),\n",
       " (3929267, -0.08157250533558591),\n",
       " (1942015, -0.08840429735727268),\n",
       " (3885543, -0.14440616042436316),\n",
       " (1358946, -0.14592669501398062),\n",
       " (1728389, -0.17244903732315786),\n",
       " (3386905, -0.1780393041058267),\n",
       " (3929051, -0.18644649455564274),\n",
       " (3272368, -0.20028932600396218)]"
      ]
     },
     "execution_count": 213,
     "metadata": {},
     "output_type": "execute_result"
    }
   ],
   "source": [
    "calc_original_rank(centroid_4000, wepick_4000)"
   ]
  },
  {
   "cell_type": "code",
   "execution_count": 214,
   "metadata": {},
   "outputs": [
    {
     "data": {
      "text/plain": [
       "[(3921091, 0.3536476339119444),\n",
       " (3680030, 0.27973187397113264),\n",
       " (3921272, 0.26916813912999904),\n",
       " (2205335, 0.20937268303851703),\n",
       " (3926552, 0.20657748074452678),\n",
       " (1338912, 0.14794438409131652),\n",
       " (1832247, 0.12771385374281086),\n",
       " (1759162, 0.11971617159689793),\n",
       " (3177907, 0.11018993194233094),\n",
       " (1657902, 0.10323532162357604),\n",
       " (3921747, 0.10257546524145991),\n",
       " (3929946, 0.10212876749665736),\n",
       " (3005018, 0.0948630593709246),\n",
       " (3126922, 0.09357738857897391),\n",
       " (1923440, 0.09171755927396734),\n",
       " (3925745, 0.07231779512565775),\n",
       " (1355945, 0.05686314222445048),\n",
       " (2277736, 0.04770422945805973),\n",
       " (3927051, 0.043812711852870646),\n",
       " (1998145, 0.042399363285394474),\n",
       " (3272368, 0.0307290600550405),\n",
       " (3925721, 0.02327864801484646),\n",
       " (1358946, 0.014812443509797095),\n",
       " (3925803, 0.010281584739950765),\n",
       " (2853271, 0.0036193306754160257),\n",
       " (3037789, 0.0006235718832975058),\n",
       " (3386905, -0.003450697918112277),\n",
       " (1728389, -0.013596371178460796),\n",
       " (3914261, -0.026951705200763114),\n",
       " (3928179, -0.03150271146838257),\n",
       " (3915520, -0.040523740512238046),\n",
       " (3929051, -0.04083119465086954),\n",
       " (3909664, -0.04110492278524587),\n",
       " (3910546, -0.04377638490767641),\n",
       " (3917082, -0.06374984061674022),\n",
       " (3925584, -0.08584674573285267),\n",
       " (3929546, -0.08584674573285267),\n",
       " (1942015, -0.08989201135216399),\n",
       " (3399436, -0.09496515961615416),\n",
       " (3925238, -0.09790188375419558),\n",
       " (3926878, -0.12788407943736474),\n",
       " (3918668, -0.16105534856822573),\n",
       " (3922068, -0.1619902954920051),\n",
       " (3922962, -0.18728719227113472),\n",
       " (3885543, -0.19302723366997213),\n",
       " (3911583, -0.20014414974966968),\n",
       " (3925424, -0.2086208250836624),\n",
       " (3919555, -0.22362781885546906),\n",
       " (3929267, -0.24361549929434037),\n",
       " (3916663, -0.2847403343117025),\n",
       " (3910070, -0.2848318810911766),\n",
       " (3912166, -0.29742275238050325),\n",
       " (3927178, -0.3123831009069945),\n",
       " (3914678, -0.31364698039176786),\n",
       " (3921948, -0.3185708859073732),\n",
       " (3916328, -0.319944052545409),\n",
       " (3916946, -0.32131669223474807),\n",
       " (3925660, -0.32246670342378186),\n",
       " (3917983, -0.3301270684916207),\n",
       " (3913825, -0.3483124178549995),\n",
       " (3917956, -0.35823605964090705),\n",
       " (3909058, -0.36604030728644144)]"
      ]
     },
     "execution_count": 214,
     "metadata": {},
     "output_type": "execute_result"
    }
   ],
   "source": [
    "calc_original_rank(centroid_4003, wepick_4003)"
   ]
  },
  {
   "cell_type": "code",
   "execution_count": 125,
   "metadata": {
    "collapsed": true
   },
   "outputs": [],
   "source": [
    "def get_w2vec_feature(keywords, dic, use_unit_length=False, do_final_normalize=True):\n",
    "    avg_pool_vec = np.zeros((20,))\n",
    "    n = 0\n",
    "    for keyword in keywords:\n",
    "        if keyword in dic:\n",
    "            vec = dic[keyword]\n",
    "#             print(keyword, vec)\n",
    "            if use_unit_length:\n",
    "                vec /= np.sqrt(np.sum(vec**2))\n",
    "            avg_pool_vec += vec\n",
    "            n += 1\n",
    "    if do_final_normalize:\n",
    "#         avg_pool_vec /= np.sqrt(np.sum(avg_pool_vec**2))\n",
    "        avg_pool_vec /= n\n",
    "    return avg_pool_vec"
   ]
  },
  {
   "cell_type": "code",
   "execution_count": 85,
   "metadata": {
    "collapsed": true
   },
   "outputs": [],
   "source": [
    "def gather_features(list_did_words, dic):\n",
    "    result_dic = {}\n",
    "    for did, words in list_did_words:\n",
    "        result_dic[did] = get_w2vec_feature(words, dic)\n",
    "    return result_dic"
   ]
  },
  {
   "cell_type": "code",
   "execution_count": 88,
   "metadata": {
    "collapsed": true
   },
   "outputs": [],
   "source": [
    "def calc_centroid(dic):\n",
    "    n = len(dic)\n",
    "    vec = np.zeros((20,))\n",
    "    for val in dic.values():\n",
    "        vec += val\n",
    "    return vec / n"
   ]
  },
  {
   "cell_type": "code",
   "execution_count": 91,
   "metadata": {
    "collapsed": true
   },
   "outputs": [],
   "source": [
    "def make_unitlength(vec):\n",
    "    return vec / np.sqrt(np.sum(vec**2))"
   ]
  },
  {
   "cell_type": "code",
   "execution_count": 108,
   "metadata": {},
   "outputs": [
    {
     "data": {
      "text/plain": [
       "array([-0.1377285 , -0.26697709, -0.16585805,  0.14383845, -0.22717078,\n",
       "       -0.40002458, -0.2382803 ,  0.01891664, -0.06828908, -0.4241687 ,\n",
       "       -0.0666227 , -0.01874852, -0.2362409 ,  0.1191254 , -0.02492022,\n",
       "       -0.1193964 ,  0.07401314,  0.21216158,  0.05964968,  0.17014683])"
      ]
     },
     "execution_count": 108,
     "metadata": {},
     "output_type": "execute_result"
    }
   ],
   "source": [
    "get_w2vec_feature(history_0940[0][1], dic_0940)"
   ]
  },
  {
   "cell_type": "code",
   "execution_count": 126,
   "metadata": {},
   "outputs": [
    {
     "data": {
      "text/plain": [
       "array([  7.96881423, -15.69272117,   0.47264806,   5.34064629,\n",
       "        -6.51507795,   4.87499367, -19.03162728,   7.55737817,\n",
       "         9.68323777,   2.75139078,   2.86543947,  -2.78664333,\n",
       "        -8.65409099,   1.81316907, -13.01808817,  20.26527736,\n",
       "       -16.41763422,  19.58289178,  -2.33877682,  -9.35977163])"
      ]
     },
     "execution_count": 126,
     "metadata": {},
     "output_type": "execute_result"
    }
   ],
   "source": [
    "get_w2vec_feature(wepick_0940[0][1], dic_0940)"
   ]
  },
  {
   "cell_type": "code",
   "execution_count": 103,
   "metadata": {},
   "outputs": [],
   "source": [
    "x = calc_centroid(gather_features( history_0940, dic_0940))"
   ]
  },
  {
   "cell_type": "code",
   "execution_count": 104,
   "metadata": {},
   "outputs": [
    {
     "data": {
      "text/plain": [
       "array([-0.19968645, -0.19608969, -0.09171642,  0.09476951, -0.23625785,\n",
       "       -0.48686596, -0.37358235,  0.06122241, -0.06941806, -0.36771063,\n",
       "        0.17648013, -0.04432764, -0.33517561,  0.07835231, -0.24672328,\n",
       "        0.07962579, -0.09784611,  0.31471156,  0.00939191,  0.02393308])"
      ]
     },
     "execution_count": 104,
     "metadata": {},
     "output_type": "execute_result"
    }
   ],
   "source": [
    "make_unitlength( calc_centroid(gather_features( history_0940, dic_0940)) )"
   ]
  },
  {
   "cell_type": "code",
   "execution_count": 134,
   "metadata": {},
   "outputs": [],
   "source": [
    "my = gather_features(history_0955, dic_0955)"
   ]
  },
  {
   "cell_type": "code",
   "execution_count": 135,
   "metadata": {
    "scrolled": false
   },
   "outputs": [
    {
     "data": {
      "text/plain": [
       "{1318568: array([  8.3881347 ,  -6.58152156,   0.56447959, -17.02123139,\n",
       "        -13.39107309,   5.16036158,  -4.27678948,   8.45737702,\n",
       "         -3.47249573,   6.14851319,  14.38284023,   7.14663591,\n",
       "         -6.6709235 ,  -5.21388376,   6.4832806 ,   1.64906898,\n",
       "         12.07407006, -14.65509638,  -2.17780701,  -1.07846131]),\n",
       " 2577177: array([  4.48177732, -22.64745792,  15.62512451,  -4.6136963 ,\n",
       "         -6.99450439,   0.545422  , -22.4140969 ,  24.75354513,\n",
       "         -4.54675408, -10.4760142 ,  18.93518353,   0.95213539,\n",
       "        -11.22067432,  40.75714567,  32.01246496,  -3.97705163,\n",
       "         19.37084097,  22.23507481,   5.34839206,  25.46153029]),\n",
       " 2742984: array([ -2.39299648, -38.28628874,   8.79081784, -13.84436182,\n",
       "          0.10570662,   7.09678754,   3.25021691,  -8.89260777,\n",
       "          3.7160199 ,   8.47871016,  19.88630676,   6.24242075,\n",
       "        -13.01542041, -14.86757346,  13.78883441,   4.70188895,\n",
       "         17.93412092, -33.13398708,  -3.28943749,  -5.64461662]),\n",
       " 3403422: array([-16.6509317 ,   7.46568952,  34.24567858,  -1.68253585,\n",
       "         -2.66801538,   4.09206661,  21.03519102,  21.0485176 ,\n",
       "          0.81923905,  15.93482856,   4.44514261,  20.07292166,\n",
       "        -16.78137317,  18.69773713,   4.77900577,  36.91289854,\n",
       "         24.07841635,   6.18887514,   0.09062413,  11.48722522]),\n",
       " 3674497: array([-23.65734243,   3.19872504,  49.22445297,  -9.07048994,\n",
       "         -4.82137397,   9.26723655,  30.04554302,  21.34690183,\n",
       "         -5.37343231,  18.60286987,   7.00430106,  26.17925978,\n",
       "        -29.40563571,  22.10865167,   0.46357715,  51.21689439,\n",
       "         33.44906044,  12.59599117,  -0.37113614,  21.49402452]),\n",
       " 3769661: array([ -0.59629902,  -7.42737011,   7.47153227,  -0.92433123,\n",
       "         -5.94471868,  -5.17493512,  10.08957589,  -2.7012513 ,\n",
       "          2.31077203, -10.00926952,   8.6213189 ,  -7.13663108,\n",
       "         -3.38139447,  -8.3782078 ,   0.48211241,  -2.70132148,\n",
       "         -5.32301299,  -8.31747444,  12.24665483,  -3.97223308]),\n",
       " 3829777: array([-25.01101899,   2.63670247,  52.66219521, -10.65276939,\n",
       "         -3.36944157,   9.66460603,  34.39443374,  23.98530066,\n",
       "         -6.68096626,  20.67299318,   7.06620656,  27.4046576 ,\n",
       "        -32.6882    ,  23.08432487,   1.80320811,  55.4540658 ,\n",
       "         34.82935619,  11.96261731,  -0.28441785,  23.04465151]),\n",
       " 3858124: array([-21.63135184,   4.8866677 ,  43.21707937,  -8.3433999 ,\n",
       "         -4.32891719,   7.05611006,  31.30841637,  20.91193824,\n",
       "         -2.21270741,  25.74187406,   4.32448504,  29.83117612,\n",
       "        -21.15860303,  21.160182  ,  -3.34200332,  45.04852675,\n",
       "         29.8635576 ,  13.49316499,   0.95735953,  16.14742353]),\n",
       " 3913371: array([  6.27779768, -14.97944403, -26.65018444, -37.31131783,\n",
       "        -40.53781319, -14.16007986,   4.18226202,  16.15201197,\n",
       "         46.83255768,  14.38457432, -38.84358215,  15.31075275,\n",
       "        -25.10370483,  55.92682419,  16.0411869 ,   1.73960606,\n",
       "         14.69542494,  -2.83997085,  -5.77088289, -39.20420723]),\n",
       " 3923419: array([  1.01999018,  -6.84440126,  -0.26901432, -14.28089982,\n",
       "        -19.68096944,   4.83320737,   3.19121088,   7.36699051,\n",
       "          0.44789948,  -6.01375046,  22.00647624,   8.42005843,\n",
       "         -3.85638107, -11.88516145,  10.27377804,  -7.96094551,\n",
       "          5.16645467,  -8.27297989,   2.81771893,  -2.55482043]),\n",
       " 3923454: array([ 10.33925092, -19.54188352,  11.98118726, -27.09905714,\n",
       "        -14.68088176,   8.19256794,  16.15521332,   6.57891937,\n",
       "          6.02642475,   6.7132715 ,   8.34568304,  26.95784889,\n",
       "        -16.78023815,   0.65144259,  11.7600638 ,   5.17527358,\n",
       "         -9.4290506 ,  -4.13607634,  12.41880176,   5.25638995]),\n",
       " 100071006: array([ 10.04511961,   1.71365724,   7.780351  , -20.81380839,\n",
       "        -19.33678134,  -0.12142869,  15.68678489,   6.07676136,\n",
       "          4.63992484,   9.41681707,  -0.79140808,  -2.62117186,\n",
       "         -9.07273982, -17.82335646,   2.97593059,  -2.67137311,\n",
       "         24.78305888,  -8.85658482,  -1.32660303,   4.53729467]),\n",
       " 100283089: array([ 7.77064982, -6.15133446,  8.89104536, -4.07630065, -9.74935701,\n",
       "         6.71622962, -4.40515988, 12.54195701,  5.70764973,  4.13867839,\n",
       "         3.99774379,  5.40973179, -1.37269094, -1.54315535, 13.10812247,\n",
       "        -0.25985052,  2.32356834, -3.66393934,  7.48066787,  5.39254927]),\n",
       " 100283365: array([ 8.08603453, -5.73927891,  8.37874095, -4.18383704, -9.8974226 ,\n",
       "         6.51253091, -4.19280484, 12.28566358,  5.35440151,  3.91330391,\n",
       "         3.89054346,  5.18825232, -1.47537722, -1.32940392, 12.91216986,\n",
       "        -0.15392796,  2.716411  , -3.59287786,  7.56365377,  5.47892444]),\n",
       " 100367720: array([ 10.23068715, -10.97801166,  13.35611301,  -5.19331674,\n",
       "        -11.91364106,  12.92633531,   0.28687587,  17.81591826,\n",
       "          7.10343419,  11.60003577,   5.72258375,   9.9761416 ,\n",
       "         -5.89344558,  -5.01441726,  21.98919646,  -2.58162924,\n",
       "         10.34170726,  -5.62170298,  11.31944903,  10.18958689]),\n",
       " 100370408: array([  6.62710782,  -4.2737596 ,   4.99949746,   0.86121658,\n",
       "         -0.88061499,  -0.25938285,  -2.00188413,  10.27202847,\n",
       "         10.24538488,   5.34888384,   4.18252733,  -1.81156828,\n",
       "         -0.67122569,  -1.76992633,  13.16213388,   1.20406668,\n",
       "         -1.13635203, -12.48237391,   6.50013475,  -1.95312225]),\n",
       " 100947294: array([  5.67821887,  -8.43971124,  11.30637565,  -8.86217346,\n",
       "        -12.46588141,   4.31114865,  -6.46646251,  14.82016681,\n",
       "          5.63058442,   4.00510725,   6.52738953,   6.84841922,\n",
       "         -3.54765207,   2.47902441,  18.03215522,  -5.57903869,\n",
       "          8.19521859,  -1.38379231,   9.69731921,   9.13895325]),\n",
       " 101160651: array([  5.53494277,  -5.85951821,   5.03292091,   1.89910339,\n",
       "          1.81037628,   2.29158923,  -1.25107144,  13.15347474,\n",
       "         11.97341058,   5.0412881 ,   5.89275276,  -0.78660469,\n",
       "         -3.14084746,  -1.34760511,  16.89391284,   0.97407612,\n",
       "         -2.61438324, -13.24914525,   8.69591014,   0.20017641])}"
      ]
     },
     "execution_count": 135,
     "metadata": {},
     "output_type": "execute_result"
    }
   ],
   "source": [
    "my"
   ]
  },
  {
   "cell_type": "code",
   "execution_count": null,
   "metadata": {
    "collapsed": true
   },
   "outputs": [],
   "source": []
  }
 ],
 "metadata": {
  "kernelspec": {
   "display_name": "Python 3",
   "language": "python",
   "name": "python3"
  },
  "language_info": {
   "codemirror_mode": {
    "name": "ipython",
    "version": 3
   },
   "file_extension": ".py",
   "mimetype": "text/x-python",
   "name": "python",
   "nbconvert_exporter": "python",
   "pygments_lexer": "ipython3",
   "version": "3.5.4"
  }
 },
 "nbformat": 4,
 "nbformat_minor": 2
}
