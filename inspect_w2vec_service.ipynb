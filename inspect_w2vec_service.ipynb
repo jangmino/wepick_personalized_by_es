{
 "cells": [
  {
   "cell_type": "code",
   "execution_count": 17,
   "metadata": {},
   "outputs": [],
   "source": [
    "import requests\n",
    "import time\n",
    "import urllib\n",
    "import matplotlib.pyplot as plt\n",
    "import matplotlib.font_manager as fm\n",
    "import json\n",
    "import elasticsearch\n",
    "import csv\n",
    "import pickle\n",
    "from elasticsearch.helpers import bulk\n",
    "import re\n",
    "import glob\n",
    "import os\n",
    "from datetime import timezone, timedelta, datetime\n",
    "import pandas as pd\n",
    "import numpy as np"
   ]
  },
  {
   "cell_type": "code",
   "execution_count": 28,
   "metadata": {},
   "outputs": [],
   "source": [
    "def load_data(data_path):\n",
    "    \"\"\"\n",
    "    키워드 - word2vec 딕셔너리\n",
    "    \"\"\"\n",
    "    zerovec = np.zeros((20,), dtype=np.float32)\n",
    "    dic = {}\n",
    "    with open(data_path) as csvfile:\n",
    "        reader = csv.reader(csvfile)\n",
    "        w2c_dic = {}\n",
    "        for row in reader:\n",
    "            key=row[0]\n",
    "            vec=np.array(list(map(lambda x:float(x), row[1:-1])), dtype=np.float32)\n",
    "            if np.allclose(vec, zerovec) != True:\n",
    "                dic[key]=vec\n",
    "    return dic"
   ]
  },
  {
   "cell_type": "code",
   "execution_count": 30,
   "metadata": {},
   "outputs": [],
   "source": [
    "dic_1 = load_data(r'/Users/jangmino/tensorflow/work/model_1534375850586.csv/part-00000')"
   ]
  },
  {
   "cell_type": "code",
   "execution_count": 31,
   "metadata": {},
   "outputs": [
    {
     "data": {
      "text/plain": [
       "633"
      ]
     },
     "execution_count": 31,
     "metadata": {},
     "output_type": "execute_result"
    }
   ],
   "source": [
    "len(dic_1)"
   ]
  },
  {
   "cell_type": "code",
   "execution_count": 33,
   "metadata": {},
   "outputs": [
    {
     "data": {
      "text/plain": [
       "array([  3.4319253 , -19.34103   ,  -0.9811205 ,  -0.5467036 ,\n",
       "         5.331314  , -22.588095  ,  -2.818268  ,  -1.9139482 ,\n",
       "        -4.9833293 , -19.869827  ,   7.181077  ,  19.225595  ,\n",
       "        -4.379787  ,   8.862917  ,  -9.81978   , -20.636335  ,\n",
       "        -7.148616  ,  29.25317   ,   1.9568232 ,  -0.46685678],\n",
       "      dtype=float32)"
      ]
     },
     "execution_count": 33,
     "metadata": {},
     "output_type": "execute_result"
    }
   ],
   "source": [
    "dic_1['2세대']"
   ]
  },
  {
   "cell_type": "code",
   "execution_count": null,
   "metadata": {},
   "outputs": [],
   "source": []
  }
 ],
 "metadata": {
  "kernelspec": {
   "display_name": "Python 3",
   "language": "python",
   "name": "python3"
  },
  "language_info": {
   "codemirror_mode": {
    "name": "ipython",
    "version": 3
   },
   "file_extension": ".py",
   "mimetype": "text/x-python",
   "name": "python",
   "nbconvert_exporter": "python",
   "pygments_lexer": "ipython3",
   "version": "3.6.2"
  }
 },
 "nbformat": 4,
 "nbformat_minor": 2
}
