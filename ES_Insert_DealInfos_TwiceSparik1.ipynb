{
 "cells": [
  {
   "cell_type": "markdown",
   "metadata": {},
   "source": [
    "# DealInfos 를 ES에 벌크 인서트\n",
    "\n",
    "-  환경: ElasticSearch 6\n",
    "-  테스트 머신: twiceSpark1\n",
    "\n",
    "```\n",
    "PUT /dealinfos\n",
    "{\n",
    "mapping_dealinfos.json\n",
    "}\n",
    "```\n"
   ]
  },
  {
   "cell_type": "code",
   "execution_count": 1,
   "metadata": {
    "collapsed": true
   },
   "outputs": [],
   "source": [
    "import requests\n",
    "import time\n",
    "import urllib\n",
    "import matplotlib.pyplot as plt\n",
    "import matplotlib.font_manager as fm\n",
    "import json\n",
    "import elasticsearch\n",
    "import csv\n",
    "import pickle\n",
    "from elasticsearch.helpers import bulk\n",
    "import re\n",
    "import glob\n",
    "import os\n",
    "from datetime import timezone, timedelta, datetime"
   ]
  },
  {
   "cell_type": "code",
   "execution_count": 2,
   "metadata": {
    "collapsed": true
   },
   "outputs": [],
   "source": [
    "def make_documents(file_path):\n",
    "    pred_dic = {}\n",
    "    with open(file_path, 'rb') as jsonfile:\n",
    "        for row in jsonfile:\n",
    "            source = eval(row)\n",
    "            source['sst'] = datetime.fromtimestamp(source['sst'])\n",
    "            source['set'] = datetime.fromtimestamp(source['set'])\n",
    "            source['dc'] = source['dc'].replace(\" \", \"\") # 편의상 공백을 모두 지워버림\n",
    "            doc =  {\n",
    "                \"_op_type\":'create',\n",
    "                \"_index\":\"dealinfos\",\n",
    "                \"_type\":\"doc\",\n",
    "                \"_id\": source['did'],\n",
    "                \"_source\": source\n",
    "            }\n",
    "            yield(doc)"
   ]
  },
  {
   "cell_type": "code",
   "execution_count": 3,
   "metadata": {
    "collapsed": true
   },
   "outputs": [],
   "source": [
    "### Jangmin's PC\n",
    "es_url = 'localhost:9200'"
   ]
  },
  {
   "cell_type": "code",
   "execution_count": 4,
   "metadata": {
    "collapsed": true
   },
   "outputs": [],
   "source": [
    "es = elasticsearch5.Elasticsearch(es_url)"
   ]
  },
  {
   "cell_type": "code",
   "execution_count": 5,
   "metadata": {
    "scrolled": true
   },
   "outputs": [
    {
     "data": {
      "text/plain": [
       "{'dealinfos': {'settings': {'index': {'analysis': {'analyzer': {'my_analyzer': {'filter': ['my_length_filter',\n",
       "        'lowercase'],\n",
       "       'tokenizer': 'my_tokenizer',\n",
       "       'type': 'custom'},\n",
       "      'my_analyzer_comma': {'filter': ['my_length_filter', 'lowercase'],\n",
       "       'tokenizer': 'my_tokenizer_comma_only',\n",
       "       'type': 'custom'}},\n",
       "     'filter': {'my_length_filter': {'max': '20',\n",
       "       'min': '2',\n",
       "       'type': 'length'}},\n",
       "     'tokenizer': {'my_tokenizer': {'pattern': '[,/]',\n",
       "       'type': 'simple_pattern_split'},\n",
       "      'my_tokenizer_comma_only': {'pattern': '[,]',\n",
       "       'type': 'simple_pattern_split'}}},\n",
       "    'creation_date': '1528198539473',\n",
       "    'number_of_replicas': '1',\n",
       "    'number_of_shards': '5',\n",
       "    'provided_name': 'dealinfos',\n",
       "    'uuid': '-YoGsxyUSkme8njbHu_Oew',\n",
       "    'version': {'created': '6020499'}}}}}"
      ]
     },
     "execution_count": 5,
     "metadata": {},
     "output_type": "execute_result"
    }
   ],
   "source": [
    "es.indices.get_settings(index='dealinfos')"
   ]
  },
  {
   "cell_type": "markdown",
   "metadata": {},
   "source": [
    "# bulk inserting to ES"
   ]
  },
  {
   "cell_type": "code",
   "execution_count": null,
   "metadata": {
    "collapsed": true,
    "scrolled": false
   },
   "outputs": [],
   "source": [
    "#data_dir = r'd:\\WMIND\\temp\\dealinfo_small'\n",
    "data_dir = r'd:\\WMIND\\temp\\dealinfo'\n",
    "start = time.time()\n",
    "total_time = 0\n",
    "bulk(es, make_documents(data_dir))\n",
    "total_time += (time.time() - start)\n",
    "print(\"Elapsed Time {} sec\".format(total_time))"
   ]
  },
  {
   "cell_type": "code",
   "execution_count": 27,
   "metadata": {
    "collapsed": true
   },
   "outputs": [],
   "source": [
    "res = es.search(index='dealinfos', body={'query': {'match':{'dc':'에버랜드'}}})"
   ]
  },
  {
   "cell_type": "code",
   "execution_count": 28,
   "metadata": {
    "scrolled": true
   },
   "outputs": [
    {
     "data": {
      "text/plain": [
       "832"
      ]
     },
     "execution_count": 28,
     "metadata": {},
     "output_type": "execute_result"
    }
   ],
   "source": [
    "res['hits']['total']"
   ]
  },
  {
   "cell_type": "code",
   "execution_count": null,
   "metadata": {
    "collapsed": true
   },
   "outputs": [],
   "source": []
  }
 ],
 "metadata": {
  "kernelspec": {
   "display_name": "Python 3",
   "language": "python",
   "name": "python3"
  },
  "language_info": {
   "codemirror_mode": {
    "name": "ipython",
    "version": 3
   },
   "file_extension": ".py",
   "mimetype": "text/x-python",
   "name": "python",
   "nbconvert_exporter": "python",
   "pygments_lexer": "ipython3",
   "version": "3.5.4"
  }
 },
 "nbformat": 4,
 "nbformat_minor": 2
}
