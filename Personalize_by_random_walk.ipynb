{
 "cells": [
  {
   "cell_type": "markdown",
   "metadata": {},
   "source": [
    "# Graph-RandomWalk 기반 개인화\n",
    "\n",
    "참고. [cs246](http://web.stanford.edu/class/cs246/info.html)\n",
    "\n",
    "## 용어\n",
    "- bipartite graph: 그래프에서 성격이 다른 두개의 vertext 셋이 존재. 참고[Wikipedia](https://en.wikipedia.org/wiki/Bipartite_graph)\n",
    "    - U: 사용자 히스토리에 관계된 vertex 셋\n",
    "    - V: 위픽 세팅에 관계된 vertex 셋\n",
    "    - U, V 의 intra-connection은 없음, inter-connection만 존재\n",
    "- undirected edge between u and v: 사용자 히스토리의 딜 u와 위픽 세팅 v 간 유사도\n",
    "    - f_u: 딜 u의 임베딩 벡터 (word2vec을 사용, unit-length in L2-norm)\n",
    "    - f_v: 딜 v의 임베딩 벡터\n",
    "    - s(u,v) = $\\exp(\\alpha \\times f_u \\cdot f_v)$ : 유사도\n",
    "- P: u -> v로 전이할 확률\n",
    "    - $\\sum_{v} P_{uv} = 1$ : s(u,v)를 가공하여 생성 \n",
    "- Q: v -> u로 전이할 확률\n",
    "    - $\\sum_{u} Q_{vu} = 1$ : s(u,v)를 가공하여 생성\n",
    "    \n",
    "## 방법\n",
    "- v = (1,1, ..., 1) / |V| 로 초기화\n",
    "- v' = v x Q x P 를 반복 (RANDOM WALK 수행)\n",
    "    - 수렴할 때까지 (금새 수렴)\n",
    "- 또는 QP 행렬의 first-left-eigenvector를 찾는다.\n",
    "\n",
    "## 해석\n",
    "- 최종 찾아진 v는 Page Rank와 유사하게, V 셋 내 deal의 중요도로 해석할 수 있다.\n",
    "- 내림차순으로 정렬하여 serving!!!"
   ]
  },
  {
   "cell_type": "code",
   "execution_count": 79,
   "metadata": {
    "collapsed": true
   },
   "outputs": [],
   "source": [
    "import requests\n",
    "import time\n",
    "import urllib\n",
    "import matplotlib.pyplot as plt\n",
    "import matplotlib.font_manager as fm\n",
    "import json\n",
    "import elasticsearch\n",
    "import csv\n",
    "import pickle\n",
    "from elasticsearch.helpers import bulk\n",
    "import re\n",
    "import glob\n",
    "import os\n",
    "from datetime import timezone, timedelta, datetime\n",
    "from pymongo import MongoClient\n",
    "import pymongo\n",
    "import pandas as pd\n",
    "import numpy as np\n",
    "from scipy.sparse.linalg import eigs, svds\n",
    "from operator import itemgetter"
   ]
  },
  {
   "cell_type": "code",
   "execution_count": 4,
   "metadata": {
    "collapsed": true
   },
   "outputs": [],
   "source": [
    "### twiceSpark1\n",
    "es_url = '10.102.50.47:9200'\n",
    "es = elasticsearch.Elasticsearch(es_url)\n",
    "D = 100"
   ]
  },
  {
   "cell_type": "markdown",
   "metadata": {},
   "source": [
    "## ES 관련 루틴\n"
   ]
  },
  {
   "cell_type": "code",
   "execution_count": 5,
   "metadata": {
    "collapsed": true
   },
   "outputs": [],
   "source": [
    "def es_search_dids_for_user(user_id, day_limit, gte_slot=1, ignore_consecutives=False):\n",
    "    \"\"\"\n",
    "    user_id의 모든 v 가져오기\n",
    "    day_limit 이전 것만 가져온다.\n",
    "    return\n",
    "    - 1st: v의 set\n",
    "    - 2nd: 확장 정보 (v, rgtime, slot)\n",
    "    \"\"\"\n",
    "    res = es.search(index='wepick_seq',\n",
    "                  body={\n",
    "                    \"query\": {\n",
    "                      \"bool\": {\n",
    "                        \"must\": {\n",
    "                          \"term\": {\"u\": user_id}\n",
    "                        },\n",
    "                        \"filter\": {\n",
    "                          \"range\": {\n",
    "                            \"rgtime\": {\n",
    "                              \"lt\": day_limit\n",
    "                            }\n",
    "                          }\n",
    "                        }\n",
    "                      }\n",
    "                    },\n",
    "                    \"size\": 64,\n",
    "                    \"sort\": {\"rgtime\": \"desc\"}\n",
    "                  }\n",
    "                  )\n",
    "    if res['hits']['total'] > 0:\n",
    "        until_dt = pd.to_datetime(day_limit).to_pydatetime()\n",
    "        filtered = []\n",
    "        prev_v = None\n",
    "        for hit in res['hits']['hits']:\n",
    "            if ignore_consecutives == False or (prev_v is not None and prev_v != hit['_source']['v']):\n",
    "                filtered.append((hit['_source']['v'], hit['_source']['rgtime'], hit['_source']['slot']))\n",
    "            prev_v = hit['_source']['v']\n",
    "        return set(map(lambda x: x[0], filtered)), filtered\n",
    "    return None, None"
   ]
  },
  {
   "cell_type": "code",
   "execution_count": 6,
   "metadata": {
    "collapsed": true
   },
   "outputs": [],
   "source": [
    "def es_gather_word2vec_raw(dids):\n",
    "    \"\"\"\n",
    "    dids로부터, word2vec을 모은다.\n",
    "    return\n",
    "    - dids: unit-length w2v (normalized by L2-norm)\n",
    "    \"\"\"\n",
    "    res = es.search(index='deal_word2vec', \n",
    "                body={\n",
    "                    'from':0, 'size': len(dids),\n",
    "                    \"_source\": [\"values\", \"v\"],\n",
    "                    'query': {\n",
    "                        'ids': {'values': dids }\n",
    "                        }                        \n",
    "                    }\n",
    "               )\n",
    "    dic = {}\n",
    "    zerovec = np.zeros((D,), dtype=np.float32)\n",
    "    for hit in res['hits']['hits']:\n",
    "        did = hit['_source']['v']\n",
    "        vec = np.array(hit['_source']['values'])\n",
    "        if len(vec) > 0 and np.allclose(vec, zerovec) == False:\n",
    "            vec /= np.sqrt(np.sum(vec**2))\n",
    "            dic[did] = vec\n",
    "    return dic\n"
   ]
  },
  {
   "cell_type": "code",
   "execution_count": 7,
   "metadata": {
    "collapsed": true
   },
   "outputs": [],
   "source": [
    "def es_read_wepick_setting(dt, start_slot=20):\n",
    "    \"\"\"\n",
    "    위픽 세팅 로딩\n",
    "    \"\"\"\n",
    "    res = es.search(index='wepick_setting_ext', \n",
    "                body={\n",
    "                    'query': {\n",
    "                        'term': {'dt': dt }\n",
    "                        }                        \n",
    "                    }\n",
    "               )\n",
    "    if res['hits']['total'] > 0:\n",
    "        dic = {}\n",
    "        vec = []\n",
    "        for s in res['hits']['hits'][0]['_source']['settings']:\n",
    "            if s['slot'] >= start_slot:\n",
    "                dic[s['slot']] = s['did']\n",
    "                vec.append(s['did'])\n",
    "        return vec, dic\n",
    "    return None, None"
   ]
  },
  {
   "cell_type": "code",
   "execution_count": 8,
   "metadata": {
    "collapsed": true
   },
   "outputs": [],
   "source": [
    "def es_scan_extra_by_dids(dids):\n",
    "    \"\"\"\n",
    "    dids로부터, mn, tn1를 가져온다.\n",
    "    \"\"\"\n",
    "    res = es.search(index='dealinfos', \n",
    "                body={\n",
    "                    'from':0, 'size': len(dids),\n",
    "                    \"_source\": [\"mn\", \"tn1\", \"did\"],\n",
    "                    'query': {\n",
    "                        'ids': {'values': dids }\n",
    "                        }                        \n",
    "                    }\n",
    "               )\n",
    "    dic = {}\n",
    "    for hit in res['hits']['hits']:\n",
    "        dic[hit['_source']['did']] = (hit['_source']['mn'], hit['_source']['tn1'])\n",
    "    return dic"
   ]
  },
  {
   "cell_type": "markdown",
   "metadata": {
    "collapsed": true
   },
   "source": [
    "### mongoDB for ActionInfos2"
   ]
  },
  {
   "cell_type": "code",
   "execution_count": 9,
   "metadata": {
    "collapsed": true
   },
   "outputs": [],
   "source": [
    "client = MongoClient(host='35.190.239.204', port=27017, username='praha_read', password='praha!@#', authSource='praha')\n",
    "\n",
    "db = client['praha']\n",
    "\n",
    "col = db['memberActionInfos2']"
   ]
  },
  {
   "cell_type": "code",
   "execution_count": 10,
   "metadata": {
    "collapsed": true
   },
   "outputs": [],
   "source": [
    "def mg_get_ordered_dids(mid, lt_day=\"20180411\", limit=32):\n",
    "    \"\"\"\n",
    "    구매한 딜들을 조회\n",
    "    \"\"\"\n",
    "    result = col.find({\"mid\":mid, 'ft.o':{\"$ne\":[]}, 'day':{\"$lt\":lt_day}}, {'day':1, 'ft.o': 1, '_id':0}).sort('day', pymongo.DESCENDING).limit(limit)\n",
    "    out = set()\n",
    "    for res in result:\n",
    "        out.update(list(map(lambda x: x['did'], res['ft']['o'])))\n",
    "    return out"
   ]
  },
  {
   "cell_type": "code",
   "execution_count": 11,
   "metadata": {
    "collapsed": true
   },
   "outputs": [],
   "source": [
    "def mg_get_clicked_dids(mid, lt_day=\"20180411\", limit=32, use_search_induced_click=False):\n",
    "    \"\"\"\n",
    "    클릭한 딜들을 조회\n",
    "    \"\"\"\n",
    "    result = col.find({\"mid\":mid, 'ft.c':{\"$ne\":[]}, 'day':{\"$lt\":lt_day}}, {'day':1, 'ft.c': 1, '_id':0}).sort('day', pymongo.DESCENDING).limit(limit)\n",
    "    out = set()\n",
    "    for res in result:\n",
    "        out.update(list(map(lambda x: x['did'], \n",
    "                            res['ft']['c'] if use_search_induced_click == False else filter(lambda x: x['s'] != '', res['ft']['c'])\n",
    "                           )))\n",
    "    return out"
   ]
  },
  {
   "cell_type": "markdown",
   "metadata": {},
   "source": [
    "## Ranking 관련"
   ]
  },
  {
   "cell_type": "code",
   "execution_count": 12,
   "metadata": {
    "collapsed": true
   },
   "outputs": [],
   "source": [
    "def get_refined_scores(scores, extra_dic):\n",
    "    refined_scores = []\n",
    "    for did, score in scores:\n",
    "        if did in extra_dic:\n",
    "            refined_scores.append((score, did, extra_dic[did][0], extra_dic[did][1]))\n",
    "        else:\n",
    "            refined_scores.append((score, did, \"\", \"\"))\n",
    "    return refined_scores"
   ]
  },
  {
   "cell_type": "code",
   "execution_count": 13,
   "metadata": {
    "collapsed": true
   },
   "outputs": [],
   "source": [
    "def print_result(out, wepick_slot_dic):\n",
    "    for s, did, title, cate in out:\n",
    "        org_slot = wepick_slot_dic[did] if did in wepick_slot_dic else -1\n",
    "        print(\"{:0.4f}, {}, {}, {}, {}\".format(s, did, title, org_slot, cate))\n",
    "            "
   ]
  },
  {
   "cell_type": "code",
   "execution_count": 149,
   "metadata": {
    "collapsed": true
   },
   "outputs": [],
   "source": [
    "def print_user_history(ex):\n",
    "    \"\"\"\n",
    "    유저 히스토리 출력\n",
    "    \"\"\"\n",
    "    dic = es_scan_extra_by_dids(list(map(lambda x: x[0], ex)))\n",
    "    for did, ts, slot in ex:\n",
    "        if did in dic:\n",
    "            print(\"{}, {:.16}, {:2d}, {}\".format(did, ts, slot, dic[did][0]))\n",
    "        else:\n",
    "            print(\"{}, {:.16}, {:2d}\".format(did, ts, slot))\n",
    "#         if did in dic:\n",
    "#             print(\"{}, {:.16}, {:2d}, {}, {}\".format(did, ts, slot, dic[did][0], dic[did][1]))\n",
    "#         else:\n",
    "#             print(\"{}, {:.16}, {:2d}\".format(did, ts, slot))\n",
    "    "
   ]
  },
  {
   "cell_type": "markdown",
   "metadata": {},
   "source": [
    "## Random Walk 관련"
   ]
  },
  {
   "cell_type": "code",
   "execution_count": 15,
   "metadata": {
    "collapsed": true
   },
   "outputs": [],
   "source": [
    "def get_w2vec_matrix(A):\n",
    "    \"\"\"\n",
    "    A = dict: dealidx -> np.array((D,), dtype=np.float32)\n",
    "    \"\"\"\n",
    "    \n",
    "    deal_to_idx =  {k:i for i, k in enumerate(A.keys())}\n",
    "    idx_to_deal =  {i:k for i, k in enumerate(A.keys())}\n",
    "    \n",
    "    M = np.array(list(A.values()), dtype=np.float32)\n",
    "    return M, idx_to_deal"
   ]
  },
  {
   "cell_type": "code",
   "execution_count": 16,
   "metadata": {
    "collapsed": true
   },
   "outputs": [],
   "source": [
    "def get_random_walk_matrix(U, V, alpha=5.0):\n",
    "    \"\"\"\n",
    "    V->U->V 로 전이시켜주는 확률 매트릭스를 리턴한다고 생각하자.\n",
    "    \"\"\"\n",
    "    P_ = np.matmul(U, V.T)\n",
    "    Q_ = np.matmul(V, U.T)\n",
    "    \n",
    "    P = np.exp(alpha*P_)\n",
    "    Q = np.exp(alpha*Q_)\n",
    "\n",
    "    P = P / np.sum(P, axis=1, keepdims=True)\n",
    "    Q = Q / np.sum(Q, axis=1, keepdims=True)\n",
    "    \n",
    "    return np.matmul(Q, P)    "
   ]
  },
  {
   "cell_type": "code",
   "execution_count": 144,
   "metadata": {
    "collapsed": true
   },
   "outputs": [],
   "source": [
    "def do_random_walk(QQ, prior_v=None, tol=1e-8):\n",
    "    \"\"\"\n",
    "    QQ: |V| x |V| matrix\n",
    "    tol 미만 될 때까지 반복\n",
    "    시작: uniform probability가 되게 설정\n",
    "    \"\"\"\n",
    "    y = np.ones((1, QQ.shape[0]), dtype=np.float32) / QQ.shape[0] if prior_v is None else prior_v\n",
    "    while True:\n",
    "        new_y = np.dot(y, QQ)\n",
    "        if np.linalg.norm(y - new_y) < tol:\n",
    "            return new_y.squeeze()\n",
    "        y = new_y   "
   ]
  },
  {
   "cell_type": "code",
   "execution_count": 136,
   "metadata": {},
   "outputs": [],
   "source": [
    "def solve_random_walk_analytically(QQ):\n",
    "    \"\"\"\n",
    "    QQ_ij = transition probability from i to j\n",
    "    scipy 의 eigs를 통한 솔루션 구하기\n",
    "    \"\"\"\n",
    "    w, v = eigs(QQ.T, k=1)\n",
    "    y = v.real\n",
    "    return (y / y.sum()).squeeze()"
   ]
  },
  {
   "cell_type": "code",
   "execution_count": 138,
   "metadata": {},
   "outputs": [],
   "source": [
    "def calc_score_by_random_walk(W, prior_v=None, solve_analytically=False):\n",
    "    y = solve_random_walk_analytically(W) if solve_analytically else do_random_walk(W, prior_v)\n",
    "    sorted_ii = np.argsort(y)[::-1]\n",
    "    scores = list(map(lambda x: (jj[x], y[x]), sorted_ii))\n",
    "    return scores"
   ]
  },
  {
   "cell_type": "markdown",
   "metadata": {},
   "source": [
    "## BiRank 알고리즘 (확장)\n",
    "- 참고 [논문링크](https://arxiv.org/pdf/1708.04396.pdf)\n",
    "    - 4페이지 참고\n",
    "- 내용\n",
    "    - [HITS 알고리즘 변형] (https://en.wikipedia.org/wiki/HITS_algorithm)\n",
    "    - u, v 를 번갈아며 RandomWalk"
   ]
  },
  {
   "cell_type": "code",
   "execution_count": 20,
   "metadata": {
    "collapsed": true
   },
   "outputs": [],
   "source": [
    "def get_W_for_birank(U, V, scale=5.0):\n",
    "    return np.exp(scale * np.matmul(U, V.T))    "
   ]
  },
  {
   "cell_type": "code",
   "execution_count": 21,
   "metadata": {
    "collapsed": true
   },
   "outputs": [],
   "source": [
    "def get_prior_for_birank(W):\n",
    "    \"\"\"\n",
    "    prior 값 계산 (베이직)\n",
    "    \"\"\"\n",
    "    n_u, n_v = W.shape[0], W.shape[1]\n",
    "    u_0 = np.ones((n_u,), dtype=np.float32) / n_u\n",
    "    v_0 = np.ones((n_v,), dtype=np.float32) / n_v\n",
    "\n",
    "    return u_0, v_0"
   ]
  },
  {
   "cell_type": "code",
   "execution_count": 22,
   "metadata": {
    "collapsed": true
   },
   "outputs": [],
   "source": [
    "def iterative_birank_algorithm(W, alpha=0.95, beta=0.95, tol=1e-5):\n",
    "    Du = np.sum(W, axis=1)**-(0.5)\n",
    "    Dv = np.sum(W, axis=0)**-(0.5)\n",
    "    S = np.matmul(np.matmul(np.diag(Du), W), np.diag(Dv))\n",
    "    \n",
    "\n",
    "    u_0, v_0 = get_prior_for_birank(W)\n",
    "    \n",
    "    n_u, n_v = W.shape[0], W.shape[1]\n",
    "    u = np.ones((n_u,), dtype=np.float32) / n_u\n",
    "    v = np.ones((n_v,), dtype=np.float32) / n_v\n",
    "\n",
    "    tol = 1e-4\n",
    "    while True:\n",
    "        new_v = alpha * np.dot(S.T, u) + (1-alpha)*v_0\n",
    "        new_u = beta * np.dot(S, v) + (1-beta)*u_0\n",
    "        if np.linalg.norm(v - new_v) < tol and np.linalg.norm(u - new_u) < tol:\n",
    "            break\n",
    "        v = new_v\n",
    "        u = new_u\n",
    "    return u, v"
   ]
  },
  {
   "cell_type": "code",
   "execution_count": 23,
   "metadata": {
    "collapsed": true
   },
   "outputs": [],
   "source": [
    "def calc_score_by_birank_algorithm(W, prior_v=None):\n",
    "    u, v = iterative_birank_algorithm(W)\n",
    "    sorted_ii = np.argsort(v)[::-1]\n",
    "    scores = list(map(lambda x: (jj[x], v[x]), sorted_ii))\n",
    "    return scores"
   ]
  },
  {
   "cell_type": "markdown",
   "metadata": {},
   "source": [
    "### Wepick Setting load"
   ]
  },
  {
   "cell_type": "code",
   "execution_count": 24,
   "metadata": {
    "collapsed": true
   },
   "outputs": [],
   "source": [
    "# 2018-04-11 21 시의 위픽 세팅 로딩\n",
    "wepick_setting, wepick_dic = es_read_wepick_setting('2018-04-11 21')\n",
    "\n",
    "wepick_slot_dic = dict(zip(wepick_dic.values(), wepick_dic.keys()))"
   ]
  },
  {
   "cell_type": "markdown",
   "metadata": {},
   "source": [
    "### deal_profile loading"
   ]
  },
  {
   "cell_type": "code",
   "execution_count": 25,
   "metadata": {
    "collapsed": true
   },
   "outputs": [],
   "source": [
    "# 위픽 세팅에 따른 딜들에 대한 deal_profile을 생성\n",
    "deal_profile_dic = es_gather_word2vec_raw(wepick_setting)\n",
    "extra_dic = es_scan_extra_by_dids(wepick_setting)"
   ]
  },
  {
   "cell_type": "markdown",
   "metadata": {},
   "source": [
    "## 3월 11 -  4월 10일까지 위픽 클릭 데이터에 대해 구성한 user_profile에 대한 테스트"
   ]
  },
  {
   "cell_type": "code",
   "execution_count": 26,
   "metadata": {
    "collapsed": true,
    "scrolled": true
   },
   "outputs": [],
   "source": [
    "deals_user_viewed, ex = es_search_dids_for_user(1000007, '2018-04-11', ignore_consecutives=False)\n",
    "\n",
    "user_profile_dic = es_gather_word2vec_raw(list(deals_user_viewed))"
   ]
  },
  {
   "cell_type": "code",
   "execution_count": 150,
   "metadata": {
    "collapsed": true
   },
   "outputs": [
    {
     "name": "stdout",
     "output_type": "stream",
     "text": [
      "3513125, 2018-04-10T12:35,  1, [슈퍼투데이특가] 호텔수건 170g10장\n",
      "3513125, 2018-04-10T12:34,  1, [슈퍼투데이특가] 호텔수건 170g10장\n",
      "3513125, 2018-04-10T12:28,  1, [슈퍼투데이특가] 호텔수건 170g10장\n",
      "3513125, 2018-04-10T10:29,  1, [슈퍼투데이특가] 호텔수건 170g10장\n",
      "3513125, 2018-04-10T09:16,  1, [슈퍼투데이특가] 호텔수건 170g10장\n",
      "3513125, 2018-04-10T09:15,  1, [슈퍼투데이특가] 호텔수건 170g10장\n",
      "3513125, 2018-04-10T09:14,  1, [슈퍼투데이특가] 호텔수건 170g10장\n",
      "3523535, 2018-04-09T23:10, 29, [위메프] 10만 포인트+5,000P\n",
      "3503625, 2018-04-05T05:41,  1, [무료배송] 4월의 아디다스 KIDS\n",
      "3503625, 2018-04-05T05:40,  1, [무료배송] 4월의 아디다스 KIDS\n",
      "3499380, 2018-04-05T05:28,  4, [플레이특가] 원마운트 워터파크 1+1\n",
      "3499380, 2018-04-05T03:00,  4, [플레이특가] 원마운트 워터파크 1+1\n",
      "3503625, 2018-04-05T03:00,  1, [무료배송] 4월의 아디다스 KIDS\n",
      "3504535, 2018-04-05T02:53,  6, [투데이특가] 라피타제모기 런칭행사\n",
      "3499380, 2018-04-05T02:47,  4, [플레이특가] 원마운트 워터파크 1+1\n",
      "3499380, 2018-04-05T02:47,  4, [플레이특가] 원마운트 워터파크 1+1\n",
      "3503625, 2018-04-05T01:57,  1, [무료배송] 4월의 아디다스 KIDS\n",
      "3493647, 2018-04-04T12:09,  1, [투데이특가] 챔피온 반팔티셔츠\n",
      "3476054, 2018-04-04T07:28,  1, [투데이특가] 롯데마트 모바일금액권\n",
      "3493647, 2018-04-04T02:24,  2, [투데이특가] 챔피온 반팔티셔츠\n",
      "3483941, 2018-04-02T11:19,  1, [디지털데이] 닌텐도 스위치+타이틀\n",
      "3489914, 2018-04-02T05:22,  6, [무료배송] 리얼코코 기습추가할인\n",
      "3480792, 2018-04-02T05:16,  2, [엄마니까] 젤리스푼 봄 클리어런스\n",
      "3481282, 2018-04-01T10:39,  2, [슈즈코치] 나이키 에어 맥스 데이\n",
      "3481282, 2018-04-01T10:34,  2, [슈즈코치] 나이키 에어 맥스 데이\n",
      "3481282, 2018-04-01T10:26,  2, [슈즈코치] 나이키 에어 맥스 데이\n",
      "3467182, 2018-04-01T07:39, 38, [특가어워즈] 1+1 맥퀸 펜아이라이너\n",
      "3481282, 2018-04-01T07:36,  2, [슈즈코치] 나이키 에어 맥스 데이\n",
      "1430840, 2018-03-30T04:51,  7, [원더쿠폰] 다우니 섬유유연제 x 5개\n",
      "3439441, 2018-03-30T04:51,  6, [투데이특가] 헤드앤숄더 샴푸 1+1\n",
      "3439441, 2018-03-30T04:46,  6, [투데이특가] 헤드앤숄더 샴푸 1+1\n",
      "3473900, 2018-03-30T04:45,  2, [무료배송] 달리샵 25% 추가 쿠폰!\n",
      "3464375, 2018-03-29T07:54,  1, [하객패션] 로드블링, 15% 할인쿠폰\n",
      "3417995, 2018-03-29T07:53,  5, 코타키나발루 수트라하버 多포함\n",
      "3464375, 2018-03-29T07:47,  1, [하객패션] 로드블링, 15% 할인쿠폰\n",
      "3479981, 2018-03-29T07:21, 22, [투데이특가] 훈제 순살 족발 300g\n",
      "3476566, 2018-03-29T07:17,  2, [무료배송] 앨리 봄 480종 X 15%할인\n",
      "3168382, 2018-03-26T11:46, 78, [9만쿠폰] LG울트라GT 15U780-PA76K\n",
      "1590568, 2018-03-23T13:04, 71, [할인쿠폰] 네츄럴코어 애견사료\n",
      "3447558, 2018-03-22T07:10,  1, [무료배송] 난닝구/원피스/자켓/바지\n",
      "3447558, 2018-03-22T06:47,  1, [무료배송] 난닝구/원피스/자켓/바지\n",
      "3447558, 2018-03-22T04:43,  1, [무료배송] 난닝구/원피스/자켓/바지\n",
      "3446138, 2018-03-22T04:42, 93, [투데이특가] 마크제이콥스 데이지\n",
      "3411797, 2018-03-13T15:44,  4, [리빙위크] 풍년 경질 압력솥6인\n",
      "3389057, 2018-03-13T15:44,  5, [투데이특가] 뮤사이 스페셜 패키지\n",
      "3389057, 2018-03-13T15:43,  5, [투데이특가] 뮤사이 스페셜 패키지\n",
      "3408614, 2018-03-13T15:43,  2, [무료배송] 앤디애플 본격봄세일중\n",
      "3398754, 2018-03-12T08:20,  1, [무료배송] 에이엘 하루만반값할인\n",
      "3198909, 2018-03-11T22:30, 21, [완전무료] 교통상해보험 0원딜+경품\n",
      "3396811, 2018-03-11T22:30, 14, [롯데] 봄이 더예쁜 포커스\n",
      "3398754, 2018-03-11T22:28,  1, [무료배송] 에이엘 하루만반값할인\n"
     ]
    }
   ],
   "source": [
    "print_user_history(ex)"
   ]
  },
  {
   "cell_type": "code",
   "execution_count": 157,
   "metadata": {},
   "outputs": [
    {
     "name": "stdout",
     "output_type": "stream",
     "text": [
      "사이판 월드 골드 4/5일+마나가하\n",
      "휴비딕 체온계 & 탕온도 특가전\n",
      "[무료배송] 롱티/티셔츠/원피스\n",
      "[게릴라특가] 궁중 너비아니 4팩\n",
      "[20%쿠폰] 니베아 립밤 바디로션 \n",
      "[투데이특가] 맑음 배도라지 50팩\n",
      "[리빙위크] 비즈니스보루네오 소파\n",
      "[6천원쿠폰] 기습쿠폰전 오늘마지막!\n",
      "[투데이특가] 더사랑이 여름 아동복\n",
      "[투데이특가] 우리밀 아이국수 8인분\n",
      "[무료배송] 봄 아동복 브랜드 연합전\n",
      "[투데이특가] 1+ 한우 제비추리150g\n",
      "[역시트롬] LG 드럼세탁기 모음\n",
      "[투데이특가] 오뚜기 컵누들 10+5개\n",
      "[무료배송] 프롬유 ~20%할인쿠폰\n",
      "[플레이특가] 아티제 모바일상품권\n",
      "[컬러풀] GTX1060 6GB 그래픽카드\n",
      "[리빙위크] 사이오스 샴푸 + 증정품\n",
      "[심야특가] 파파야 여성 의류 모음전\n",
      "[무료배송] 까만색 잇몸치약 130g \n",
      "[투데이특가] 꺾어먹는 비요뜨 12개\n",
      "[무료배송] 입맛살리는 명란파치 1kg\n",
      "[투데이특가] 닥스셔츠 긴/반팔 BEST\n",
      "[게릴라특가] 판퍼즐&코코몽자석놀이\n",
      "[원더쿠폰] 과탄산소다 베이킹소다\n",
      "[사은품증정] 리빙웰 에어프라이어\n",
      "[투데이특가] 보노바스켓 정리함 80L\n",
      "[투데이특가] 니트/가디건/원피스 외\n",
      "[리빙위크] 3M 정전기청소포/물걸레\n",
      "[투데이특가] 샤오미 공기청정기\n",
      "[할인사건] 홍콩VS마카오 항공&자유\n",
      "[투데이특가] 장조림 2팩+ 본죽 2팩!\n",
      "[투데이특가] 닥터마밍 물티슈 캡×10\n",
      "[투데이특가] 좋은느낌 생리대 38+38\n",
      "[무료배송] 빅사이즈/원피스/롱티\n",
      "[투데이특가] 여심저격 클루나드시계\n",
      "[가전쿠폰] LG 13kg 통돌이세탁기\n",
      "[위메프] 10만 포인트+5,000P\n",
      "[원더쿠폰] 봄 귀걸이,추가할인쿠폰\n",
      "[투데이특가] 쁘띠첼 과일젤리 15개\n",
      "[엄마니까] 쁘띠뮤 여름 횡재가격!\n",
      "아임닭 닭가슴살 슬라이스 15+1\n",
      "[투데이특가] 더수 몰랑 물티슈 10팩\n",
      "[하객패션] 락피쉬 18년S/S+20%쿠폰!\n",
      "[투데이특가] 금구운란 30구 1판\n",
      "[리빙위크] 쉬즈홈 Best 이불 커튼\n",
      "[롯데] 르까프 아동/성인 빅세일\n",
      "[블랙데이] 짜장면 치즈 케이크 大\n",
      "[투데이특가] 서울 다이노코어-VIP석\n",
      "[어린이날] 해피버스 7부/자가드내의\n",
      "[투데이특가] 레이스 덧신 1+1+1\n",
      "[삼성생명 다이렉트] 보험 이벤트\n",
      "[게릴라특가] 봄맞이 카페트 150x200\n",
      "[투데이특가] 휴대용 핸디 선풍기!\n",
      "[투데이특가] 자외선차단 암막우산\n",
      "[투데이특가] 아디다스 그래픽스케일\n",
      "[투데이특가] 풀무원 간편국15+5입\n",
      "[추가쿠폰] 삼성 냉장고 RH81K8050SA\n",
      "[공식판매점] LG 14kg 건조기 2종\n",
      "[투데이특가] 뮤지컬 닥터지바고 \n",
      "[리빙위크] 리빙숲 리빙박스72L 4개\n",
      "[게릴라특가] 실리콘 주방용품 모음\n",
      "[투데이특가] 눈건강 루테인 5박스\n",
      "[쿠폰할인] LG 공기청정기 AS181DAW\n",
      "[하객패션] 백화점 잡화 267종! +20%\n",
      "[투데이특가] 비닐/쓰레기봉투 600장\n",
      "[쿠폰할인] 중고폰 노트5/S7/엣지\n",
      "[투데이특가] 파크론 주방매트 대+소\n",
      "[하객패션] 포커스 봄구성완벽해\n",
      "[무료배송] 에비수 본사특가 20%쿠폰\n"
     ]
    }
   ],
   "source": [
    "for x in map(lambda x: x[0], extra_dic.values()): print(x)"
   ]
  },
  {
   "cell_type": "code",
   "execution_count": 28,
   "metadata": {
    "collapsed": true
   },
   "outputs": [],
   "source": [
    "U, ii = get_w2vec_matrix(user_profile_dic)\n",
    "V, jj = get_w2vec_matrix(deal_profile_dic)"
   ]
  },
  {
   "cell_type": "code",
   "execution_count": 92,
   "metadata": {
    "collapsed": true
   },
   "outputs": [],
   "source": [
    "W = get_random_walk_matrix(U, V)"
   ]
  },
  {
   "cell_type": "code",
   "execution_count": 145,
   "metadata": {},
   "outputs": [],
   "source": [
    "out = get_refined_scores(calc_score_by_random_walk(W), extra_dic)"
   ]
  },
  {
   "cell_type": "code",
   "execution_count": 146,
   "metadata": {
    "scrolled": true
   },
   "outputs": [
    {
     "name": "stdout",
     "output_type": "stream",
     "text": [
      "0.0550, 3515524, [무료배송] 롱티/티셔츠/원피스, 45, 티셔츠\n",
      "0.0442, 3512593, [무료배송] 봄 아동복 브랜드 연합전, 36, 아동공용의류\n",
      "0.0435, 3527477, [투데이특가] 니트/가디건/원피스 외, 61, 원피스\n",
      "0.0417, 3527575, [무료배송] 프롬유 ~20%할인쿠폰, 55, 티셔츠\n",
      "0.0385, 3525317, [무료배송] 빅사이즈/원피스/롱티, 28, 원피스\n",
      "0.0383, 3525500, [하객패션] 포커스 봄구성완벽해, 74, 티셔츠\n",
      "0.0383, 3541064, [위메프] 10만 포인트+5,000P, 33, 온라인 이용권\n",
      "0.0381, 3522402, [무료배송] 에비수 본사특가 20%쿠폰, 44, 티셔츠\n",
      "0.0331, 3514459, [심야특가] 파파야 여성 의류 모음전, 32, 티셔츠\n",
      "0.0273, 3512215, [6천원쿠폰] 기습쿠폰전 오늘마지막!, 30, 색조메이크업\n",
      "0.0254, 3513766, [어린이날] 해피버스 7부/자가드내의, 75, 내의/잠옷/속옷\n",
      "0.0248, 3525068, [엄마니까] 쁘띠뮤 여름 횡재가격!, 66, 아동공용의류\n",
      "0.0239, 3492158, [할인사건] 홍콩VS마카오 항공&자유, 77, 홍콩\n",
      "0.0233, 3527053, [투데이특가] 더사랑이 여름 아동복, 43, 아동공용의류\n",
      "0.0196, 3486081, 사이판 월드 골드 4/5일+마나가하, 22, 사이판\n",
      "0.0135, 1438471, [20%쿠폰] 니베아 립밤 바디로션 , 34, 립케어\n",
      "0.0134, 3528363, [하객패션] 백화점 잡화 267종! +20%, 27, 벨트\n",
      "0.0133, 3515873, [투데이특가] 레이스 덧신 1+1+1, 65, 스타킹/양말\n",
      "0.0124, 3515690, [투데이특가] 닥스셔츠 긴/반팔 BEST, 81, 셔츠/남방\n",
      "0.0124, 3524547, [투데이특가] 1+ 한우 제비추리150g, 58, 한우\n",
      "0.0123, 3522395, [롯데] 르까프 아동/성인 빅세일, 46, 남성 티셔츠/상의 기타\n",
      "0.0121, 3526985, [원더쿠폰] 봄 귀걸이,추가할인쿠폰, 42, 귀걸이\n",
      "0.0119, 3527569, [투데이특가] 아디다스 그래픽스케일, 91, 반팔 티셔츠\n",
      "0.0116, 3532677, [게릴라특가] 궁중 너비아니 4팩, 82, 가공육/양념육류\n",
      "0.0112, 3529131, 휴비딕 체온계 & 탕온도 특가전, 24, 유아건강/유아위생용품\n",
      "0.0105, 3521451, [투데이특가] 뮤지컬 닥터지바고 , 73, 라이선스\n",
      "0.0103, 3529165, [하객패션] 락피쉬 18년S/S+20%쿠폰!, 70, 여성단화\n",
      "0.0103, 3519199, [투데이특가] 서울 다이노코어-VIP석, 92, 어린이뮤지컬\n",
      "0.0102, 2258611, [사은품증정] 리빙웰 에어프라이어, 84, 튀김기\n",
      "0.0100, 3538332, [리빙위크] 사이오스 샴푸 + 증정품, 26, 샴푸/린스\n",
      "0.0099, 3506713, [플레이특가] 아티제 모바일상품권, 63, 생활쿠폰\n",
      "0.0095, 3521785, [쿠폰할인] 중고폰 노트5/S7/엣지, 51, 공기계-미사용/미개봉\n",
      "0.0092, 3527861, [투데이특가] 장조림 2팩+ 본죽 2팩!, 56, 반찬\n",
      "0.0092, 3507588, [투데이특가] 보노바스켓 정리함 80L, 87, 리빙박스/수납함\n",
      "0.0091, 3532552, [투데이특가] 맑음 배도라지 50팩, 86, 아기간식/아기음료\n",
      "0.0090, 2409745, [원더쿠폰] 과탄산소다 베이킹소다, 23, 세탁세제\n",
      "0.0088, 3509649, [리빙위크] 리빙숲 리빙박스72L 4개, 49, 리빙박스/수납함\n",
      "0.0086, 3521741, 아임닭 닭가슴살 슬라이스 15+1, 76, 닭고기\n",
      "0.0086, 3539755, [게릴라특가] 판퍼즐&코코몽자석놀이, 41, 유아퍼즐\n",
      "0.0084, 3504137, [리빙위크] 비즈니스보루네오 소파, 78, 소파\n",
      "0.0084, 3516354, [투데이특가] 닥터마밍 물티슈 캡×10, 48, 물티슈 기타\n",
      "0.0082, 3483431, [무료배송] 입맛살리는 명란파치 1kg, 53, 젓갈\n",
      "0.0081, 3512421, [투데이특가] 휴대용 핸디 선풍기!, 85, 휴대용 선풍기\n",
      "0.0081, 3544562, [게릴라특가] 실리콘 주방용품 모음, 40, 조리도구\n",
      "0.0081, 3517009, [투데이특가] 금구운란 30구 1판, 39, 과자/안주\n",
      "0.0080, 3511172, [컬러풀] GTX1060 6GB 그래픽카드, 80, 그래픽카드\n",
      "0.0080, 3519047, [투데이특가] 풀무원 간편국15+5입, 31, 즉석밥/국/카레\n",
      "0.0080, 3527675, [투데이특가] 파크론 주방매트 대+소, 20, 카페트/러그\n",
      "0.0080, 3527631, [투데이특가] 자외선차단 암막우산, 90, 생활잡화\n",
      "0.0079, 3464309, [쿠폰할인] LG 공기청정기 AS181DAW, 57, 공기청정기\n",
      "0.0078, 3515414, [투데이특가] 오뚜기 컵누들 10+5개, 68, 즉석밥/국/카레\n",
      "0.0075, 3508946, [리빙위크] 쉬즈홈 Best 이불 커튼, 64, 요\n",
      "0.0074, 3500355, [투데이특가] 좋은느낌 생리대 38+38, 47, 화이트\n",
      "0.0074, 3515997, [블랙데이] 짜장면 치즈 케이크 大, 35, 초콜릿\n",
      "0.0073, 3527824, [투데이특가] 우리밀 아이국수 8인분, 59, 아기간식/아기음료\n",
      "0.0073, 3512948, [투데이특가] 눈건강 루테인 5박스, 89, 개별인정형건강식품\n",
      "0.0073, 3518630, [투데이특가] 꺾어먹는 비요뜨 12개, 79, 두유/우유\n",
      "0.0073, 3068897, [가전쿠폰] LG 13kg 통돌이세탁기, 37, 일반 세탁기\n",
      "0.0073, 3498872, [투데이특가] 비닐/쓰레기봉투 600장, 54, 일회용품\n",
      "0.0072, 3513787, [리빙위크] 3M 정전기청소포/물걸레, 67, 밀대/청소포\n",
      "0.0071, 3524294, [투데이특가] 여심저격 클루나드시계, 83, 패션시계\n",
      "0.0071, 3525124, [투데이특가] 더수 몰랑 물티슈 10팩, 38, 물티슈 기타\n",
      "0.0071, 3533188, [투데이특가] 쁘띠첼 과일젤리 15개, 88, 캔디/껌/젤리\n",
      "0.0065, 3525346, [삼성생명 다이렉트] 보험 이벤트, 21, 기타\n",
      "0.0064, 3544419, [게릴라특가] 봄맞이 카페트 150x200, 71, 카페트/러그\n",
      "0.0063, 3119252, [역시트롬] LG 드럼세탁기 모음, 60, 드럼세탁기\n",
      "0.0063, 3505573, [무료배송] 까만색 잇몸치약 130g , 29, 칫솔/치약\n",
      "0.0062, 3061867, [추가쿠폰] 삼성 냉장고 RH81K8050SA, 50, 양문형 냉장고\n",
      "0.0061, 3521723, [투데이특가] 샤오미 공기청정기, 25, 공기청정기\n",
      "0.0055, 3477356, [공식판매점] LG 14kg 건조기 2종, 69, 의류 건조기/관리기\n"
     ]
    }
   ],
   "source": [
    "print_result(out, wepick_slot_dic)"
   ]
  },
  {
   "cell_type": "markdown",
   "metadata": {},
   "source": [
    "### birank 알고리즘 결과 (참고)"
   ]
  },
  {
   "cell_type": "code",
   "execution_count": 29,
   "metadata": {
    "collapsed": true
   },
   "outputs": [],
   "source": [
    "out = get_refined_scores(calc_score_by_birank_algorithm(get_W_for_birank(U, V)), extra_dic)"
   ]
  },
  {
   "cell_type": "code",
   "execution_count": 30,
   "metadata": {},
   "outputs": [
    {
     "name": "stdout",
     "output_type": "stream",
     "text": [
      "0.0326, 3515524, [무료배송] 롱티/티셔츠/원피스, 45, 티셔츠\n",
      "0.0294, 3512593, [무료배송] 봄 아동복 브랜드 연합전, 36, 아동공용의류\n",
      "0.0290, 3527477, [투데이특가] 니트/가디건/원피스 외, 61, 원피스\n",
      "0.0284, 3527575, [무료배송] 프롬유 ~20%할인쿠폰, 55, 티셔츠\n",
      "0.0282, 3541064, [위메프] 10만 포인트+5,000P, 33, 온라인 이용권\n",
      "0.0274, 3525317, [무료배송] 빅사이즈/원피스/롱티, 28, 원피스\n",
      "0.0274, 3522402, [무료배송] 에비수 본사특가 20%쿠폰, 44, 티셔츠\n",
      "0.0274, 3525500, [하객패션] 포커스 봄구성완벽해, 74, 티셔츠\n",
      "0.0255, 3514459, [심야특가] 파파야 여성 의류 모음전, 32, 티셔츠\n",
      "0.0240, 3512215, [6천원쿠폰] 기습쿠폰전 오늘마지막!, 30, 색조메이크업\n",
      "0.0230, 3513766, [어린이날] 해피버스 7부/자가드내의, 75, 내의/잠옷/속옷\n",
      "0.0227, 3525068, [엄마니까] 쁘띠뮤 여름 횡재가격!, 66, 아동공용의류\n",
      "0.0227, 3492158, [할인사건] 홍콩VS마카오 항공&자유, 77, 홍콩\n",
      "0.0219, 3527053, [투데이특가] 더사랑이 여름 아동복, 43, 아동공용의류\n",
      "0.0206, 3486081, 사이판 월드 골드 4/5일+마나가하, 22, 사이판\n",
      "0.0172, 1438471, [20%쿠폰] 니베아 립밤 바디로션 , 34, 립케어\n",
      "0.0169, 3515873, [투데이특가] 레이스 덧신 1+1+1, 65, 스타킹/양말\n",
      "0.0169, 3528363, [하객패션] 백화점 잡화 267종! +20%, 27, 벨트\n",
      "0.0166, 3524547, [투데이특가] 1+ 한우 제비추리150g, 58, 한우\n",
      "0.0164, 3522395, [롯데] 르까프 아동/성인 빅세일, 46, 남성 티셔츠/상의 기타\n",
      "0.0163, 3527569, [투데이특가] 아디다스 그래픽스케일, 91, 반팔 티셔츠\n",
      "0.0163, 3515690, [투데이특가] 닥스셔츠 긴/반팔 BEST, 81, 셔츠/남방\n",
      "0.0161, 3526985, [원더쿠폰] 봄 귀걸이,추가할인쿠폰, 42, 귀걸이\n",
      "0.0161, 3532677, [게릴라특가] 궁중 너비아니 4팩, 82, 가공육/양념육류\n",
      "0.0156, 3529131, 휴비딕 체온계 & 탕온도 특가전, 24, 유아건강/유아위생용품\n",
      "0.0154, 3521451, [투데이특가] 뮤지컬 닥터지바고 , 73, 라이선스\n",
      "0.0152, 3519199, [투데이특가] 서울 다이노코어-VIP석, 92, 어린이뮤지컬\n",
      "0.0152, 2258611, [사은품증정] 리빙웰 에어프라이어, 84, 튀김기\n",
      "0.0151, 3538332, [리빙위크] 사이오스 샴푸 + 증정품, 26, 샴푸/린스\n",
      "0.0151, 3529165, [하객패션] 락피쉬 18년S/S+20%쿠폰!, 70, 여성단화\n",
      "0.0149, 3506713, [플레이특가] 아티제 모바일상품권, 63, 생활쿠폰\n",
      "0.0148, 3521785, [쿠폰할인] 중고폰 노트5/S7/엣지, 51, 공기계-미사용/미개봉\n",
      "0.0145, 3527861, [투데이특가] 장조림 2팩+ 본죽 2팩!, 56, 반찬\n",
      "0.0144, 3507588, [투데이특가] 보노바스켓 정리함 80L, 87, 리빙박스/수납함\n",
      "0.0142, 3532552, [투데이특가] 맑음 배도라지 50팩, 86, 아기간식/아기음료\n",
      "0.0142, 2409745, [원더쿠폰] 과탄산소다 베이킹소다, 23, 세탁세제\n",
      "0.0141, 3509649, [리빙위크] 리빙숲 리빙박스72L 4개, 49, 리빙박스/수납함\n",
      "0.0140, 3521741, 아임닭 닭가슴살 슬라이스 15+1, 76, 닭고기\n",
      "0.0139, 3504137, [리빙위크] 비즈니스보루네오 소파, 78, 소파\n",
      "0.0138, 3539755, [게릴라특가] 판퍼즐&코코몽자석놀이, 41, 유아퍼즐\n",
      "0.0137, 3516354, [투데이특가] 닥터마밍 물티슈 캡×10, 48, 물티슈 기타\n",
      "0.0136, 3483431, [무료배송] 입맛살리는 명란파치 1kg, 53, 젓갈\n",
      "0.0136, 3512421, [투데이특가] 휴대용 핸디 선풍기!, 85, 휴대용 선풍기\n",
      "0.0136, 3511172, [컬러풀] GTX1060 6GB 그래픽카드, 80, 그래픽카드\n",
      "0.0135, 3517009, [투데이특가] 금구운란 30구 1판, 39, 과자/안주\n",
      "0.0135, 3519047, [투데이특가] 풀무원 간편국15+5입, 31, 즉석밥/국/카레\n",
      "0.0135, 3464309, [쿠폰할인] LG 공기청정기 AS181DAW, 57, 공기청정기\n",
      "0.0135, 3544562, [게릴라특가] 실리콘 주방용품 모음, 40, 조리도구\n",
      "0.0134, 3527675, [투데이특가] 파크론 주방매트 대+소, 20, 카페트/러그\n",
      "0.0134, 3515414, [투데이특가] 오뚜기 컵누들 10+5개, 68, 즉석밥/국/카레\n",
      "0.0132, 3527631, [투데이특가] 자외선차단 암막우산, 90, 생활잡화\n",
      "0.0131, 3515997, [블랙데이] 짜장면 치즈 케이크 大, 35, 초콜릿\n",
      "0.0130, 3508946, [리빙위크] 쉬즈홈 Best 이불 커튼, 64, 요\n",
      "0.0130, 3068897, [가전쿠폰] LG 13kg 통돌이세탁기, 37, 일반 세탁기\n",
      "0.0129, 3527824, [투데이특가] 우리밀 아이국수 8인분, 59, 아기간식/아기음료\n",
      "0.0129, 3500355, [투데이특가] 좋은느낌 생리대 38+38, 47, 화이트\n",
      "0.0129, 3518630, [투데이특가] 꺾어먹는 비요뜨 12개, 79, 두유/우유\n",
      "0.0128, 3513787, [리빙위크] 3M 정전기청소포/물걸레, 67, 밀대/청소포\n",
      "0.0128, 3512948, [투데이특가] 눈건강 루테인 5박스, 89, 개별인정형건강식품\n",
      "0.0128, 3498872, [투데이특가] 비닐/쓰레기봉투 600장, 54, 일회용품\n",
      "0.0127, 3533188, [투데이특가] 쁘띠첼 과일젤리 15개, 88, 캔디/껌/젤리\n",
      "0.0127, 3524294, [투데이특가] 여심저격 클루나드시계, 83, 패션시계\n",
      "0.0127, 3525124, [투데이특가] 더수 몰랑 물티슈 10팩, 38, 물티슈 기타\n",
      "0.0123, 3525346, [삼성생명 다이렉트] 보험 이벤트, 21, 기타\n",
      "0.0122, 3544419, [게릴라특가] 봄맞이 카페트 150x200, 71, 카페트/러그\n",
      "0.0121, 3119252, [역시트롬] LG 드럼세탁기 모음, 60, 드럼세탁기\n",
      "0.0120, 3061867, [추가쿠폰] 삼성 냉장고 RH81K8050SA, 50, 양문형 냉장고\n",
      "0.0120, 3505573, [무료배송] 까만색 잇몸치약 130g , 29, 칫솔/치약\n",
      "0.0120, 3521723, [투데이특가] 샤오미 공기청정기, 25, 공기청정기\n",
      "0.0113, 3477356, [공식판매점] LG 14kg 건조기 2종, 69, 의류 건조기/관리기\n"
     ]
    }
   ],
   "source": [
    "print_result(out, wepick_slot_dic)"
   ]
  },
  {
   "cell_type": "markdown",
   "metadata": {},
   "source": [
    "## 구매 did로 부터 랭킹 테스트\n",
    "\n",
    "- 구매 did 들의 word2vec을 사용"
   ]
  },
  {
   "cell_type": "code",
   "execution_count": 31,
   "metadata": {
    "collapsed": true
   },
   "outputs": [],
   "source": [
    "deals_user_purchased = mg_get_ordered_dids(1000007, limit=32)\n",
    "user_profile_dic = es_gather_word2vec_raw(list(deals_user_purchased))"
   ]
  },
  {
   "cell_type": "code",
   "execution_count": 32,
   "metadata": {
    "collapsed": true
   },
   "outputs": [],
   "source": [
    "U, ii = get_w2vec_matrix(user_profile_dic)\n",
    "V, jj = get_w2vec_matrix(deal_profile_dic)"
   ]
  },
  {
   "cell_type": "code",
   "execution_count": 33,
   "metadata": {
    "collapsed": true
   },
   "outputs": [],
   "source": [
    "W = get_random_walk_matrix(U, V)"
   ]
  },
  {
   "cell_type": "code",
   "execution_count": 34,
   "metadata": {
    "collapsed": true
   },
   "outputs": [],
   "source": [
    "out = get_refined_scores(calc_score_by_random_walk(W), extra_dic)"
   ]
  },
  {
   "cell_type": "code",
   "execution_count": 35,
   "metadata": {},
   "outputs": [
    {
     "name": "stdout",
     "output_type": "stream",
     "text": [
      "0.0407, 3513766, [어린이날] 해피버스 7부/자가드내의, 75, 내의/잠옷/속옷\n",
      "0.0342, 3525068, [엄마니까] 쁘띠뮤 여름 횡재가격!, 66, 아동공용의류\n",
      "0.0281, 3529131, 휴비딕 체온계 & 탕온도 특가전, 24, 유아건강/유아위생용품\n",
      "0.0278, 3527053, [투데이특가] 더사랑이 여름 아동복, 43, 아동공용의류\n",
      "0.0259, 3500355, [투데이특가] 좋은느낌 생리대 38+38, 47, 화이트\n",
      "0.0245, 3532552, [투데이특가] 맑음 배도라지 50팩, 86, 아기간식/아기음료\n",
      "0.0185, 3464309, [쿠폰할인] LG 공기청정기 AS181DAW, 57, 공기청정기\n",
      "0.0184, 3522395, [롯데] 르까프 아동/성인 빅세일, 46, 남성 티셔츠/상의 기타\n",
      "0.0178, 3519047, [투데이특가] 풀무원 간편국15+5입, 31, 즉석밥/국/카레\n",
      "0.0169, 3527569, [투데이특가] 아디다스 그래픽스케일, 91, 반팔 티셔츠\n",
      "0.0169, 3539755, [게릴라특가] 판퍼즐&코코몽자석놀이, 41, 유아퍼즐\n",
      "0.0163, 3515873, [투데이특가] 레이스 덧신 1+1+1, 65, 스타킹/양말\n",
      "0.0163, 3544419, [게릴라특가] 봄맞이 카페트 150x200, 71, 카페트/러그\n",
      "0.0161, 3518630, [투데이특가] 꺾어먹는 비요뜨 12개, 79, 두유/우유\n",
      "0.0157, 1438471, [20%쿠폰] 니베아 립밤 바디로션 , 34, 립케어\n",
      "0.0156, 3512215, [6천원쿠폰] 기습쿠폰전 오늘마지막!, 30, 색조메이크업\n",
      "0.0152, 3504137, [리빙위크] 비즈니스보루네오 소파, 78, 소파\n",
      "0.0151, 3507588, [투데이특가] 보노바스켓 정리함 80L, 87, 리빙박스/수납함\n",
      "0.0150, 3538332, [리빙위크] 사이오스 샴푸 + 증정품, 26, 샴푸/린스\n",
      "0.0148, 3526985, [원더쿠폰] 봄 귀걸이,추가할인쿠폰, 42, 귀걸이\n",
      "0.0148, 3527675, [투데이특가] 파크론 주방매트 대+소, 20, 카페트/러그\n",
      "0.0147, 3521785, [쿠폰할인] 중고폰 노트5/S7/엣지, 51, 공기계-미사용/미개봉\n",
      "0.0146, 3544562, [게릴라특가] 실리콘 주방용품 모음, 40, 조리도구\n",
      "0.0146, 3527824, [투데이특가] 우리밀 아이국수 8인분, 59, 아기간식/아기음료\n",
      "0.0144, 3521741, 아임닭 닭가슴살 슬라이스 15+1, 76, 닭고기\n",
      "0.0143, 3524547, [투데이특가] 1+ 한우 제비추리150g, 58, 한우\n",
      "0.0141, 3517009, [투데이특가] 금구운란 30구 1판, 39, 과자/안주\n",
      "0.0139, 3509649, [리빙위크] 리빙숲 리빙박스72L 4개, 49, 리빙박스/수납함\n",
      "0.0135, 3527861, [투데이특가] 장조림 2팩+ 본죽 2팩!, 56, 반찬\n",
      "0.0134, 3505573, [무료배송] 까만색 잇몸치약 130g , 29, 칫솔/치약\n",
      "0.0134, 3529165, [하객패션] 락피쉬 18년S/S+20%쿠폰!, 70, 여성단화\n",
      "0.0133, 3521723, [투데이특가] 샤오미 공기청정기, 25, 공기청정기\n",
      "0.0131, 3483431, [무료배송] 입맛살리는 명란파치 1kg, 53, 젓갈\n",
      "0.0131, 3522402, [무료배송] 에비수 본사특가 20%쿠폰, 44, 티셔츠\n",
      "0.0130, 3528363, [하객패션] 백화점 잡화 267종! +20%, 27, 벨트\n",
      "0.0128, 3515690, [투데이특가] 닥스셔츠 긴/반팔 BEST, 81, 셔츠/남방\n",
      "0.0128, 3533188, [투데이특가] 쁘띠첼 과일젤리 15개, 88, 캔디/껌/젤리\n",
      "0.0127, 3119252, [역시트롬] LG 드럼세탁기 모음, 60, 드럼세탁기\n",
      "0.0126, 3532677, [게릴라특가] 궁중 너비아니 4팩, 82, 가공육/양념육류\n",
      "0.0125, 3513787, [리빙위크] 3M 정전기청소포/물걸레, 67, 밀대/청소포\n",
      "0.0125, 3512593, [무료배송] 봄 아동복 브랜드 연합전, 36, 아동공용의류\n",
      "0.0124, 3525346, [삼성생명 다이렉트] 보험 이벤트, 21, 기타\n",
      "0.0123, 3061867, [추가쿠폰] 삼성 냉장고 RH81K8050SA, 50, 양문형 냉장고\n",
      "0.0123, 3511172, [컬러풀] GTX1060 6GB 그래픽카드, 80, 그래픽카드\n",
      "0.0122, 3508946, [리빙위크] 쉬즈홈 Best 이불 커튼, 64, 요\n",
      "0.0122, 3524294, [투데이특가] 여심저격 클루나드시계, 83, 패션시계\n",
      "0.0121, 3525124, [투데이특가] 더수 몰랑 물티슈 10팩, 38, 물티슈 기타\n",
      "0.0119, 3516354, [투데이특가] 닥터마밍 물티슈 캡×10, 48, 물티슈 기타\n",
      "0.0118, 3515414, [투데이특가] 오뚜기 컵누들 10+5개, 68, 즉석밥/국/카레\n",
      "0.0114, 3521451, [투데이특가] 뮤지컬 닥터지바고 , 73, 라이선스\n",
      "0.0113, 3068897, [가전쿠폰] LG 13kg 통돌이세탁기, 37, 일반 세탁기\n",
      "0.0112, 2409745, [원더쿠폰] 과탄산소다 베이킹소다, 23, 세탁세제\n",
      "0.0112, 3512421, [투데이특가] 휴대용 핸디 선풍기!, 85, 휴대용 선풍기\n",
      "0.0111, 3541064, [위메프] 10만 포인트+5,000P, 33, 온라인 이용권\n",
      "0.0109, 2258611, [사은품증정] 리빙웰 에어프라이어, 84, 튀김기\n",
      "0.0106, 3498872, [투데이특가] 비닐/쓰레기봉투 600장, 54, 일회용품\n",
      "0.0105, 3512948, [투데이특가] 눈건강 루테인 5박스, 89, 개별인정형건강식품\n",
      "0.0103, 3477356, [공식판매점] LG 14kg 건조기 2종, 69, 의류 건조기/관리기\n",
      "0.0103, 3525500, [하객패션] 포커스 봄구성완벽해, 74, 티셔츠\n",
      "0.0101, 3506713, [플레이특가] 아티제 모바일상품권, 63, 생활쿠폰\n",
      "0.0100, 3515997, [블랙데이] 짜장면 치즈 케이크 大, 35, 초콜릿\n",
      "0.0100, 3527631, [투데이특가] 자외선차단 암막우산, 90, 생활잡화\n",
      "0.0100, 3527477, [투데이특가] 니트/가디건/원피스 외, 61, 원피스\n",
      "0.0100, 3514459, [심야특가] 파파야 여성 의류 모음전, 32, 티셔츠\n",
      "0.0096, 3525317, [무료배송] 빅사이즈/원피스/롱티, 28, 원피스\n",
      "0.0095, 3515524, [무료배송] 롱티/티셔츠/원피스, 45, 티셔츠\n",
      "0.0088, 3527575, [무료배송] 프롬유 ~20%할인쿠폰, 55, 티셔츠\n",
      "0.0078, 3492158, [할인사건] 홍콩VS마카오 항공&자유, 77, 홍콩\n",
      "0.0076, 3519199, [투데이특가] 서울 다이노코어-VIP석, 92, 어린이뮤지컬\n",
      "0.0068, 3486081, 사이판 월드 골드 4/5일+마나가하, 22, 사이판\n"
     ]
    }
   ],
   "source": [
    "print_result(out, wepick_slot_dic)"
   ]
  },
  {
   "cell_type": "markdown",
   "metadata": {},
   "source": [
    "## 클릭 did로 부터 랭킹 테스트\n",
    "\n",
    "- 유저가 클릭한 did 들의 word2vec을 사용\n",
    "- use_search_induced_click==True 면, 검색후 클릭된 did만 가져온다."
   ]
  },
  {
   "cell_type": "code",
   "execution_count": 36,
   "metadata": {
    "collapsed": true
   },
   "outputs": [],
   "source": [
    "deals_user_search_click= mg_get_clicked_dids(1000007, limit=32, use_search_induced_click=True)\n",
    "user_profile_dic = es_gather_word2vec_raw(list(deals_user_search_click))"
   ]
  },
  {
   "cell_type": "code",
   "execution_count": 37,
   "metadata": {
    "collapsed": true
   },
   "outputs": [],
   "source": [
    "U, ii = get_w2vec_matrix(user_profile_dic)\n",
    "V, jj = get_w2vec_matrix(deal_profile_dic)"
   ]
  },
  {
   "cell_type": "code",
   "execution_count": 38,
   "metadata": {
    "collapsed": true
   },
   "outputs": [],
   "source": [
    "W = get_random_walk_matrix(U, V)"
   ]
  },
  {
   "cell_type": "code",
   "execution_count": 39,
   "metadata": {
    "collapsed": true
   },
   "outputs": [],
   "source": [
    "out = get_refined_scores(calc_score_by_random_walk(W), extra_dic)"
   ]
  },
  {
   "cell_type": "code",
   "execution_count": 40,
   "metadata": {},
   "outputs": [
    {
     "name": "stdout",
     "output_type": "stream",
     "text": [
      "0.0379, 3541064, [위메프] 10만 포인트+5,000P, 33, 온라인 이용권\n",
      "0.0362, 3521785, [쿠폰할인] 중고폰 노트5/S7/엣지, 51, 공기계-미사용/미개봉\n",
      "0.0269, 3504137, [리빙위크] 비즈니스보루네오 소파, 78, 소파\n",
      "0.0260, 3512215, [6천원쿠폰] 기습쿠폰전 오늘마지막!, 30, 색조메이크업\n",
      "0.0254, 3464309, [쿠폰할인] LG 공기청정기 AS181DAW, 57, 공기청정기\n",
      "0.0230, 3544419, [게릴라특가] 봄맞이 카페트 150x200, 71, 카페트/러그\n",
      "0.0218, 3527569, [투데이특가] 아디다스 그래픽스케일, 91, 반팔 티셔츠\n",
      "0.0209, 3511172, [컬러풀] GTX1060 6GB 그래픽카드, 80, 그래픽카드\n",
      "0.0207, 3061867, [추가쿠폰] 삼성 냉장고 RH81K8050SA, 50, 양문형 냉장고\n",
      "0.0201, 3507588, [투데이특가] 보노바스켓 정리함 80L, 87, 리빙박스/수납함\n",
      "0.0199, 3509649, [리빙위크] 리빙숲 리빙박스72L 4개, 49, 리빙박스/수납함\n",
      "0.0191, 1438471, [20%쿠폰] 니베아 립밤 바디로션 , 34, 립케어\n",
      "0.0181, 3512421, [투데이특가] 휴대용 핸디 선풍기!, 85, 휴대용 선풍기\n",
      "0.0180, 3521723, [투데이특가] 샤오미 공기청정기, 25, 공기청정기\n",
      "0.0176, 2258611, [사은품증정] 리빙웰 에어프라이어, 84, 튀김기\n",
      "0.0170, 3068897, [가전쿠폰] LG 13kg 통돌이세탁기, 37, 일반 세탁기\n",
      "0.0169, 3119252, [역시트롬] LG 드럼세탁기 모음, 60, 드럼세탁기\n",
      "0.0169, 3527675, [투데이특가] 파크론 주방매트 대+소, 20, 카페트/러그\n",
      "0.0161, 3544562, [게릴라특가] 실리콘 주방용품 모음, 40, 조리도구\n",
      "0.0161, 3524547, [투데이특가] 1+ 한우 제비추리150g, 58, 한우\n",
      "0.0155, 3532677, [게릴라특가] 궁중 너비아니 4팩, 82, 가공육/양념육류\n",
      "0.0154, 3519047, [투데이특가] 풀무원 간편국15+5입, 31, 즉석밥/국/카레\n",
      "0.0152, 3513787, [리빙위크] 3M 정전기청소포/물걸레, 67, 밀대/청소포\n",
      "0.0147, 3517009, [투데이특가] 금구운란 30구 1판, 39, 과자/안주\n",
      "0.0141, 3527861, [투데이특가] 장조림 2팩+ 본죽 2팩!, 56, 반찬\n",
      "0.0140, 3539755, [게릴라특가] 판퍼즐&코코몽자석놀이, 41, 유아퍼즐\n",
      "0.0140, 3508946, [리빙위크] 쉬즈홈 Best 이불 커튼, 64, 요\n",
      "0.0140, 3528363, [하객패션] 백화점 잡화 267종! +20%, 27, 벨트\n",
      "0.0138, 3525346, [삼성생명 다이렉트] 보험 이벤트, 21, 기타\n",
      "0.0137, 3532552, [투데이특가] 맑음 배도라지 50팩, 86, 아기간식/아기음료\n",
      "0.0137, 3515414, [투데이특가] 오뚜기 컵누들 10+5개, 68, 즉석밥/국/카레\n",
      "0.0137, 3518630, [투데이특가] 꺾어먹는 비요뜨 12개, 79, 두유/우유\n",
      "0.0135, 3483431, [무료배송] 입맛살리는 명란파치 1kg, 53, 젓갈\n",
      "0.0135, 3529131, 휴비딕 체온계 & 탕온도 특가전, 24, 유아건강/유아위생용품\n",
      "0.0135, 3492158, [할인사건] 홍콩VS마카오 항공&자유, 77, 홍콩\n",
      "0.0133, 3477356, [공식판매점] LG 14kg 건조기 2종, 69, 의류 건조기/관리기\n",
      "0.0131, 3522395, [롯데] 르까프 아동/성인 빅세일, 46, 남성 티셔츠/상의 기타\n",
      "0.0130, 3515690, [투데이특가] 닥스셔츠 긴/반팔 BEST, 81, 셔츠/남방\n",
      "0.0127, 3515997, [블랙데이] 짜장면 치즈 케이크 大, 35, 초콜릿\n",
      "0.0125, 3521741, 아임닭 닭가슴살 슬라이스 15+1, 76, 닭고기\n",
      "0.0125, 3522402, [무료배송] 에비수 본사특가 20%쿠폰, 44, 티셔츠\n",
      "0.0123, 3533188, [투데이특가] 쁘띠첼 과일젤리 15개, 88, 캔디/껌/젤리\n",
      "0.0117, 3505573, [무료배송] 까만색 잇몸치약 130g , 29, 칫솔/치약\n",
      "0.0113, 3527824, [투데이특가] 우리밀 아이국수 8인분, 59, 아기간식/아기음료\n",
      "0.0112, 3506713, [플레이특가] 아티제 모바일상품권, 63, 생활쿠폰\n",
      "0.0111, 3512593, [무료배송] 봄 아동복 브랜드 연합전, 36, 아동공용의류\n",
      "0.0110, 3524294, [투데이특가] 여심저격 클루나드시계, 83, 패션시계\n",
      "0.0108, 3526985, [원더쿠폰] 봄 귀걸이,추가할인쿠폰, 42, 귀걸이\n",
      "0.0107, 3486081, 사이판 월드 골드 4/5일+마나가하, 22, 사이판\n",
      "0.0105, 3512948, [투데이특가] 눈건강 루테인 5박스, 89, 개별인정형건강식품\n",
      "0.0105, 3529165, [하객패션] 락피쉬 18년S/S+20%쿠폰!, 70, 여성단화\n",
      "0.0102, 3538332, [리빙위크] 사이오스 샴푸 + 증정품, 26, 샴푸/린스\n",
      "0.0101, 3521451, [투데이특가] 뮤지컬 닥터지바고 , 73, 라이선스\n",
      "0.0101, 3525500, [하객패션] 포커스 봄구성완벽해, 74, 티셔츠\n",
      "0.0098, 3516354, [투데이특가] 닥터마밍 물티슈 캡×10, 48, 물티슈 기타\n",
      "0.0096, 2409745, [원더쿠폰] 과탄산소다 베이킹소다, 23, 세탁세제\n",
      "0.0094, 3498872, [투데이특가] 비닐/쓰레기봉투 600장, 54, 일회용품\n",
      "0.0092, 3515524, [무료배송] 롱티/티셔츠/원피스, 45, 티셔츠\n",
      "0.0091, 3513766, [어린이날] 해피버스 7부/자가드내의, 75, 내의/잠옷/속옷\n",
      "0.0090, 3527477, [투데이특가] 니트/가디건/원피스 외, 61, 원피스\n",
      "0.0085, 3525068, [엄마니까] 쁘띠뮤 여름 횡재가격!, 66, 아동공용의류\n",
      "0.0083, 3519199, [투데이특가] 서울 다이노코어-VIP석, 92, 어린이뮤지컬\n",
      "0.0082, 3527631, [투데이특가] 자외선차단 암막우산, 90, 생활잡화\n",
      "0.0081, 3525124, [투데이특가] 더수 몰랑 물티슈 10팩, 38, 물티슈 기타\n",
      "0.0080, 3525317, [무료배송] 빅사이즈/원피스/롱티, 28, 원피스\n",
      "0.0080, 3514459, [심야특가] 파파야 여성 의류 모음전, 32, 티셔츠\n",
      "0.0076, 3527575, [무료배송] 프롬유 ~20%할인쿠폰, 55, 티셔츠\n",
      "0.0075, 3500355, [투데이특가] 좋은느낌 생리대 38+38, 47, 화이트\n",
      "0.0073, 3515873, [투데이특가] 레이스 덧신 1+1+1, 65, 스타킹/양말\n",
      "0.0072, 3527053, [투데이특가] 더사랑이 여름 아동복, 43, 아동공용의류\n"
     ]
    }
   ],
   "source": [
    "print_result(out, wepick_slot_dic)"
   ]
  }
 ],
 "metadata": {
  "kernelspec": {
   "display_name": "Python 3",
   "language": "python",
   "name": "python3"
  },
  "language_info": {
   "codemirror_mode": {
    "name": "ipython",
    "version": 3
   },
   "file_extension": ".py",
   "mimetype": "text/x-python",
   "name": "python",
   "nbconvert_exporter": "python",
   "pygments_lexer": "ipython3",
   "version": "3.6.2"
  }
 },
 "nbformat": 4,
 "nbformat_minor": 2
}
