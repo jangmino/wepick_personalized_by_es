{
 "cells": [
  {
   "cell_type": "markdown",
   "metadata": {},
   "source": [
    "# Word2Vec 를 통한 위픽 개인화 테스트\n",
    "\n"
   ]
  },
  {
   "cell_type": "code",
   "execution_count": 54,
   "metadata": {
    "collapsed": true
   },
   "outputs": [],
   "source": [
    "import requests\n",
    "import time\n",
    "import urllib\n",
    "import matplotlib.pyplot as plt\n",
    "import matplotlib.font_manager as fm\n",
    "import json\n",
    "import elasticsearch\n",
    "import csv\n",
    "import pickle\n",
    "from elasticsearch.helpers import bulk\n",
    "import re\n",
    "import glob\n",
    "import os\n",
    "from datetime import timezone, timedelta, datetime\n",
    "from pymongo import MongoClient\n",
    "import pymongo\n",
    "import pandas as pd\n",
    "import numpy as np\n",
    "from operator import itemgetter"
   ]
  },
  {
   "cell_type": "code",
   "execution_count": 55,
   "metadata": {
    "collapsed": true
   },
   "outputs": [],
   "source": [
    "### twiceSpark1\n",
    "es_url = '10.102.50.47:9200'"
   ]
  },
  {
   "cell_type": "code",
   "execution_count": 56,
   "metadata": {
    "collapsed": true
   },
   "outputs": [],
   "source": [
    "es = elasticsearch.Elasticsearch(es_url)"
   ]
  },
  {
   "cell_type": "markdown",
   "metadata": {},
   "source": [
    "## ES 관련 루틴\n"
   ]
  },
  {
   "cell_type": "code",
   "execution_count": 57,
   "metadata": {
    "collapsed": true
   },
   "outputs": [],
   "source": [
    "def es_search_dids_for_user(user_id, day_limit):\n",
    "    \"\"\"\n",
    "    user_id의 모든 v 가져오기\n",
    "    day_limit 이전 것만 가져온다.\n",
    "    return\n",
    "    - 1st: v의 set\n",
    "    - 2nd: 확장 정보 (v, rgtime, slot)\n",
    "    \"\"\"\n",
    "    res = es.search(index='wepick_seq', \n",
    "                body={\n",
    "                  \"query\": {\n",
    "                    \"bool\": {\n",
    "                      \"must\": { \n",
    "                        \"term\": {\"u\":user_id}\n",
    "                      },\n",
    "                      \"filter\": {\n",
    "                        \"range\" : {\n",
    "                          \"rgtime\" : {\n",
    "                          \"lt\" : day_limit\n",
    "                          }\n",
    "                        }\n",
    "                      }\n",
    "                    }\n",
    "                  },\n",
    "                  \"size\": 64,\n",
    "                  \"sort\": {\"rgtime\":\"desc\"}\n",
    "                                }\n",
    "               )\n",
    "    if res['hits']['total'] > 0:\n",
    "        until_dt = pd.to_datetime(day_limit).to_pydatetime()\n",
    "        filtered = []\n",
    "        for hit in res['hits']['hits']:\n",
    "            filtered.append((hit['_source']['v'], hit['_source']['rgtime'], hit['_source']['slot']))\n",
    "        return set(map(lambda x: x[0], filtered)), filtered\n",
    "    return None, None"
   ]
  },
  {
   "cell_type": "code",
   "execution_count": 58,
   "metadata": {
    "collapsed": true
   },
   "outputs": [],
   "source": [
    "def es_gather_word2vec_dids(dids):\n",
    "    \"\"\"\n",
    "    dids로부터, word2vec을 모은다.\n",
    "    - 모아서, average pooling 실시\n",
    "    return\n",
    "    - vector normalized by L2-norm\n",
    "    \"\"\"\n",
    "    res = es.search(index='deal_word2vec', \n",
    "                body={\n",
    "                    'from':0, 'size': len(dids),\n",
    "                    \"_source\": [\"values\"],\n",
    "                    'query': {\n",
    "                        'ids': {'values': dids }\n",
    "                        }                        \n",
    "                    }\n",
    "               )\n",
    "    mat = []\n",
    "    for hit in res['hits']['hits']:\n",
    "        vec = np.array(hit['_source']['values'])\n",
    "        if len(vec) > 0:\n",
    "            mat.append(vec)\n",
    "    vec = np.mean(np.vstack(mat), axis=0)\n",
    "    vec /= np.sqrt(np.sum(vec**2))\n",
    "    return vec\n"
   ]
  },
  {
   "cell_type": "code",
   "execution_count": 59,
   "metadata": {
    "collapsed": true
   },
   "outputs": [],
   "source": [
    "def es_gather_word2vec_wepick(dids):\n",
    "    \"\"\"\n",
    "    dids로부터, word2vec을 모은다.\n",
    "    return\n",
    "    - dids: unit-length w2v (normalized by L2-norm)\n",
    "    \"\"\"\n",
    "    res = es.search(index='deal_word2vec', \n",
    "                body={\n",
    "                    'from':0, 'size': len(dids),\n",
    "                    \"_source\": [\"values\", \"v\"],\n",
    "                    'query': {\n",
    "                        'ids': {'values': dids }\n",
    "                        }                        \n",
    "                    }\n",
    "               )\n",
    "    dic = {}\n",
    "    for hit in res['hits']['hits']:\n",
    "        did = hit['_source']['v']\n",
    "        vec = np.array(hit['_source']['values'])\n",
    "        if len(vec) > 0:\n",
    "            vec /= np.sqrt(np.sum(vec**2))\n",
    "            dic[did] = vec\n",
    "    return dic\n"
   ]
  },
  {
   "cell_type": "code",
   "execution_count": 60,
   "metadata": {
    "collapsed": true
   },
   "outputs": [],
   "source": [
    "def es_read_wepick_setting(dt, start_slot=20):\n",
    "    \"\"\"\n",
    "    위픽 세팅 로딩\n",
    "    \"\"\"\n",
    "    res = es.search(index='wepick_setting_ext', \n",
    "                body={\n",
    "                    'query': {\n",
    "                        'term': {'dt': dt }\n",
    "                        }                        \n",
    "                    }\n",
    "               )\n",
    "    if res['hits']['total'] > 0:\n",
    "        dic = {}\n",
    "        vec = []\n",
    "        for s in res['hits']['hits'][0]['_source']['settings']:\n",
    "            if s['slot'] >= start_slot:\n",
    "                dic[s['slot']] = s['did']\n",
    "                vec.append(s['did'])\n",
    "        return vec, dic\n",
    "    return None, None"
   ]
  },
  {
   "cell_type": "code",
   "execution_count": 61,
   "metadata": {
    "collapsed": true
   },
   "outputs": [],
   "source": [
    "def es_scan_extra_by_dids(dids):\n",
    "    \"\"\"\n",
    "    dids로부터, mn, tn1를 가져온다.\n",
    "    \"\"\"\n",
    "    res = es.search(index='dealinfos', \n",
    "                body={\n",
    "                    'from':0, 'size': len(dids),\n",
    "                    \"_source\": [\"mn\", \"tn1\", \"did\"],\n",
    "                    'query': {\n",
    "                        'ids': {'values': dids }\n",
    "                        }                        \n",
    "                    }\n",
    "               )\n",
    "    dic = {}\n",
    "    for hit in res['hits']['hits']:\n",
    "        dic[hit['_source']['did']] = (hit['_source']['mn'], hit['_source']['tn1'])\n",
    "    return dic"
   ]
  },
  {
   "cell_type": "markdown",
   "metadata": {
    "collapsed": true
   },
   "source": [
    "### mongoDB for ActionInfos2"
   ]
  },
  {
   "cell_type": "code",
   "execution_count": 62,
   "metadata": {
    "collapsed": true
   },
   "outputs": [],
   "source": [
    "client = MongoClient(host='35.190.239.204', port=27017, username='praha_read', password='praha!@#', authSource='praha')\n",
    "\n",
    "db = client['praha']\n",
    "\n",
    "col = db['memberActionInfos2']"
   ]
  },
  {
   "cell_type": "code",
   "execution_count": 63,
   "metadata": {
    "collapsed": true
   },
   "outputs": [],
   "source": [
    "def mg_get_ordered_dids(mid, lt_day=\"20180411\", limit=32):\n",
    "    \"\"\"\n",
    "    구매한 딜들을 조회\n",
    "    \"\"\"\n",
    "    result = col.find({\"mid\":mid, 'ft.o':{\"$ne\":[]}, 'day':{\"$lt\":lt_day}}, {'day':1, 'ft.o': 1, '_id':0}).sort('day', pymongo.DESCENDING).limit(limit)\n",
    "    out = set()\n",
    "    for res in result:\n",
    "        out.update(list(map(lambda x: x['did'], res['ft']['o'])))\n",
    "    return out"
   ]
  },
  {
   "cell_type": "code",
   "execution_count": 64,
   "metadata": {
    "collapsed": true
   },
   "outputs": [],
   "source": [
    "def mg_get_clicked_dids(mid, lt_day=\"20180411\", limit=32, use_search_induced_click=False):\n",
    "    \"\"\"\n",
    "    클릭한 딜들을 조회\n",
    "    \"\"\"\n",
    "    result = col.find({\"mid\":mid, 'ft.c':{\"$ne\":[]}, 'day':{\"$lt\":lt_day}}, {'day':1, 'ft.c': 1, '_id':0}).sort('day', pymongo.DESCENDING).limit(limit)\n",
    "    out = set()\n",
    "    for res in result:\n",
    "        out.update(list(map(lambda x: x['did'], \n",
    "                            res['ft']['c'] if use_search_induced_click == False else filter(lambda x: x['s'] != '', res['ft']['c'])\n",
    "                           )))\n",
    "    return out"
   ]
  },
  {
   "cell_type": "markdown",
   "metadata": {},
   "source": [
    "### Wepick Setting load"
   ]
  },
  {
   "cell_type": "code",
   "execution_count": 65,
   "metadata": {
    "collapsed": true
   },
   "outputs": [],
   "source": [
    "# 2018-04-11 21 시의 위픽 세팅 로딩\n",
    "wepick_setting, wepick_dic = es_read_wepick_setting('2018-04-11 21')"
   ]
  },
  {
   "cell_type": "code",
   "execution_count": 66,
   "metadata": {
    "collapsed": true
   },
   "outputs": [],
   "source": [
    "wepick_slot_dic = dict(zip(wepick_dic.values(), wepick_dic.keys()))"
   ]
  },
  {
   "cell_type": "markdown",
   "metadata": {},
   "source": [
    "## Ranking 관련"
   ]
  },
  {
   "cell_type": "code",
   "execution_count": null,
   "metadata": {
    "collapsed": true
   },
   "outputs": [],
   "source": []
  },
  {
   "cell_type": "code",
   "execution_count": 67,
   "metadata": {
    "collapsed": true
   },
   "outputs": [],
   "source": [
    "def calc_rank(user_profile, deal_profile_dic):\n",
    "    \"\"\"\n",
    "    user_profile, deal_profile의 inner product를 통한 점수 계산 및 정렬 (내림차순)\n",
    "    \"\"\"\n",
    "    scores = []\n",
    "    for did, deal_profile in deal_profile_dic.items():\n",
    "        scores.append((did, np.inner(user_profile, deal_profile)))\n",
    "    return sorted(scores, key=itemgetter(1), reverse=True)"
   ]
  },
  {
   "cell_type": "code",
   "execution_count": 68,
   "metadata": {
    "collapsed": true
   },
   "outputs": [],
   "source": [
    "def get_refined_scores(scores, extra_dic):\n",
    "    refined_scores = []\n",
    "    for did, score in scores:\n",
    "        if did in extra_dic:\n",
    "            refined_scores.append((score, did, extra_dic[did][0], extra_dic[did][1]))\n",
    "        else:\n",
    "            refined_scores.append((score, did, \"\", \"\"))\n",
    "    return refined_scores"
   ]
  },
  {
   "cell_type": "code",
   "execution_count": 69,
   "metadata": {
    "collapsed": true
   },
   "outputs": [],
   "source": [
    "def print_result(out, wepick_slot_dic):\n",
    "    for s, did, title, cate in out:\n",
    "        org_slot = wepick_slot_dic[did] if did in wepick_slot_dic else -1\n",
    "        print(\"{:0.4f}, {}, {}, {}, {}\".format(s, did, title, org_slot, cate))\n",
    "            "
   ]
  },
  {
   "cell_type": "markdown",
   "metadata": {},
   "source": [
    "### deal_profile loading"
   ]
  },
  {
   "cell_type": "code",
   "execution_count": 70,
   "metadata": {
    "collapsed": true
   },
   "outputs": [],
   "source": [
    "# 위픽 세팅에 따른 딜들에 대한 deal_profile을 생성\n",
    "deal_profile_dic = es_gather_word2vec_wepick(wepick_setting)"
   ]
  },
  {
   "cell_type": "markdown",
   "metadata": {},
   "source": [
    "### 3월 11 -  4월 10일까지 위픽 클릭 데이터에 대해 구성한 user_profile에 대한 테스트"
   ]
  },
  {
   "cell_type": "code",
   "execution_count": 18,
   "metadata": {
    "collapsed": true
   },
   "outputs": [],
   "source": [
    "deals_user_viewed, ex = es_search_dids_for_user(1000007, '2018-04-11')"
   ]
  },
  {
   "cell_type": "code",
   "execution_count": 19,
   "metadata": {
    "collapsed": true,
    "scrolled": true
   },
   "outputs": [],
   "source": [
    "user_profile = es_gather_word2vec_dids(list(deals_user_viewed))"
   ]
  },
  {
   "cell_type": "code",
   "execution_count": 20,
   "metadata": {
    "collapsed": true
   },
   "outputs": [],
   "source": [
    "scores = calc_rank(user_profile, deal_profile_dic)"
   ]
  },
  {
   "cell_type": "code",
   "execution_count": 21,
   "metadata": {
    "collapsed": true
   },
   "outputs": [],
   "source": [
    "extra_dic = es_scan_extra_by_dids(wepick_setting)"
   ]
  },
  {
   "cell_type": "code",
   "execution_count": 22,
   "metadata": {
    "collapsed": true
   },
   "outputs": [],
   "source": [
    "out = get_refined_scores(scores, extra_dic)"
   ]
  },
  {
   "cell_type": "code",
   "execution_count": 23,
   "metadata": {},
   "outputs": [
    {
     "name": "stdout",
     "output_type": "stream",
     "text": [
      "0.5703, 3515524, [무료배송] 롱티/티셔츠/원피스, 45, 티셔츠\n",
      "0.5493, 3512593, [무료배송] 봄 아동복 브랜드 연합전, 36, 아동공용의류\n",
      "0.5153, 3525317, [무료배송] 빅사이즈/원피스/롱티, 28, 원피스\n",
      "0.5056, 3522402, [무료배송] 에비수 본사특가 20%쿠폰, 44, 티셔츠\n",
      "0.5023, 3525500, [하객패션] 포커스 봄구성완벽해, 74, 티셔츠\n",
      "0.4645, 3527477, [투데이특가] 니트/가디건/원피스 외, 61, 원피스\n",
      "0.4423, 3527575, [무료배송] 프롬유 ~20%할인쿠폰, 55, 티셔츠\n",
      "0.4050, 3514459, [심야특가] 파파야 여성 의류 모음전, 32, 티셔츠\n",
      "0.3279, 3528363, [하객패션] 백화점 잡화 267종! +20%, 27, 벨트\n",
      "0.2937, 3524547, [투데이특가] 1+ 한우 제비추리150g, 58, 한우\n",
      "0.2620, 3522395, [롯데] 르까프 아동/성인 빅세일, 46, 남성 티셔츠/상의 기타\n",
      "0.2546, 3527569, [투데이특가] 아디다스 그래픽스케일, 91, 반팔 티셔츠\n",
      "0.2501, 3512215, [6천원쿠폰] 기습쿠폰전 오늘마지막!, 30, 색조메이크업\n",
      "0.2440, 3515690, [투데이특가] 닥스셔츠 긴/반팔 BEST, 81, 셔츠/남방\n",
      "0.2366, 3532677, [게릴라특가] 궁중 너비아니 4팩, 82, 가공육/양념육류\n",
      "0.2152, 2258611, [사은품증정] 리빙웰 에어프라이어, 84, 튀김기\n",
      "0.1976, 3492158, [할인사건] 홍콩VS마카오 항공&자유, 77, 홍콩\n",
      "0.1813, 3541064, [위메프] 10만 포인트+5,000P, 33, 온라인 이용권\n",
      "0.1485, 3511172, [컬러풀] GTX1060 6GB 그래픽카드, 80, 그래픽카드\n",
      "0.1373, 3498872, [투데이특가] 비닐/쓰레기봉투 600장, 54, 일회용품\n",
      "0.1222, 3526985, [원더쿠폰] 봄 귀걸이,추가할인쿠폰, 42, 귀걸이\n",
      "0.1171, 3517009, [투데이특가] 금구운란 30구 1판, 39, 과자/안주\n",
      "0.1110, 3068897, [가전쿠폰] LG 13kg 통돌이세탁기, 37, 일반 세탁기\n",
      "0.0945, 3512421, [투데이특가] 휴대용 핸디 선풍기!, 85, 휴대용 선풍기\n",
      "0.0905, 3529165, [하객패션] 락피쉬 18년S/S+20%쿠폰!, 70, 여성단화\n",
      "0.0816, 3527824, [투데이특가] 우리밀 아이국수 8인분, 59, 아기간식/아기음료\n",
      "0.0716, 3521741, 아임닭 닭가슴살 슬라이스 15+1, 76, 닭고기\n",
      "0.0673, 2409745, [원더쿠폰] 과탄산소다 베이킹소다, 23, 세탁세제\n",
      "0.0672, 3504137, [리빙위크] 비즈니스보루네오 소파, 78, 소파\n",
      "0.0648, 3500355, [투데이특가] 좋은느낌 생리대 38+38, 47, 화이트\n",
      "0.0638, 3515997, [블랙데이] 짜장면 치즈 케이크 大, 35, 초콜릿\n",
      "0.0605, 3527053, [투데이특가] 더사랑이 여름 아동복, 43, 아동공용의류\n",
      "0.0588, 3533188, [투데이특가] 쁘띠첼 과일젤리 15개, 88, 캔디/껌/젤리\n",
      "0.0567, 3483431, [무료배송] 입맛살리는 명란파치 1kg, 53, 젓갈\n",
      "0.0559, 3512948, [투데이특가] 눈건강 루테인 5박스, 89, 개별인정형건강식품\n",
      "0.0557, 3518630, [투데이특가] 꺾어먹는 비요뜨 12개, 79, 두유/우유\n",
      "0.0552, 3515414, [투데이특가] 오뚜기 컵누들 10+5개, 68, 즉석밥/국/카레\n",
      "0.0547, 3538332, [리빙위크] 사이오스 샴푸 + 증정품, 26, 샴푸/린스\n",
      "0.0472, 3527631, [투데이특가] 자외선차단 암막우산, 90, 생활잡화\n",
      "0.0464, 3506713, [플레이특가] 아티제 모바일상품권, 63, 생활쿠폰\n",
      "0.0460, 3519047, [투데이특가] 풀무원 간편국15+5입, 31, 즉석밥/국/카레\n",
      "0.0456, 3508946, [리빙위크] 쉬즈홈 Best 이불 커튼, 64, 요\n",
      "0.0450, 3486081, 사이판 월드 골드 4/5일+마나가하, 22, 사이판\n",
      "0.0382, 3527861, [투데이특가] 장조림 2팩+ 본죽 2팩!, 56, 반찬\n",
      "0.0298, 3509649, [리빙위크] 리빙숲 리빙박스72L 4개, 49, 리빙박스/수납함\n",
      "0.0258, 3515873, [투데이특가] 레이스 덧신 1+1+1, 65, 스타킹/양말\n",
      "0.0214, 3505573, [무료배송] 까만색 잇몸치약 130g , 29, 칫솔/치약\n",
      "0.0122, 3525346, [삼성생명 다이렉트] 보험 이벤트, 21, 기타\n",
      "0.0071, 3544562, [게릴라특가] 실리콘 주방용품 모음, 40, 조리도구\n",
      "0.0058, 1438471, [20%쿠폰] 니베아 립밤 바디로션 , 34, 립케어\n",
      "0.0014, 3464309, [쿠폰할인] LG 공기청정기 AS181DAW, 57, 공기청정기\n",
      "-0.0222, 3513766, [어린이날] 해피버스 7부/자가드내의, 75, 내의/잠옷/속옷\n",
      "-0.0266, 3521785, [쿠폰할인] 중고폰 노트5/S7/엣지, 51, 공기계-미사용/미개봉\n",
      "-0.0309, 3519199, [투데이특가] 서울 다이노코어-VIP석, 92, 어린이뮤지컬\n",
      "-0.0350, 3507588, [투데이특가] 보노바스켓 정리함 80L, 87, 리빙박스/수납함\n",
      "-0.0360, 3513787, [리빙위크] 3M 정전기청소포/물걸레, 67, 밀대/청소포\n",
      "-0.0420, 3524294, [투데이특가] 여심저격 클루나드시계, 83, 패션시계\n",
      "-0.0469, 3525068, [엄마니까] 쁘띠뮤 여름 횡재가격!, 66, 아동공용의류\n",
      "-0.0567, 3119252, [역시트롬] LG 드럼세탁기 모음, 60, 드럼세탁기\n",
      "-0.0604, 3521723, [투데이특가] 샤오미 공기청정기, 25, 공기청정기\n",
      "-0.0732, 3521451, [투데이특가] 뮤지컬 닥터지바고 , 73, 라이선스\n",
      "-0.0748, 3477356, [공식판매점] LG 14kg 건조기 2종, 69, 의류 건조기/관리기\n",
      "-0.0811, 3516354, [투데이특가] 닥터마밍 물티슈 캡×10, 48, 물티슈 기타\n",
      "-0.1060, 3544419, [게릴라특가] 봄맞이 카페트 150x200, 71, 카페트/러그\n",
      "-0.1108, 3539755, [게릴라특가] 판퍼즐&코코몽자석놀이, 41, 유아퍼즐\n",
      "-0.1156, 3529131, 휴비딕 체온계 & 탕온도 특가전, 24, 유아건강/유아위생용품\n",
      "-0.1446, 3061867, [추가쿠폰] 삼성 냉장고 RH81K8050SA, 50, 양문형 냉장고\n",
      "-0.1454, 3527675, [투데이특가] 파크론 주방매트 대+소, 20, 카페트/러그\n",
      "-0.2049, 3532552, [투데이특가] 맑음 배도라지 50팩, 86, 아기간식/아기음료\n",
      "-0.2722, 3525124, [투데이특가] 더수 몰랑 물티슈 10팩, 38, 물티슈 기타\n"
     ]
    }
   ],
   "source": [
    "print_result(out, wepick_slot_dic)"
   ]
  },
  {
   "cell_type": "markdown",
   "metadata": {},
   "source": [
    "### 구매 did로 부터 랭킹 테스트\n",
    "\n",
    "- 구매 did 들의 word2vec을 사용"
   ]
  },
  {
   "cell_type": "code",
   "execution_count": 34,
   "metadata": {
    "collapsed": true
   },
   "outputs": [],
   "source": [
    "dids = mg_get_ordered_dids(1000007, limit=32)"
   ]
  },
  {
   "cell_type": "code",
   "execution_count": 35,
   "metadata": {
    "collapsed": true
   },
   "outputs": [],
   "source": [
    "user_profile = es_gather_word2vec_dids(list(dids))"
   ]
  },
  {
   "cell_type": "code",
   "execution_count": 36,
   "metadata": {
    "collapsed": true
   },
   "outputs": [],
   "source": [
    "scores = calc_rank(user_profile, deal_profile_dic)"
   ]
  },
  {
   "cell_type": "code",
   "execution_count": 37,
   "metadata": {
    "collapsed": true
   },
   "outputs": [],
   "source": [
    "out = get_refined_scores(scores, extra_dic)"
   ]
  },
  {
   "cell_type": "code",
   "execution_count": 38,
   "metadata": {},
   "outputs": [
    {
     "name": "stdout",
     "output_type": "stream",
     "text": [
      "0.3364, 3522395, [롯데] 르까프 아동/성인 빅세일, 46, 남성 티셔츠/상의 기타\n",
      "0.2963, 3505573, [무료배송] 까만색 잇몸치약 130g , 29, 칫솔/치약\n",
      "0.2854, 3515690, [투데이특가] 닥스셔츠 긴/반팔 BEST, 81, 셔츠/남방\n",
      "0.2835, 3518630, [투데이특가] 꺾어먹는 비요뜨 12개, 79, 두유/우유\n",
      "0.2562, 3519047, [투데이특가] 풀무원 간편국15+5입, 31, 즉석밥/국/카레\n",
      "0.2536, 3524294, [투데이특가] 여심저격 클루나드시계, 83, 패션시계\n",
      "0.2525, 3528363, [하객패션] 백화점 잡화 267종! +20%, 27, 벨트\n",
      "0.2378, 3522402, [무료배송] 에비수 본사특가 20%쿠폰, 44, 티셔츠\n",
      "0.2320, 3524547, [투데이특가] 1+ 한우 제비추리150g, 58, 한우\n",
      "0.2316, 3119252, [역시트롬] LG 드럼세탁기 모음, 60, 드럼세탁기\n",
      "0.2310, 3521785, [쿠폰할인] 중고폰 노트5/S7/엣지, 51, 공기계-미사용/미개봉\n",
      "0.2255, 3529165, [하객패션] 락피쉬 18년S/S+20%쿠폰!, 70, 여성단화\n",
      "0.2212, 3512421, [투데이특가] 휴대용 핸디 선풍기!, 85, 휴대용 선풍기\n",
      "0.2193, 3527824, [투데이특가] 우리밀 아이국수 8인분, 59, 아기간식/아기음료\n",
      "0.2154, 3464309, [쿠폰할인] LG 공기청정기 AS181DAW, 57, 공기청정기\n",
      "0.2127, 3512593, [무료배송] 봄 아동복 브랜드 연합전, 36, 아동공용의류\n",
      "0.1932, 3527569, [투데이특가] 아디다스 그래픽스케일, 91, 반팔 티셔츠\n",
      "0.1919, 1438471, [20%쿠폰] 니베아 립밤 바디로션 , 34, 립케어\n",
      "0.1898, 3544562, [게릴라특가] 실리콘 주방용품 모음, 40, 조리도구\n",
      "0.1719, 3521741, 아임닭 닭가슴살 슬라이스 15+1, 76, 닭고기\n",
      "0.1604, 3517009, [투데이특가] 금구운란 30구 1판, 39, 과자/안주\n",
      "0.1504, 3538332, [리빙위크] 사이오스 샴푸 + 증정품, 26, 샴푸/린스\n",
      "0.1498, 3513787, [리빙위크] 3M 정전기청소포/물걸레, 67, 밀대/청소포\n",
      "0.1457, 3507588, [투데이특가] 보노바스켓 정리함 80L, 87, 리빙박스/수납함\n",
      "0.1454, 3512215, [6천원쿠폰] 기습쿠폰전 오늘마지막!, 30, 색조메이크업\n",
      "0.1423, 3504137, [리빙위크] 비즈니스보루네오 소파, 78, 소파\n",
      "0.1307, 3477356, [공식판매점] LG 14kg 건조기 2종, 69, 의류 건조기/관리기\n",
      "0.1280, 3525346, [삼성생명 다이렉트] 보험 이벤트, 21, 기타\n",
      "0.1269, 3483431, [무료배송] 입맛살리는 명란파치 1kg, 53, 젓갈\n",
      "0.1240, 3511172, [컬러풀] GTX1060 6GB 그래픽카드, 80, 그래픽카드\n",
      "0.1103, 3515873, [투데이특가] 레이스 덧신 1+1+1, 65, 스타킹/양말\n",
      "0.1059, 3521723, [투데이특가] 샤오미 공기청정기, 25, 공기청정기\n",
      "0.1020, 3068897, [가전쿠폰] LG 13kg 통돌이세탁기, 37, 일반 세탁기\n",
      "0.0943, 3527861, [투데이특가] 장조림 2팩+ 본죽 2팩!, 56, 반찬\n",
      "0.0889, 3515414, [투데이특가] 오뚜기 컵누들 10+5개, 68, 즉석밥/국/카레\n",
      "0.0881, 3527631, [투데이특가] 자외선차단 암막우산, 90, 생활잡화\n",
      "0.0804, 3508946, [리빙위크] 쉬즈홈 Best 이불 커튼, 64, 요\n",
      "0.0772, 3500355, [투데이특가] 좋은느낌 생리대 38+38, 47, 화이트\n",
      "0.0742, 3515997, [블랙데이] 짜장면 치즈 케이크 大, 35, 초콜릿\n",
      "0.0726, 3509649, [리빙위크] 리빙숲 리빙박스72L 4개, 49, 리빙박스/수납함\n",
      "0.0704, 3532677, [게릴라특가] 궁중 너비아니 4팩, 82, 가공육/양념육류\n",
      "0.0675, 3498872, [투데이특가] 비닐/쓰레기봉투 600장, 54, 일회용품\n",
      "0.0664, 3512948, [투데이특가] 눈건강 루테인 5박스, 89, 개별인정형건강식품\n",
      "0.0609, 3514459, [심야특가] 파파야 여성 의류 모음전, 32, 티셔츠\n",
      "0.0558, 3544419, [게릴라특가] 봄맞이 카페트 150x200, 71, 카페트/러그\n",
      "0.0545, 3061867, [추가쿠폰] 삼성 냉장고 RH81K8050SA, 50, 양문형 냉장고\n",
      "0.0495, 3541064, [위메프] 10만 포인트+5,000P, 33, 온라인 이용권\n",
      "0.0458, 3527675, [투데이특가] 파크론 주방매트 대+소, 20, 카페트/러그\n",
      "0.0432, 3529131, 휴비딕 체온계 & 탕온도 특가전, 24, 유아건강/유아위생용품\n",
      "0.0400, 3527477, [투데이특가] 니트/가디건/원피스 외, 61, 원피스\n",
      "0.0387, 3526985, [원더쿠폰] 봄 귀걸이,추가할인쿠폰, 42, 귀걸이\n",
      "0.0301, 3539755, [게릴라특가] 판퍼즐&코코몽자석놀이, 41, 유아퍼즐\n",
      "0.0193, 3533188, [투데이특가] 쁘띠첼 과일젤리 15개, 88, 캔디/껌/젤리\n",
      "0.0168, 3532552, [투데이특가] 맑음 배도라지 50팩, 86, 아기간식/아기음료\n",
      "0.0136, 2258611, [사은품증정] 리빙웰 에어프라이어, 84, 튀김기\n",
      "0.0119, 3525500, [하객패션] 포커스 봄구성완벽해, 74, 티셔츠\n",
      "0.0103, 3525317, [무료배송] 빅사이즈/원피스/롱티, 28, 원피스\n",
      "-0.0050, 3515524, [무료배송] 롱티/티셔츠/원피스, 45, 티셔츠\n",
      "-0.0310, 3513766, [어린이날] 해피버스 7부/자가드내의, 75, 내의/잠옷/속옷\n",
      "-0.0371, 3527053, [투데이특가] 더사랑이 여름 아동복, 43, 아동공용의류\n",
      "-0.0479, 3525068, [엄마니까] 쁘띠뮤 여름 횡재가격!, 66, 아동공용의류\n",
      "-0.0621, 3527575, [무료배송] 프롬유 ~20%할인쿠폰, 55, 티셔츠\n",
      "-0.0706, 3506713, [플레이특가] 아티제 모바일상품권, 63, 생활쿠폰\n",
      "-0.0782, 3521451, [투데이특가] 뮤지컬 닥터지바고 , 73, 라이선스\n",
      "-0.0814, 3516354, [투데이특가] 닥터마밍 물티슈 캡×10, 48, 물티슈 기타\n",
      "-0.0818, 2409745, [원더쿠폰] 과탄산소다 베이킹소다, 23, 세탁세제\n",
      "-0.0968, 3525124, [투데이특가] 더수 몰랑 물티슈 10팩, 38, 물티슈 기타\n",
      "-0.2997, 3492158, [할인사건] 홍콩VS마카오 항공&자유, 77, 홍콩\n",
      "-0.3634, 3519199, [투데이특가] 서울 다이노코어-VIP석, 92, 어린이뮤지컬\n",
      "-0.3867, 3486081, 사이판 월드 골드 4/5일+마나가하, 22, 사이판\n"
     ]
    }
   ],
   "source": [
    "print_result(out, wepick_slot_dic)"
   ]
  },
  {
   "cell_type": "markdown",
   "metadata": {},
   "source": [
    "### 클릭 did로 부터 랭킹 테스트\n",
    "\n",
    "- 유저가 클릭한 did 들의 word2vec을 사용\n",
    "- use_search_induced_click==True 면, 검색후 클릭된 did만 가져온다."
   ]
  },
  {
   "cell_type": "code",
   "execution_count": 39,
   "metadata": {
    "collapsed": true
   },
   "outputs": [],
   "source": [
    "dids= mg_get_clicked_dids(1000007, limit=32, use_search_induced_click=True)"
   ]
  },
  {
   "cell_type": "code",
   "execution_count": 40,
   "metadata": {
    "collapsed": true
   },
   "outputs": [],
   "source": [
    "user_profile = es_gather_word2vec_dids(list(dids))"
   ]
  },
  {
   "cell_type": "code",
   "execution_count": 41,
   "metadata": {
    "collapsed": true
   },
   "outputs": [],
   "source": [
    "scores = calc_rank(user_profile, deal_profile_dic)"
   ]
  },
  {
   "cell_type": "code",
   "execution_count": 42,
   "metadata": {
    "collapsed": true
   },
   "outputs": [],
   "source": [
    "out = get_refined_scores(scores, extra_dic)"
   ]
  },
  {
   "cell_type": "code",
   "execution_count": 43,
   "metadata": {
    "scrolled": false
   },
   "outputs": [
    {
     "name": "stdout",
     "output_type": "stream",
     "text": [
      "0.4798, 3521785, [쿠폰할인] 중고폰 노트5/S7/엣지, 51, 공기계-미사용/미개봉\n",
      "0.3884, 3504137, [리빙위크] 비즈니스보루네오 소파, 78, 소파\n",
      "0.3340, 3464309, [쿠폰할인] LG 공기청정기 AS181DAW, 57, 공기청정기\n",
      "0.3276, 3068897, [가전쿠폰] LG 13kg 통돌이세탁기, 37, 일반 세탁기\n",
      "0.3217, 2258611, [사은품증정] 리빙웰 에어프라이어, 84, 튀김기\n",
      "0.3024, 3511172, [컬러풀] GTX1060 6GB 그래픽카드, 80, 그래픽카드\n",
      "0.2830, 3524547, [투데이특가] 1+ 한우 제비추리150g, 58, 한우\n",
      "0.2802, 3061867, [추가쿠폰] 삼성 냉장고 RH81K8050SA, 50, 양문형 냉장고\n",
      "0.2752, 3512421, [투데이특가] 휴대용 핸디 선풍기!, 85, 휴대용 선풍기\n",
      "0.2637, 3532677, [게릴라특가] 궁중 너비아니 4팩, 82, 가공육/양념육류\n",
      "0.2618, 3527569, [투데이특가] 아디다스 그래픽스케일, 91, 반팔 티셔츠\n",
      "0.2547, 3544419, [게릴라특가] 봄맞이 카페트 150x200, 71, 카페트/러그\n",
      "0.2496, 3521723, [투데이특가] 샤오미 공기청정기, 25, 공기청정기\n",
      "0.2472, 3119252, [역시트롬] LG 드럼세탁기 모음, 60, 드럼세탁기\n",
      "0.2437, 3541064, [위메프] 10만 포인트+5,000P, 33, 온라인 이용권\n",
      "0.2425, 3525346, [삼성생명 다이렉트] 보험 이벤트, 21, 기타\n",
      "0.1986, 3492158, [할인사건] 홍콩VS마카오 항공&자유, 77, 홍콩\n",
      "0.1986, 3477356, [공식판매점] LG 14kg 건조기 2종, 69, 의류 건조기/관리기\n",
      "0.1946, 3483431, [무료배송] 입맛살리는 명란파치 1kg, 53, 젓갈\n",
      "0.1909, 3515414, [투데이특가] 오뚜기 컵누들 10+5개, 68, 즉석밥/국/카레\n",
      "0.1903, 3517009, [투데이특가] 금구운란 30구 1판, 39, 과자/안주\n",
      "0.1727, 3509649, [리빙위크] 리빙숲 리빙박스72L 4개, 49, 리빙박스/수납함\n",
      "0.1719, 3515997, [블랙데이] 짜장면 치즈 케이크 大, 35, 초콜릿\n",
      "0.1540, 3527861, [투데이특가] 장조림 2팩+ 본죽 2팩!, 56, 반찬\n",
      "0.1372, 3528363, [하객패션] 백화점 잡화 267종! +20%, 27, 벨트\n",
      "0.1368, 3521741, 아임닭 닭가슴살 슬라이스 15+1, 76, 닭고기\n",
      "0.1333, 3519047, [투데이특가] 풀무원 간편국15+5입, 31, 즉석밥/국/카레\n",
      "0.1260, 3507588, [투데이특가] 보노바스켓 정리함 80L, 87, 리빙박스/수납함\n",
      "0.1204, 3533188, [투데이특가] 쁘띠첼 과일젤리 15개, 88, 캔디/껌/젤리\n",
      "0.1129, 3505573, [무료배송] 까만색 잇몸치약 130g , 29, 칫솔/치약\n",
      "0.1121, 1438471, [20%쿠폰] 니베아 립밤 바디로션 , 34, 립케어\n",
      "0.0940, 3486081, 사이판 월드 골드 4/5일+마나가하, 22, 사이판\n",
      "0.0845, 3518630, [투데이특가] 꺾어먹는 비요뜨 12개, 79, 두유/우유\n",
      "0.0784, 3544562, [게릴라특가] 실리콘 주방용품 모음, 40, 조리도구\n",
      "0.0655, 3513787, [리빙위크] 3M 정전기청소포/물걸레, 67, 밀대/청소포\n",
      "0.0652, 3506713, [플레이특가] 아티제 모바일상품권, 63, 생활쿠폰\n",
      "0.0638, 3515690, [투데이특가] 닥스셔츠 긴/반팔 BEST, 81, 셔츠/남방\n",
      "0.0554, 3522395, [롯데] 르까프 아동/성인 빅세일, 46, 남성 티셔츠/상의 기타\n",
      "0.0481, 3508946, [리빙위크] 쉬즈홈 Best 이불 커튼, 64, 요\n",
      "0.0462, 3524294, [투데이특가] 여심저격 클루나드시계, 83, 패션시계\n",
      "0.0442, 3527675, [투데이특가] 파크론 주방매트 대+소, 20, 카페트/러그\n",
      "0.0421, 3512948, [투데이특가] 눈건강 루테인 5박스, 89, 개별인정형건강식품\n",
      "0.0387, 3512215, [6천원쿠폰] 기습쿠폰전 오늘마지막!, 30, 색조메이크업\n",
      "0.0382, 3527824, [투데이특가] 우리밀 아이국수 8인분, 59, 아기간식/아기음료\n",
      "0.0369, 3521451, [투데이특가] 뮤지컬 닥터지바고 , 73, 라이선스\n",
      "0.0104, 3498872, [투데이특가] 비닐/쓰레기봉투 600장, 54, 일회용품\n",
      "-0.0079, 3538332, [리빙위크] 사이오스 샴푸 + 증정품, 26, 샴푸/린스\n",
      "-0.0197, 3519199, [투데이특가] 서울 다이노코어-VIP석, 92, 어린이뮤지컬\n",
      "-0.0280, 3539755, [게릴라특가] 판퍼즐&코코몽자석놀이, 41, 유아퍼즐\n",
      "-0.0629, 3527631, [투데이특가] 자외선차단 암막우산, 90, 생활잡화\n",
      "-0.0745, 3526985, [원더쿠폰] 봄 귀걸이,추가할인쿠폰, 42, 귀걸이\n",
      "-0.0753, 3512593, [무료배송] 봄 아동복 브랜드 연합전, 36, 아동공용의류\n",
      "-0.0917, 2409745, [원더쿠폰] 과탄산소다 베이킹소다, 23, 세탁세제\n",
      "-0.1006, 3525317, [무료배송] 빅사이즈/원피스/롱티, 28, 원피스\n",
      "-0.1128, 3515524, [무료배송] 롱티/티셔츠/원피스, 45, 티셔츠\n",
      "-0.1223, 3514459, [심야특가] 파파야 여성 의류 모음전, 32, 티셔츠\n",
      "-0.1247, 3527575, [무료배송] 프롬유 ~20%할인쿠폰, 55, 티셔츠\n",
      "-0.1341, 3516354, [투데이특가] 닥터마밍 물티슈 캡×10, 48, 물티슈 기타\n",
      "-0.1389, 3522402, [무료배송] 에비수 본사특가 20%쿠폰, 44, 티셔츠\n",
      "-0.1392, 3500355, [투데이특가] 좋은느낌 생리대 38+38, 47, 화이트\n",
      "-0.1482, 3525500, [하객패션] 포커스 봄구성완벽해, 74, 티셔츠\n",
      "-0.1684, 3529165, [하객패션] 락피쉬 18년S/S+20%쿠폰!, 70, 여성단화\n",
      "-0.1738, 3527477, [투데이특가] 니트/가디건/원피스 외, 61, 원피스\n",
      "-0.1777, 3529131, 휴비딕 체온계 & 탕온도 특가전, 24, 유아건강/유아위생용품\n",
      "-0.2078, 3532552, [투데이특가] 맑음 배도라지 50팩, 86, 아기간식/아기음료\n",
      "-0.2317, 3515873, [투데이특가] 레이스 덧신 1+1+1, 65, 스타킹/양말\n",
      "-0.2735, 3525124, [투데이특가] 더수 몰랑 물티슈 10팩, 38, 물티슈 기타\n",
      "-0.3283, 3527053, [투데이특가] 더사랑이 여름 아동복, 43, 아동공용의류\n",
      "-0.3412, 3525068, [엄마니까] 쁘띠뮤 여름 횡재가격!, 66, 아동공용의류\n",
      "-0.3814, 3513766, [어린이날] 해피버스 7부/자가드내의, 75, 내의/잠옷/속옷\n"
     ]
    }
   ],
   "source": [
    "print_result(out, wepick_slot_dic)"
   ]
  },
  {
   "cell_type": "code",
   "execution_count": null,
   "metadata": {
    "collapsed": true
   },
   "outputs": [],
   "source": []
  }
 ],
 "metadata": {
  "kernelspec": {
   "display_name": "Python 3",
   "language": "python",
   "name": "python3"
  },
  "language_info": {
   "codemirror_mode": {
    "name": "ipython",
    "version": 3
   },
   "file_extension": ".py",
   "mimetype": "text/x-python",
   "name": "python",
   "nbconvert_exporter": "python",
   "pygments_lexer": "ipython3",
   "version": "3.6.2"
  }
 },
 "nbformat": 4,
 "nbformat_minor": 2
}
