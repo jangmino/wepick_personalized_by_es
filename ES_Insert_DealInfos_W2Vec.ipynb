{
 "cells": [
  {
   "cell_type": "markdown",
   "metadata": {},
   "source": [
    "# DealInfos_Word2Vec feature를 ES에 벌크 인서트\n",
    "\n",
    "-  환경: ElasticSearch 6\n",
    "-  테스트 머신: 장민 PC\n",
    "\n",
    "```\n",
    "PUT /dealinfos\n",
    "{\n",
    "mapping_dealinfos_word2vec.json\n",
    "}\n",
    "```\n"
   ]
  },
  {
   "cell_type": "code",
   "execution_count": 12,
   "metadata": {},
   "outputs": [],
   "source": [
    "import requests\n",
    "import time\n",
    "import urllib\n",
    "import matplotlib.pyplot as plt\n",
    "import matplotlib.font_manager as fm\n",
    "import json\n",
    "import elasticsearch\n",
    "import csv\n",
    "import pickle\n",
    "from elasticsearch.helpers import bulk\n",
    "import re\n",
    "import glob\n",
    "import os\n",
    "from datetime import timezone, timedelta, datetime\n",
    "from pymongo import MongoClient\n",
    "import random\n",
    "import numpy as np\n",
    "import sys\n",
    "import pandas as pd"
   ]
  },
  {
   "cell_type": "code",
   "execution_count": 3,
   "metadata": {},
   "outputs": [],
   "source": [
    "def make_documents(file_path):\n",
    "    pred_dic = {}\n",
    "    with open(file_path, 'rb') as jsonfile:\n",
    "        for row in jsonfile:\n",
    "            source_ = eval(row)\n",
    "            source = {}\n",
    "            source['v'] = source_['v']\n",
    "            source['words'] = source_['words']\n",
    "            source['values'] = source_['vectorizedWords']['values']\n",
    "            doc =  {\n",
    "                \"_op_type\":'create',\n",
    "                \"_index\":\"deal_word2vec\",\n",
    "                \"_type\":\"doc\",\n",
    "                \"_id\": source['v'],\n",
    "                \"_source\": source\n",
    "            }\n",
    "            yield(doc)"
   ]
  },
  {
   "cell_type": "code",
   "execution_count": 4,
   "metadata": {},
   "outputs": [],
   "source": [
    "### Jangmin's PC\n",
    "es_url = 'localhost:9200'"
   ]
  },
  {
   "cell_type": "code",
   "execution_count": 6,
   "metadata": {},
   "outputs": [],
   "source": [
    "es = elasticsearch.Elasticsearch(es_url)"
   ]
  },
  {
   "cell_type": "code",
   "execution_count": 45,
   "metadata": {
    "scrolled": true
   },
   "outputs": [
    {
     "data": {
      "text/plain": [
       "{'deal_word2vec': {'mappings': {'doc': {'properties': {'v': {'type': 'long'},\n",
       "     'values': {'type': 'double'},\n",
       "     'words': {'type': 'keyword'}}}}}}"
      ]
     },
     "execution_count": 45,
     "metadata": {},
     "output_type": "execute_result"
    }
   ],
   "source": [
    "es.indices.get_mapping(index='deal_word2vec')"
   ]
  },
  {
   "cell_type": "markdown",
   "metadata": {},
   "source": [
    "# bulk inserting to ES"
   ]
  },
  {
   "cell_type": "code",
   "execution_count": 8,
   "metadata": {
    "scrolled": false
   },
   "outputs": [
    {
     "name": "stdout",
     "output_type": "stream",
     "text": [
      "Elapsed Time 1301.6904072761536 sec\n"
     ]
    }
   ],
   "source": [
    "data_dir = r'/Users/jangmino/tensorflow/work/wepick_data/w2vec.json'\n",
    "start = time.time()\n",
    "total_time = 0\n",
    "bulk(es, make_documents(data_dir))\n",
    "total_time += (time.time() - start)\n",
    "print(\"Elapsed Time {} sec\".format(total_time))"
   ]
  },
  {
   "cell_type": "code",
   "execution_count": 9,
   "metadata": {},
   "outputs": [],
   "source": [
    "res = es.search(index='deal_word2vec', body={'query': {'match':{'v':'2668602'}}})"
   ]
  },
  {
   "cell_type": "code",
   "execution_count": 10,
   "metadata": {
    "scrolled": true
   },
   "outputs": [
    {
     "data": {
      "text/plain": [
       "1"
      ]
     },
     "execution_count": 10,
     "metadata": {},
     "output_type": "execute_result"
    }
   ],
   "source": [
    "res['hits']['total']"
   ]
  },
  {
   "cell_type": "code",
   "execution_count": 11,
   "metadata": {},
   "outputs": [
    {
     "data": {
      "text/plain": [
       "{'_shards': {'failed': 0, 'skipped': 0, 'successful': 5, 'total': 5},\n",
       " 'hits': {'hits': [{'_id': '2668602',\n",
       "    '_index': 'deal_word2vec',\n",
       "    '_score': 1.0,\n",
       "    '_source': {'v': 2668602,\n",
       "     'values': [-1.7802355289459229,\n",
       "      18.870119285583495,\n",
       "      2.5163070142269137,\n",
       "      -10.703756618499757,\n",
       "      1.600479006767273,\n",
       "      3.5656559824943543,\n",
       "      -5.844938635826111,\n",
       "      6.633014583587647,\n",
       "      8.395471286773683,\n",
       "      -23.7651406288147,\n",
       "      14.762410998344421,\n",
       "      10.690511178970338,\n",
       "      8.746411949396133,\n",
       "      28.675686740875246,\n",
       "      8.49290874004364,\n",
       "      -3.034431028366089,\n",
       "      36.52057704925537,\n",
       "      38.59238967895508,\n",
       "      -3.684904098510742,\n",
       "      33.746253967285156,\n",
       "      -8.964104914665223,\n",
       "      -15.591403150558472,\n",
       "      -0.33317070007324223,\n",
       "      30.87879137992859,\n",
       "      9.32277364730835,\n",
       "      29.246194028854372,\n",
       "      -28.27330641746521,\n",
       "      -20.553472375869752,\n",
       "      -11.5706449508667,\n",
       "      -4.212529945373535,\n",
       "      -10.324701023101808,\n",
       "      -42.630911469459534,\n",
       "      -11.56917097568512,\n",
       "      27.58971519470215,\n",
       "      20.328855752944946,\n",
       "      31.062416267395022,\n",
       "      -43.199251937866215,\n",
       "      17.44265651702881,\n",
       "      0.5601720720529556,\n",
       "      -5.0972403407096865,\n",
       "      7.499890279769898,\n",
       "      4.312903690338135,\n",
       "      21.067235469818115,\n",
       "      -35.45029468536377,\n",
       "      57.368688392639164,\n",
       "      5.252543735504151,\n",
       "      -8.795781183242799,\n",
       "      -18.298339462280275,\n",
       "      19.29131088256836,\n",
       "      -25.692636728286743,\n",
       "      5.588029861450195,\n",
       "      6.066273033618927,\n",
       "      13.853501987457276,\n",
       "      3.9917097806930544,\n",
       "      -18.911224126815796,\n",
       "      3.9173309564590455,\n",
       "      -21.704513168334962,\n",
       "      5.626767635345459,\n",
       "      17.336302065849306,\n",
       "      -10.5677037358284,\n",
       "      48.34491367340088,\n",
       "      -3.013185513019562,\n",
       "      -2.3180924892425536,\n",
       "      -2.4441202104091646,\n",
       "      8.781647062301635,\n",
       "      -30.00034513473511,\n",
       "      25.72464065551758,\n",
       "      -0.4917409360408783,\n",
       "      -60.1173152923584,\n",
       "      -16.311076378822328,\n",
       "      41.25969161987305,\n",
       "      -43.45902919769287,\n",
       "      15.138203716278078,\n",
       "      -6.778974485397339,\n",
       "      12.98308424949646,\n",
       "      10.429388642311096,\n",
       "      43.022096276283264,\n",
       "      35.6189239025116,\n",
       "      2.6303258061409,\n",
       "      -20.436160993576053,\n",
       "      -8.582308292388916,\n",
       "      -5.341213893890381,\n",
       "      -49.46893157958985,\n",
       "      16.13865547180176,\n",
       "      4.589893674850464,\n",
       "      35.649096202850345,\n",
       "      -15.245275163650513,\n",
       "      -17.747131443023683,\n",
       "      6.278267884254456,\n",
       "      55.643533897399905,\n",
       "      32.08710346221924,\n",
       "      -14.808056926727296,\n",
       "      1.017113494873047,\n",
       "      5.82193307876587,\n",
       "      22.2470413684845,\n",
       "      -14.995592021942139,\n",
       "      -1.8327537298202516,\n",
       "      13.74962797164917,\n",
       "      -2.6619947433471682,\n",
       "      -9.175537669658661],\n",
       "     'words': ['침대', '수납침대', '동서가구', '대용량서랍침대', '슈퍼싱글침대']},\n",
       "    '_type': 'doc'}],\n",
       "  'max_score': 1.0,\n",
       "  'total': 1},\n",
       " 'timed_out': False,\n",
       " 'took': 95}"
      ]
     },
     "execution_count": 11,
     "metadata": {},
     "output_type": "execute_result"
    }
   ],
   "source": [
    "res\n"
   ]
  },
  {
   "cell_type": "markdown",
   "metadata": {
    "collapsed": true
   },
   "source": [
    "### wepick_data\n",
    "\n",
    "format:\n",
    "deal_id, user_id, slot_id, timestamp, impression_time, label(always one)"
   ]
  },
  {
   "cell_type": "code",
   "execution_count": 14,
   "metadata": {},
   "outputs": [],
   "source": [
    "data_path = r'/Users/jangmino/tensorflow/work/wepick_data/pos_dataset_small.csv'\n",
    "df = pd.read_csv(data_path, header=None, names=[\"v\", \"u\", \"slot\", \"rgtime\", \"imp_dt\", \"label\"])"
   ]
  },
  {
   "cell_type": "code",
   "execution_count": 58,
   "metadata": {},
   "outputs": [
    {
     "ename": "TypeError",
     "evalue": "cannot convert the series to <class 'int'>",
     "output_type": "error",
     "traceback": [
      "\u001b[0;31m---------------------------------------------------------------------------\u001b[0m",
      "\u001b[0;31mTypeError\u001b[0m                                 Traceback (most recent call last)",
      "\u001b[0;32m<ipython-input-58-618dfabdd4cf>\u001b[0m in \u001b[0;36m<module>\u001b[0;34m()\u001b[0m\n\u001b[0;32m----> 1\u001b[0;31m \u001b[0mint\u001b[0m\u001b[0;34m(\u001b[0m\u001b[0mdf\u001b[0m\u001b[0;34m[\u001b[0m\u001b[0;34m'v'\u001b[0m\u001b[0;34m]\u001b[0m\u001b[0;34m)\u001b[0m\u001b[0;34m\u001b[0m\u001b[0m\n\u001b[0m",
      "\u001b[0;32m~/tensorflow/lib/python3.6/site-packages/pandas/core/series.py\u001b[0m in \u001b[0;36mwrapper\u001b[0;34m(self)\u001b[0m\n\u001b[1;32m    110\u001b[0m             \u001b[0;32mreturn\u001b[0m \u001b[0mconverter\u001b[0m\u001b[0;34m(\u001b[0m\u001b[0mself\u001b[0m\u001b[0;34m.\u001b[0m\u001b[0miloc\u001b[0m\u001b[0;34m[\u001b[0m\u001b[0;36m0\u001b[0m\u001b[0;34m]\u001b[0m\u001b[0;34m)\u001b[0m\u001b[0;34m\u001b[0m\u001b[0m\n\u001b[1;32m    111\u001b[0m         raise TypeError(\"cannot convert the series to \"\n\u001b[0;32m--> 112\u001b[0;31m                         \"{0}\".format(str(converter)))\n\u001b[0m\u001b[1;32m    113\u001b[0m \u001b[0;34m\u001b[0m\u001b[0m\n\u001b[1;32m    114\u001b[0m     \u001b[0;32mreturn\u001b[0m \u001b[0mwrapper\u001b[0m\u001b[0;34m\u001b[0m\u001b[0m\n",
      "\u001b[0;31mTypeError\u001b[0m: cannot convert the series to <class 'int'>"
     ]
    }
   ],
   "source": [
    "df['"
   ]
  },
  {
   "cell_type": "code",
   "execution_count": 52,
   "metadata": {},
   "outputs": [],
   "source": [
    "def make_wepick_documents(df):\n",
    "    for u, hist in df.groupby('u'):\n",
    "        source = {}\n",
    "        vec = []\n",
    "        source['u'] = u\n",
    "        for i in range(len(hist.index)):\n",
    "            data = dict(hist.iloc[i])\n",
    "            #data['rgtime'] = datetime.fromtimestamp(data['rgtime'])\n",
    "            del data['u']\n",
    "            del data['label']\n",
    "            vec.append(data)\n",
    "        source['hist'] = vec\n",
    "        doc = {\n",
    "            \"_op_type\":'create',\n",
    "            \"_index\":\"wepick_seq\",\n",
    "            \"_type\":\"doc\",\n",
    "            \"_id\": u,\n",
    "            \"_source\": source\n",
    "        }\n",
    "        yield(doc)"
   ]
  },
  {
   "cell_type": "code",
   "execution_count": 53,
   "metadata": {},
   "outputs": [
    {
     "name": "stdout",
     "output_type": "stream",
     "text": [
      "{'_op_type': 'create', '_index': 'wepick_seq', '_type': 'doc', '_id': 1000006, '_source': {'u': 1000006, 'hist': [{'v': 3398131, 'slot': 22, 'rgtime': 1520769276608, 'imp_dt': '2018-03-11 20'}, {'v': 3365865, 'slot': 5, 'rgtime': 1520830230903, 'imp_dt': '2018-03-12 13'}, {'v': 3284877, 'slot': 6, 'rgtime': 1520830251361, 'imp_dt': '2018-03-12 13'}, {'v': 3384031, 'slot': 9, 'rgtime': 1520830278597, 'imp_dt': '2018-03-12 13'}, {'v': 3398754, 'slot': 1, 'rgtime': 1520830417854, 'imp_dt': '2018-03-12 13'}, {'v': 3387193, 'slot': 2, 'rgtime': 1520850826955, 'imp_dt': '2018-03-12 19'}, {'v': 3429250, 'slot': 1, 'rgtime': 1521384018543, 'imp_dt': '2018-03-18 23'}, {'v': 3337685, 'slot': 10, 'rgtime': 1521384179454, 'imp_dt': '2018-03-18 23'}, {'v': 3418856, 'slot': 10, 'rgtime': 1521541700613, 'imp_dt': '2018-03-20 19'}, {'v': 3339612, 'slot': 7, 'rgtime': 1522072104891, 'imp_dt': '2018-03-26 22'}, {'v': 1938495, 'slot': 4, 'rgtime': 1522215978153, 'imp_dt': '2018-03-28 14'}, {'v': 3472717, 'slot': 4, 'rgtime': 1522595745807, 'imp_dt': '2018-04-02 00'}, {'v': 3435709, 'slot': 14, 'rgtime': 1522675496708, 'imp_dt': '2018-04-02 22'}, {'v': 3518911, 'slot': 4, 'rgtime': 1523321558706, 'imp_dt': '2018-04-10 09'}]}}\n"
     ]
    }
   ],
   "source": [
    "for x in make_wepick_documents(df):\n",
    "    print(x)\n",
    "    break"
   ]
  },
  {
   "cell_type": "code",
   "execution_count": 54,
   "metadata": {},
   "outputs": [
    {
     "data": {
      "text/plain": [
       "{'wepick_seq': {'mappings': {}}}"
      ]
     },
     "execution_count": 54,
     "metadata": {},
     "output_type": "execute_result"
    }
   ],
   "source": [
    "es.indices.get_mapping(index='wepick_seq')"
   ]
  },
  {
   "cell_type": "code",
   "execution_count": 55,
   "metadata": {},
   "outputs": [
    {
     "ename": "SerializationError",
     "evalue": "({'u': 1000006, 'hist': [{'v': 3398131, 'slot': 22, 'rgtime': 1520769276608, 'imp_dt': '2018-03-11 20'}, {'v': 3365865, 'slot': 5, 'rgtime': 1520830230903, 'imp_dt': '2018-03-12 13'}, {'v': 3284877, 'slot': 6, 'rgtime': 1520830251361, 'imp_dt': '2018-03-12 13'}, {'v': 3384031, 'slot': 9, 'rgtime': 1520830278597, 'imp_dt': '2018-03-12 13'}, {'v': 3398754, 'slot': 1, 'rgtime': 1520830417854, 'imp_dt': '2018-03-12 13'}, {'v': 3387193, 'slot': 2, 'rgtime': 1520850826955, 'imp_dt': '2018-03-12 19'}, {'v': 3429250, 'slot': 1, 'rgtime': 1521384018543, 'imp_dt': '2018-03-18 23'}, {'v': 3337685, 'slot': 10, 'rgtime': 1521384179454, 'imp_dt': '2018-03-18 23'}, {'v': 3418856, 'slot': 10, 'rgtime': 1521541700613, 'imp_dt': '2018-03-20 19'}, {'v': 3339612, 'slot': 7, 'rgtime': 1522072104891, 'imp_dt': '2018-03-26 22'}, {'v': 1938495, 'slot': 4, 'rgtime': 1522215978153, 'imp_dt': '2018-03-28 14'}, {'v': 3472717, 'slot': 4, 'rgtime': 1522595745807, 'imp_dt': '2018-04-02 00'}, {'v': 3435709, 'slot': 14, 'rgtime': 1522675496708, 'imp_dt': '2018-04-02 22'}, {'v': 3518911, 'slot': 4, 'rgtime': 1523321558706, 'imp_dt': '2018-04-10 09'}]}, TypeError(\"Unable to serialize 3398131 (type: <class 'numpy.int64'>)\",))",
     "output_type": "error",
     "traceback": [
      "\u001b[0;31m---------------------------------------------------------------------------\u001b[0m",
      "\u001b[0;31mTypeError\u001b[0m                                 Traceback (most recent call last)",
      "\u001b[0;32m~/tensorflow/lib/python3.6/site-packages/elasticsearch/serializer.py\u001b[0m in \u001b[0;36mdumps\u001b[0;34m(self, data)\u001b[0m\n\u001b[1;32m     51\u001b[0m                 \u001b[0mensure_ascii\u001b[0m\u001b[0;34m=\u001b[0m\u001b[0;32mFalse\u001b[0m\u001b[0;34m,\u001b[0m\u001b[0;34m\u001b[0m\u001b[0m\n\u001b[0;32m---> 52\u001b[0;31m                 \u001b[0mseparators\u001b[0m\u001b[0;34m=\u001b[0m\u001b[0;34m(\u001b[0m\u001b[0;34m','\u001b[0m\u001b[0;34m,\u001b[0m \u001b[0;34m':'\u001b[0m\u001b[0;34m)\u001b[0m\u001b[0;34m,\u001b[0m\u001b[0;34m\u001b[0m\u001b[0m\n\u001b[0m\u001b[1;32m     53\u001b[0m             )\n",
      "\u001b[0;32m/usr/local/Cellar/python3/3.6.2/Frameworks/Python.framework/Versions/3.6/lib/python3.6/json/__init__.py\u001b[0m in \u001b[0;36mdumps\u001b[0;34m(obj, skipkeys, ensure_ascii, check_circular, allow_nan, cls, indent, separators, default, sort_keys, **kw)\u001b[0m\n\u001b[1;32m    237\u001b[0m         \u001b[0mseparators\u001b[0m\u001b[0;34m=\u001b[0m\u001b[0mseparators\u001b[0m\u001b[0;34m,\u001b[0m \u001b[0mdefault\u001b[0m\u001b[0;34m=\u001b[0m\u001b[0mdefault\u001b[0m\u001b[0;34m,\u001b[0m \u001b[0msort_keys\u001b[0m\u001b[0;34m=\u001b[0m\u001b[0msort_keys\u001b[0m\u001b[0;34m,\u001b[0m\u001b[0;34m\u001b[0m\u001b[0m\n\u001b[0;32m--> 238\u001b[0;31m         **kw).encode(obj)\n\u001b[0m\u001b[1;32m    239\u001b[0m \u001b[0;34m\u001b[0m\u001b[0m\n",
      "\u001b[0;32m/usr/local/Cellar/python3/3.6.2/Frameworks/Python.framework/Versions/3.6/lib/python3.6/json/encoder.py\u001b[0m in \u001b[0;36mencode\u001b[0;34m(self, o)\u001b[0m\n\u001b[1;32m    198\u001b[0m         \u001b[0;31m# equivalent to the PySequence_Fast that ''.join() would do.\u001b[0m\u001b[0;34m\u001b[0m\u001b[0;34m\u001b[0m\u001b[0m\n\u001b[0;32m--> 199\u001b[0;31m         \u001b[0mchunks\u001b[0m \u001b[0;34m=\u001b[0m \u001b[0mself\u001b[0m\u001b[0;34m.\u001b[0m\u001b[0miterencode\u001b[0m\u001b[0;34m(\u001b[0m\u001b[0mo\u001b[0m\u001b[0;34m,\u001b[0m \u001b[0m_one_shot\u001b[0m\u001b[0;34m=\u001b[0m\u001b[0;32mTrue\u001b[0m\u001b[0;34m)\u001b[0m\u001b[0;34m\u001b[0m\u001b[0m\n\u001b[0m\u001b[1;32m    200\u001b[0m         \u001b[0;32mif\u001b[0m \u001b[0;32mnot\u001b[0m \u001b[0misinstance\u001b[0m\u001b[0;34m(\u001b[0m\u001b[0mchunks\u001b[0m\u001b[0;34m,\u001b[0m \u001b[0;34m(\u001b[0m\u001b[0mlist\u001b[0m\u001b[0;34m,\u001b[0m \u001b[0mtuple\u001b[0m\u001b[0;34m)\u001b[0m\u001b[0;34m)\u001b[0m\u001b[0;34m:\u001b[0m\u001b[0;34m\u001b[0m\u001b[0m\n",
      "\u001b[0;32m/usr/local/Cellar/python3/3.6.2/Frameworks/Python.framework/Versions/3.6/lib/python3.6/json/encoder.py\u001b[0m in \u001b[0;36miterencode\u001b[0;34m(self, o, _one_shot)\u001b[0m\n\u001b[1;32m    256\u001b[0m                 self.skipkeys, _one_shot)\n\u001b[0;32m--> 257\u001b[0;31m         \u001b[0;32mreturn\u001b[0m \u001b[0m_iterencode\u001b[0m\u001b[0;34m(\u001b[0m\u001b[0mo\u001b[0m\u001b[0;34m,\u001b[0m \u001b[0;36m0\u001b[0m\u001b[0;34m)\u001b[0m\u001b[0;34m\u001b[0m\u001b[0m\n\u001b[0m\u001b[1;32m    258\u001b[0m \u001b[0;34m\u001b[0m\u001b[0m\n",
      "\u001b[0;32m~/tensorflow/lib/python3.6/site-packages/elasticsearch/serializer.py\u001b[0m in \u001b[0;36mdefault\u001b[0;34m(self, data)\u001b[0m\n\u001b[1;32m     33\u001b[0m             \u001b[0;32mreturn\u001b[0m \u001b[0mstr\u001b[0m\u001b[0;34m(\u001b[0m\u001b[0mdata\u001b[0m\u001b[0;34m)\u001b[0m\u001b[0;34m\u001b[0m\u001b[0m\n\u001b[0;32m---> 34\u001b[0;31m         \u001b[0;32mraise\u001b[0m \u001b[0mTypeError\u001b[0m\u001b[0;34m(\u001b[0m\u001b[0;34m\"Unable to serialize %r (type: %s)\"\u001b[0m \u001b[0;34m%\u001b[0m \u001b[0;34m(\u001b[0m\u001b[0mdata\u001b[0m\u001b[0;34m,\u001b[0m \u001b[0mtype\u001b[0m\u001b[0;34m(\u001b[0m\u001b[0mdata\u001b[0m\u001b[0;34m)\u001b[0m\u001b[0;34m)\u001b[0m\u001b[0;34m)\u001b[0m\u001b[0;34m\u001b[0m\u001b[0m\n\u001b[0m\u001b[1;32m     35\u001b[0m \u001b[0;34m\u001b[0m\u001b[0m\n",
      "\u001b[0;31mTypeError\u001b[0m: Unable to serialize 3398131 (type: <class 'numpy.int64'>)",
      "\nDuring handling of the above exception, another exception occurred:\n",
      "\u001b[0;31mSerializationError\u001b[0m                        Traceback (most recent call last)",
      "\u001b[0;32m<ipython-input-55-3524e204bfc9>\u001b[0m in \u001b[0;36m<module>\u001b[0;34m()\u001b[0m\n\u001b[1;32m      1\u001b[0m \u001b[0mstart\u001b[0m \u001b[0;34m=\u001b[0m \u001b[0mtime\u001b[0m\u001b[0;34m.\u001b[0m\u001b[0mtime\u001b[0m\u001b[0;34m(\u001b[0m\u001b[0;34m)\u001b[0m\u001b[0;34m\u001b[0m\u001b[0m\n\u001b[1;32m      2\u001b[0m \u001b[0mtotal_time\u001b[0m \u001b[0;34m=\u001b[0m \u001b[0;36m0\u001b[0m\u001b[0;34m\u001b[0m\u001b[0m\n\u001b[0;32m----> 3\u001b[0;31m \u001b[0mbulk\u001b[0m\u001b[0;34m(\u001b[0m\u001b[0mes\u001b[0m\u001b[0;34m,\u001b[0m \u001b[0mmake_wepick_documents\u001b[0m\u001b[0;34m(\u001b[0m\u001b[0mdf\u001b[0m\u001b[0;34m)\u001b[0m\u001b[0;34m)\u001b[0m\u001b[0;34m\u001b[0m\u001b[0m\n\u001b[0m\u001b[1;32m      4\u001b[0m \u001b[0mtotal_time\u001b[0m \u001b[0;34m+=\u001b[0m \u001b[0;34m(\u001b[0m\u001b[0mtime\u001b[0m\u001b[0;34m.\u001b[0m\u001b[0mtime\u001b[0m\u001b[0;34m(\u001b[0m\u001b[0;34m)\u001b[0m \u001b[0;34m-\u001b[0m \u001b[0mstart\u001b[0m\u001b[0;34m)\u001b[0m\u001b[0;34m\u001b[0m\u001b[0m\n\u001b[1;32m      5\u001b[0m \u001b[0mprint\u001b[0m\u001b[0;34m(\u001b[0m\u001b[0;34m\"Elapsed Time {} sec\"\u001b[0m\u001b[0;34m.\u001b[0m\u001b[0mformat\u001b[0m\u001b[0;34m(\u001b[0m\u001b[0mtotal_time\u001b[0m\u001b[0;34m)\u001b[0m\u001b[0;34m)\u001b[0m\u001b[0;34m\u001b[0m\u001b[0m\n",
      "\u001b[0;32m~/tensorflow/lib/python3.6/site-packages/elasticsearch/helpers/__init__.py\u001b[0m in \u001b[0;36mbulk\u001b[0;34m(client, actions, stats_only, **kwargs)\u001b[0m\n\u001b[1;32m    255\u001b[0m     \u001b[0;31m# make streaming_bulk yield successful results so we can count them\u001b[0m\u001b[0;34m\u001b[0m\u001b[0;34m\u001b[0m\u001b[0m\n\u001b[1;32m    256\u001b[0m     \u001b[0mkwargs\u001b[0m\u001b[0;34m[\u001b[0m\u001b[0;34m'yield_ok'\u001b[0m\u001b[0;34m]\u001b[0m \u001b[0;34m=\u001b[0m \u001b[0;32mTrue\u001b[0m\u001b[0;34m\u001b[0m\u001b[0m\n\u001b[0;32m--> 257\u001b[0;31m     \u001b[0;32mfor\u001b[0m \u001b[0mok\u001b[0m\u001b[0;34m,\u001b[0m \u001b[0mitem\u001b[0m \u001b[0;32min\u001b[0m \u001b[0mstreaming_bulk\u001b[0m\u001b[0;34m(\u001b[0m\u001b[0mclient\u001b[0m\u001b[0;34m,\u001b[0m \u001b[0mactions\u001b[0m\u001b[0;34m,\u001b[0m \u001b[0;34m**\u001b[0m\u001b[0mkwargs\u001b[0m\u001b[0;34m)\u001b[0m\u001b[0;34m:\u001b[0m\u001b[0;34m\u001b[0m\u001b[0m\n\u001b[0m\u001b[1;32m    258\u001b[0m         \u001b[0;31m# go through request-reponse pairs and detect failures\u001b[0m\u001b[0;34m\u001b[0m\u001b[0;34m\u001b[0m\u001b[0m\n\u001b[1;32m    259\u001b[0m         \u001b[0;32mif\u001b[0m \u001b[0;32mnot\u001b[0m \u001b[0mok\u001b[0m\u001b[0;34m:\u001b[0m\u001b[0;34m\u001b[0m\u001b[0m\n",
      "\u001b[0;32m~/tensorflow/lib/python3.6/site-packages/elasticsearch/helpers/__init__.py\u001b[0m in \u001b[0;36mstreaming_bulk\u001b[0;34m(client, actions, chunk_size, max_chunk_bytes, raise_on_error, expand_action_callback, raise_on_exception, max_retries, initial_backoff, max_backoff, yield_ok, **kwargs)\u001b[0m\n\u001b[1;32m    178\u001b[0m     for bulk_data, bulk_actions in _chunk_actions(actions, chunk_size,\n\u001b[1;32m    179\u001b[0m                                                   \u001b[0mmax_chunk_bytes\u001b[0m\u001b[0;34m,\u001b[0m\u001b[0;34m\u001b[0m\u001b[0m\n\u001b[0;32m--> 180\u001b[0;31m                                                   client.transport.serializer):\n\u001b[0m\u001b[1;32m    181\u001b[0m \u001b[0;34m\u001b[0m\u001b[0m\n\u001b[1;32m    182\u001b[0m         \u001b[0;32mfor\u001b[0m \u001b[0mattempt\u001b[0m \u001b[0;32min\u001b[0m \u001b[0mrange\u001b[0m\u001b[0;34m(\u001b[0m\u001b[0mmax_retries\u001b[0m \u001b[0;34m+\u001b[0m \u001b[0;36m1\u001b[0m\u001b[0;34m)\u001b[0m\u001b[0;34m:\u001b[0m\u001b[0;34m\u001b[0m\u001b[0m\n",
      "\u001b[0;32m~/tensorflow/lib/python3.6/site-packages/elasticsearch/helpers/__init__.py\u001b[0m in \u001b[0;36m_chunk_actions\u001b[0;34m(actions, chunk_size, max_chunk_bytes, serializer)\u001b[0m\n\u001b[1;32m     62\u001b[0m \u001b[0;34m\u001b[0m\u001b[0m\n\u001b[1;32m     63\u001b[0m         \u001b[0;32mif\u001b[0m \u001b[0mdata\u001b[0m \u001b[0;32mis\u001b[0m \u001b[0;32mnot\u001b[0m \u001b[0;32mNone\u001b[0m\u001b[0;34m:\u001b[0m\u001b[0;34m\u001b[0m\u001b[0m\n\u001b[0;32m---> 64\u001b[0;31m             \u001b[0mdata\u001b[0m \u001b[0;34m=\u001b[0m \u001b[0mserializer\u001b[0m\u001b[0;34m.\u001b[0m\u001b[0mdumps\u001b[0m\u001b[0;34m(\u001b[0m\u001b[0mdata\u001b[0m\u001b[0;34m)\u001b[0m\u001b[0;34m\u001b[0m\u001b[0m\n\u001b[0m\u001b[1;32m     65\u001b[0m             \u001b[0mcur_size\u001b[0m \u001b[0;34m+=\u001b[0m \u001b[0mlen\u001b[0m\u001b[0;34m(\u001b[0m\u001b[0mdata\u001b[0m\u001b[0;34m)\u001b[0m \u001b[0;34m+\u001b[0m \u001b[0;36m1\u001b[0m\u001b[0;34m\u001b[0m\u001b[0m\n\u001b[1;32m     66\u001b[0m \u001b[0;34m\u001b[0m\u001b[0m\n",
      "\u001b[0;32m~/tensorflow/lib/python3.6/site-packages/elasticsearch/serializer.py\u001b[0m in \u001b[0;36mdumps\u001b[0;34m(self, data)\u001b[0m\n\u001b[1;32m     53\u001b[0m             )\n\u001b[1;32m     54\u001b[0m         \u001b[0;32mexcept\u001b[0m \u001b[0;34m(\u001b[0m\u001b[0mValueError\u001b[0m\u001b[0;34m,\u001b[0m \u001b[0mTypeError\u001b[0m\u001b[0;34m)\u001b[0m \u001b[0;32mas\u001b[0m \u001b[0me\u001b[0m\u001b[0;34m:\u001b[0m\u001b[0;34m\u001b[0m\u001b[0m\n\u001b[0;32m---> 55\u001b[0;31m             \u001b[0;32mraise\u001b[0m \u001b[0mSerializationError\u001b[0m\u001b[0;34m(\u001b[0m\u001b[0mdata\u001b[0m\u001b[0;34m,\u001b[0m \u001b[0me\u001b[0m\u001b[0;34m)\u001b[0m\u001b[0;34m\u001b[0m\u001b[0m\n\u001b[0m\u001b[1;32m     56\u001b[0m \u001b[0;34m\u001b[0m\u001b[0m\n\u001b[1;32m     57\u001b[0m DEFAULT_SERIALIZERS = {\n",
      "\u001b[0;31mSerializationError\u001b[0m: ({'u': 1000006, 'hist': [{'v': 3398131, 'slot': 22, 'rgtime': 1520769276608, 'imp_dt': '2018-03-11 20'}, {'v': 3365865, 'slot': 5, 'rgtime': 1520830230903, 'imp_dt': '2018-03-12 13'}, {'v': 3284877, 'slot': 6, 'rgtime': 1520830251361, 'imp_dt': '2018-03-12 13'}, {'v': 3384031, 'slot': 9, 'rgtime': 1520830278597, 'imp_dt': '2018-03-12 13'}, {'v': 3398754, 'slot': 1, 'rgtime': 1520830417854, 'imp_dt': '2018-03-12 13'}, {'v': 3387193, 'slot': 2, 'rgtime': 1520850826955, 'imp_dt': '2018-03-12 19'}, {'v': 3429250, 'slot': 1, 'rgtime': 1521384018543, 'imp_dt': '2018-03-18 23'}, {'v': 3337685, 'slot': 10, 'rgtime': 1521384179454, 'imp_dt': '2018-03-18 23'}, {'v': 3418856, 'slot': 10, 'rgtime': 1521541700613, 'imp_dt': '2018-03-20 19'}, {'v': 3339612, 'slot': 7, 'rgtime': 1522072104891, 'imp_dt': '2018-03-26 22'}, {'v': 1938495, 'slot': 4, 'rgtime': 1522215978153, 'imp_dt': '2018-03-28 14'}, {'v': 3472717, 'slot': 4, 'rgtime': 1522595745807, 'imp_dt': '2018-04-02 00'}, {'v': 3435709, 'slot': 14, 'rgtime': 1522675496708, 'imp_dt': '2018-04-02 22'}, {'v': 3518911, 'slot': 4, 'rgtime': 1523321558706, 'imp_dt': '2018-04-10 09'}]}, TypeError(\"Unable to serialize 3398131 (type: <class 'numpy.int64'>)\",))"
     ]
    }
   ],
   "source": [
    "start = time.time()\n",
    "total_time = 0\n",
    "bulk(es, make_wepick_documents(df))\n",
    "total_time += (time.time() - start)\n",
    "print(\"Elapsed Time {} sec\".format(total_time))"
   ]
  },
  {
   "cell_type": "code",
   "execution_count": null,
   "metadata": {},
   "outputs": [],
   "source": []
  }
 ],
 "metadata": {
  "kernelspec": {
   "display_name": "Python 3",
   "language": "python",
   "name": "python3"
  },
  "language_info": {
   "codemirror_mode": {
    "name": "ipython",
    "version": 3
   },
   "file_extension": ".py",
   "mimetype": "text/x-python",
   "name": "python",
   "nbconvert_exporter": "python",
   "pygments_lexer": "ipython3",
   "version": "3.6.2"
  }
 },
 "nbformat": 4,
 "nbformat_minor": 2
}
