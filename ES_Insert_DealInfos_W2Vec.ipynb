{
 "cells": [
  {
   "cell_type": "markdown",
   "metadata": {},
   "source": [
    "# DealInfos_Word2Vec feature를 ES에 벌크 인서트\n",
    "\n",
    "-  환경: ElasticSearch 6\n",
    "-  테스트 머신: 장민 PC\n",
    "\n",
    "```\n",
    "PUT /dealinfos\n",
    "{\n",
    "mapping_dealinfos_word2vec.json\n",
    "}\n",
    "```\n"
   ]
  },
  {
   "cell_type": "code",
   "execution_count": 1,
   "metadata": {
    "collapsed": true
   },
   "outputs": [],
   "source": [
    "import requests\n",
    "import time\n",
    "import urllib\n",
    "import matplotlib.pyplot as plt\n",
    "import matplotlib.font_manager as fm\n",
    "import json\n",
    "import elasticsearch5\n",
    "import csv\n",
    "import pickle\n",
    "from elasticsearch5.helpers import bulk\n",
    "import re\n",
    "import glob\n",
    "import os\n",
    "from datetime import timezone, timedelta, datetime\n",
    "from pymongo import MongoClient"
   ]
  },
  {
   "cell_type": "code",
   "execution_count": 8,
   "metadata": {
    "collapsed": true
   },
   "outputs": [],
   "source": [
    "def make_documents(file_path):\n",
    "    pred_dic = {}\n",
    "    with open(file_path, 'rb') as jsonfile:\n",
    "        for row in jsonfile:\n",
    "            source_ = eval(row)\n",
    "            source = {}\n",
    "            source['v'] = source_['v']\n",
    "            source['words'] = source_['words']\n",
    "            source['values'] = source_['vectorizedWords']['values']\n",
    "            doc =  {\n",
    "                \"_op_type\":'create',\n",
    "                \"_index\":\"deal_word2vec\",\n",
    "                \"_type\":\"doc\",\n",
    "                \"_id\": source['v'],\n",
    "                \"_source\": source\n",
    "            }\n",
    "            yield(doc)"
   ]
  },
  {
   "cell_type": "code",
   "execution_count": 3,
   "metadata": {
    "collapsed": true
   },
   "outputs": [],
   "source": [
    "### Jangmin's PC\n",
    "es_url = 'localhost:9200'"
   ]
  },
  {
   "cell_type": "code",
   "execution_count": 4,
   "metadata": {
    "collapsed": true
   },
   "outputs": [],
   "source": [
    "es = elasticsearch5.Elasticsearch(es_url)"
   ]
  },
  {
   "cell_type": "code",
   "execution_count": 5,
   "metadata": {
    "scrolled": true
   },
   "outputs": [
    {
     "data": {
      "text/plain": [
       "{'deal_word2vec': {'settings': {'index': {'creation_date': '1528197997269',\n",
       "    'number_of_replicas': '1',\n",
       "    'number_of_shards': '5',\n",
       "    'provided_name': 'deal_word2vec',\n",
       "    'uuid': 'dDBs71HjRxKkC48L-SoMCA',\n",
       "    'version': {'created': '6020499'}}}}}"
      ]
     },
     "execution_count": 5,
     "metadata": {},
     "output_type": "execute_result"
    }
   ],
   "source": [
    "es.indices.get_settings(index='deal_word2vec')"
   ]
  },
  {
   "cell_type": "markdown",
   "metadata": {},
   "source": [
    "# bulk inserting to ES"
   ]
  },
  {
   "cell_type": "code",
   "execution_count": 13,
   "metadata": {
    "scrolled": false
   },
   "outputs": [
    {
     "name": "stdout",
     "output_type": "stream",
     "text": [
      "Elapsed Time 1436.8922922611237 sec\n"
     ]
    }
   ],
   "source": [
    "data_dir = r'd:\\WMIND\\temp\\w2vec.json'\n",
    "start = time.time()\n",
    "total_time = 0\n",
    "bulk(es, make_documents(data_dir))\n",
    "total_time += (time.time() - start)\n",
    "print(\"Elapsed Time {} sec\".format(total_time))"
   ]
  },
  {
   "cell_type": "code",
   "execution_count": 16,
   "metadata": {
    "collapsed": true
   },
   "outputs": [],
   "source": [
    "res = es.search(index='deal_word2vec', body={'query': {'match':{'v':'2668602'}}})"
   ]
  },
  {
   "cell_type": "code",
   "execution_count": 17,
   "metadata": {
    "scrolled": true
   },
   "outputs": [
    {
     "data": {
      "text/plain": [
       "1"
      ]
     },
     "execution_count": 17,
     "metadata": {},
     "output_type": "execute_result"
    }
   ],
   "source": [
    "res['hits']['total']"
   ]
  },
  {
   "cell_type": "code",
   "execution_count": 18,
   "metadata": {},
   "outputs": [
    {
     "data": {
      "text/plain": [
       "{'_shards': {'failed': 0, 'skipped': 0, 'successful': 5, 'total': 5},\n",
       " 'hits': {'hits': [{'_id': '2668602',\n",
       "    '_index': 'deal_word2vec',\n",
       "    '_score': 1.0,\n",
       "    '_source': {'v': 2668602,\n",
       "     'values': [-1.7802355289459229,\n",
       "      18.870119285583495,\n",
       "      2.5163070142269137,\n",
       "      -10.703756618499757,\n",
       "      1.600479006767273,\n",
       "      3.5656559824943543,\n",
       "      -5.844938635826111,\n",
       "      6.633014583587647,\n",
       "      8.395471286773683,\n",
       "      -23.7651406288147,\n",
       "      14.762410998344421,\n",
       "      10.690511178970338,\n",
       "      8.746411949396133,\n",
       "      28.675686740875246,\n",
       "      8.49290874004364,\n",
       "      -3.034431028366089,\n",
       "      36.52057704925537,\n",
       "      38.59238967895508,\n",
       "      -3.684904098510742,\n",
       "      33.746253967285156,\n",
       "      -8.964104914665223,\n",
       "      -15.591403150558472,\n",
       "      -0.33317070007324223,\n",
       "      30.87879137992859,\n",
       "      9.32277364730835,\n",
       "      29.246194028854372,\n",
       "      -28.27330641746521,\n",
       "      -20.553472375869752,\n",
       "      -11.5706449508667,\n",
       "      -4.212529945373535,\n",
       "      -10.324701023101808,\n",
       "      -42.630911469459534,\n",
       "      -11.56917097568512,\n",
       "      27.58971519470215,\n",
       "      20.328855752944946,\n",
       "      31.062416267395022,\n",
       "      -43.199251937866215,\n",
       "      17.44265651702881,\n",
       "      0.5601720720529556,\n",
       "      -5.0972403407096865,\n",
       "      7.499890279769898,\n",
       "      4.312903690338135,\n",
       "      21.067235469818115,\n",
       "      -35.45029468536377,\n",
       "      57.368688392639164,\n",
       "      5.252543735504151,\n",
       "      -8.795781183242799,\n",
       "      -18.298339462280275,\n",
       "      19.29131088256836,\n",
       "      -25.692636728286743,\n",
       "      5.588029861450195,\n",
       "      6.066273033618927,\n",
       "      13.853501987457276,\n",
       "      3.9917097806930544,\n",
       "      -18.911224126815796,\n",
       "      3.9173309564590455,\n",
       "      -21.704513168334962,\n",
       "      5.626767635345459,\n",
       "      17.336302065849306,\n",
       "      -10.5677037358284,\n",
       "      48.34491367340088,\n",
       "      -3.013185513019562,\n",
       "      -2.3180924892425536,\n",
       "      -2.4441202104091646,\n",
       "      8.781647062301635,\n",
       "      -30.00034513473511,\n",
       "      25.72464065551758,\n",
       "      -0.4917409360408783,\n",
       "      -60.1173152923584,\n",
       "      -16.311076378822328,\n",
       "      41.25969161987305,\n",
       "      -43.45902919769287,\n",
       "      15.138203716278078,\n",
       "      -6.778974485397339,\n",
       "      12.98308424949646,\n",
       "      10.429388642311096,\n",
       "      43.022096276283264,\n",
       "      35.6189239025116,\n",
       "      2.6303258061409,\n",
       "      -20.436160993576053,\n",
       "      -8.582308292388916,\n",
       "      -5.341213893890381,\n",
       "      -49.46893157958985,\n",
       "      16.13865547180176,\n",
       "      4.589893674850464,\n",
       "      35.649096202850345,\n",
       "      -15.245275163650513,\n",
       "      -17.747131443023683,\n",
       "      6.278267884254456,\n",
       "      55.643533897399905,\n",
       "      32.08710346221924,\n",
       "      -14.808056926727296,\n",
       "      1.017113494873047,\n",
       "      5.82193307876587,\n",
       "      22.2470413684845,\n",
       "      -14.995592021942139,\n",
       "      -1.8327537298202516,\n",
       "      13.74962797164917,\n",
       "      -2.6619947433471682,\n",
       "      -9.175537669658661],\n",
       "     'words': ['침대', '수납침대', '동서가구', '대용량서랍침대', '슈퍼싱글침대']},\n",
       "    '_type': 'doc'}],\n",
       "  'max_score': 1.0,\n",
       "  'total': 1},\n",
       " 'timed_out': False,\n",
       " 'took': 14}"
      ]
     },
     "execution_count": 18,
     "metadata": {},
     "output_type": "execute_result"
    }
   ],
   "source": [
    "res\n"
   ]
  },
  {
   "cell_type": "code",
   "execution_count": null,
   "metadata": {
    "collapsed": true
   },
   "outputs": [],
   "source": []
  }
 ],
 "metadata": {
  "kernelspec": {
   "display_name": "Python 3",
   "language": "python",
   "name": "python3"
  },
  "language_info": {
   "codemirror_mode": {
    "name": "ipython",
    "version": 3
   },
   "file_extension": ".py",
   "mimetype": "text/x-python",
   "name": "python",
   "nbconvert_exporter": "python",
   "pygments_lexer": "ipython3",
   "version": "3.5.4"
  }
 },
 "nbformat": 4,
 "nbformat_minor": 2
}
