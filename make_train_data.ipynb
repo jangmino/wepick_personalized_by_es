{
 "cells": [
  {
   "cell_type": "code",
   "execution_count": 1,
   "metadata": {
    "collapsed": true
   },
   "outputs": [],
   "source": [
    "from __future__ import absolute_import\n",
    "from __future__ import division\n",
    "from __future__ import print_function\n",
    "\n",
    "import os\n",
    "import time\n",
    "import pickle\n",
    "import random\n",
    "import numpy as np\n",
    "import sys\n",
    "import glob\n",
    "import pandas as pd\n",
    "from operator import itemgetter, attrgetter"
   ]
  },
  {
   "cell_type": "markdown",
   "metadata": {},
   "source": [
    "## Word2Vec 기반 데이터 가공하여 train / test 데이터 만들기\n",
    "\n",
    "- pandas로 csv 파일을 읽는다.\n",
    "- 각 컬럼은 미리 header 와 dtypes를 정의해둔다.\n",
    "- 그후 base_model_simple 에 맞게 python list 형태를 생성\n",
    "    - 단점: python list 생성시 메모리가 너무 많이 필요\n",
    "    - TODO: base_model_simple을 pandas를 직접 읽어서 처리 (python list 버리자)"
   ]
  },
  {
   "cell_type": "code",
   "execution_count": 2,
   "metadata": {
    "collapsed": true
   },
   "outputs": [],
   "source": [
    "D = 100"
   ]
  },
  {
   "cell_type": "markdown",
   "metadata": {},
   "source": [
    "## 학습 데이터"
   ]
  },
  {
   "cell_type": "code",
   "execution_count": 3,
   "metadata": {
    "collapsed": true
   },
   "outputs": [],
   "source": [
    "base_header = [\"u\", \"ts\", \"v\", \"slot\", \"label\"]\n",
    "dtypes = {\"u\":np.int32, \"ts\":str, \"v\":np.int32, \"slot\":np.int32, \"label\":np.int32}"
   ]
  },
  {
   "cell_type": "code",
   "execution_count": 4,
   "metadata": {
    "collapsed": true
   },
   "outputs": [],
   "source": [
    "name_header = base_header\n",
    "for i in range(D):\n",
    "    field = \"h{}\".format(i)\n",
    "    name_header.append(field)\n",
    "    dtypes[field] = np.float32\n",
    "for i in range(D):\n",
    "    field = \"d{}\".format(i)\n",
    "    name_header.append(field)\n",
    "    dtypes[field] = np.float32"
   ]
  },
  {
   "cell_type": "code",
   "execution_count": 5,
   "metadata": {
    "collapsed": true
   },
   "outputs": [],
   "source": [
    "train_df = pd.read_csv(r'd:\\WMIND\\temp\\train_data_w2vec_1M.csv', header=None, names=name_header, dtype=dtypes, parse_dates=['ts'])\n",
    "#train_df = pd.read_csv(r'd:\\WMIND\\temp\\train_data_w2vec_100K.csv', header=None, names=name_header, dtype=dtypes, parse_dates=['ts'])"
   ]
  },
  {
   "cell_type": "code",
   "execution_count": 6,
   "metadata": {
    "collapsed": true
   },
   "outputs": [],
   "source": [
    "col_dic = dict(zip(list(train_df), range(len(list(train_df)))))"
   ]
  },
  {
   "cell_type": "code",
   "execution_count": 7,
   "metadata": {
    "collapsed": true
   },
   "outputs": [],
   "source": [
    "x = train_df[train_df.columns[col_dic['h0']:col_dic['d99']+1]]"
   ]
  },
  {
   "cell_type": "code",
   "execution_count": 8,
   "metadata": {
    "collapsed": true
   },
   "outputs": [],
   "source": [
    "y = train_df['label']"
   ]
  },
  {
   "cell_type": "code",
   "execution_count": 9,
   "metadata": {
    "collapsed": true
   },
   "outputs": [],
   "source": [
    "oj = y.values"
   ]
  },
  {
   "cell_type": "code",
   "execution_count": 10,
   "metadata": {},
   "outputs": [
    {
     "data": {
      "text/plain": [
       "(1549581,)"
      ]
     },
     "execution_count": 10,
     "metadata": {},
     "output_type": "execute_result"
    }
   ],
   "source": [
    "oj.shape"
   ]
  },
  {
   "cell_type": "code",
   "execution_count": 11,
   "metadata": {},
   "outputs": [
    {
     "data": {
      "text/plain": [
       "Index(['h0', 'h1', 'h2', 'h3', 'h4', 'h5', 'h6', 'h7', 'h8', 'h9',\n",
       "       ...\n",
       "       'd90', 'd91', 'd92', 'd93', 'd94', 'd95', 'd96', 'd97', 'd98', 'd99'],\n",
       "      dtype='object', length=200)"
      ]
     },
     "execution_count": 11,
     "metadata": {},
     "output_type": "execute_result"
    }
   ],
   "source": [
    "train_df.columns[col_dic['h0']:col_dic['d99']+1]"
   ]
  },
  {
   "cell_type": "code",
   "execution_count": 12,
   "metadata": {},
   "outputs": [
    {
     "ename": "NameError",
     "evalue": "name 'ojm' is not defined",
     "output_type": "error",
     "traceback": [
      "\u001b[1;31m---------------------------------------------------------------------------\u001b[0m",
      "\u001b[1;31mNameError\u001b[0m                                 Traceback (most recent call last)",
      "\u001b[1;32m<ipython-input-12-65d2401dd04e>\u001b[0m in \u001b[0;36m<module>\u001b[1;34m()\u001b[0m\n\u001b[1;32m----> 1\u001b[1;33m \u001b[0mojm\u001b[0m\u001b[1;33m.\u001b[0m\u001b[0minfo\u001b[0m\u001b[1;33m(\u001b[0m\u001b[1;33m)\u001b[0m\u001b[1;33m\u001b[0m\u001b[0m\n\u001b[0m",
      "\u001b[1;31mNameError\u001b[0m: name 'ojm' is not defined"
     ]
    }
   ],
   "source": [
    "ojm.info()"
   ]
  },
  {
   "cell_type": "code",
   "execution_count": 13,
   "metadata": {
    "collapsed": true
   },
   "outputs": [],
   "source": [
    "train_df = train_df.sample(frac=0.5)"
   ]
  },
  {
   "cell_type": "code",
   "execution_count": 14,
   "metadata": {},
   "outputs": [
    {
     "name": "stdout",
     "output_type": "stream",
     "text": [
      "<class 'pandas.core.frame.DataFrame'>\n",
      "Int64Index: 774790 entries, 1252398 to 1358732\n",
      "Columns: 205 entries, u to d99\n",
      "dtypes: datetime64[ns](1), float32(200), int32(4)\n",
      "memory usage: 614.8 MB\n"
     ]
    }
   ],
   "source": [
    "train_df.info()"
   ]
  },
  {
   "cell_type": "code",
   "execution_count": 15,
   "metadata": {
    "collapsed": true
   },
   "outputs": [],
   "source": [
    "#print(test_df.dtypes)\n",
    "train_set = []\n",
    "for row in train_df.itertuples(False):    \n",
    "    prefix = row[col_dic['u']:col_dic['label']+1]\n",
    "    profile = row[col_dic['h0']:col_dic['h99']+1]\n",
    "    deal_feature = row[col_dic['d0']:col_dic['d99']+1]\n",
    "    train_set.append((prefix, profile, deal_feature))"
   ]
  },
  {
   "cell_type": "markdown",
   "metadata": {},
   "source": [
    "## 테스트 데이터"
   ]
  },
  {
   "cell_type": "code",
   "execution_count": 16,
   "metadata": {
    "collapsed": true
   },
   "outputs": [],
   "source": [
    "test_base_header = [\"u\", \"ts\", \"p_v\", \"p_slot\", \"n_v\", \"n_slot\"]\n",
    "test_dtypes = {\"u\":np.int32, \"ts\":str, \"p_v\":np.int32, \"p_slot\":np.int32, \"n_v\":np.int32, \"n_slot\":np.int32}"
   ]
  },
  {
   "cell_type": "code",
   "execution_count": 17,
   "metadata": {
    "collapsed": true
   },
   "outputs": [],
   "source": [
    "name_header = test_base_header\n",
    "for i in range(D):\n",
    "    field = \"h{}\".format(i)\n",
    "    name_header.append(field)\n",
    "    test_dtypes[field] = np.float32\n",
    "for i in range(D):\n",
    "    field = \"p{}\".format(i)\n",
    "    name_header.append(field)\n",
    "    test_dtypes[field] = np.float32\n",
    "for i in range(D):\n",
    "    field = \"n{}\".format(i)\n",
    "    name_header.append(field)\n",
    "    test_dtypes[field] = np.float32"
   ]
  },
  {
   "cell_type": "code",
   "execution_count": 18,
   "metadata": {
    "collapsed": true
   },
   "outputs": [],
   "source": [
    "test_df = pd.read_csv(r'd:\\WMIND\\temp\\test_data_w2vec_1M.csv', header=None, names=name_header, dtype=test_dtypes, parse_dates=['ts'])"
   ]
  },
  {
   "cell_type": "code",
   "execution_count": 19,
   "metadata": {
    "collapsed": true
   },
   "outputs": [],
   "source": [
    "###############"
   ]
  },
  {
   "cell_type": "code",
   "execution_count": 20,
   "metadata": {
    "collapsed": true
   },
   "outputs": [],
   "source": [
    "col_dic = dict(zip(list(test_df), range(len(list(test_df)))))"
   ]
  },
  {
   "cell_type": "code",
   "execution_count": 21,
   "metadata": {
    "collapsed": true
   },
   "outputs": [],
   "source": [
    "pos_columns = list(test_df.columns[col_dic['h0']:col_dic['p99'] + 1])\n",
    "neg_columns = list(test_df.columns[col_dic['h0']:col_dic['h99'] + 1]) + list(test_df.columns[col_dic['n0']:col_dic['n99'] + 1])"
   ]
  },
  {
   "cell_type": "code",
   "execution_count": 22,
   "metadata": {
    "collapsed": true
   },
   "outputs": [],
   "source": [
    "x1 = test_df[pos_columns]\n",
    "x2 = test_df[neg_columns]"
   ]
  },
  {
   "cell_type": "code",
   "execution_count": 23,
   "metadata": {
    "collapsed": true
   },
   "outputs": [],
   "source": [
    "x1 = x1.values\n",
    "x2 = x2.values"
   ]
  },
  {
   "cell_type": "code",
   "execution_count": 24,
   "metadata": {
    "collapsed": true
   },
   "outputs": [],
   "source": [
    "y1 = np.ones((x1.shape[0],))\n",
    "y2 = np.zeros((x2.shape[0],))"
   ]
  },
  {
   "cell_type": "code",
   "execution_count": 25,
   "metadata": {
    "collapsed": true
   },
   "outputs": [],
   "source": [
    "x = np.vstack((x1, x2))\n",
    "y = np.concatenate((y1, y2))"
   ]
  },
  {
   "cell_type": "code",
   "execution_count": 26,
   "metadata": {},
   "outputs": [
    {
     "data": {
      "text/plain": [
       "array([1., 1., 1., ..., 0., 0., 0.])"
      ]
     },
     "execution_count": 26,
     "metadata": {},
     "output_type": "execute_result"
    }
   ],
   "source": [
    "y"
   ]
  },
  {
   "cell_type": "code",
   "execution_count": 62,
   "metadata": {
    "collapsed": true
   },
   "outputs": [],
   "source": [
    "data2 = np.load(r'd:\\WMIND\\temp\\feat\\3538943.npy') "
   ]
  },
  {
   "cell_type": "code",
   "execution_count": 63,
   "metadata": {},
   "outputs": [
    {
     "data": {
      "text/plain": [
       "(2048,)"
      ]
     },
     "execution_count": 63,
     "metadata": {},
     "output_type": "execute_result"
    }
   ],
   "source": [
    "data2.shape"
   ]
  },
  {
   "cell_type": "code",
   "execution_count": null,
   "metadata": {
    "collapsed": true
   },
   "outputs": [],
   "source": [
    "###############"
   ]
  },
  {
   "cell_type": "code",
   "execution_count": 27,
   "metadata": {
    "collapsed": true
   },
   "outputs": [],
   "source": [
    "col_dic = dict(zip(list(test_df), range(len(list(test_df)))))"
   ]
  },
  {
   "cell_type": "code",
   "execution_count": 28,
   "metadata": {
    "collapsed": true,
    "scrolled": false
   },
   "outputs": [],
   "source": [
    "#print(test_df.dtypes)\n",
    "test_set = []\n",
    "for row in test_df.itertuples(False):    \n",
    "    prefix = row[col_dic['u']:col_dic['n_slot']+1]\n",
    "    profile = row[col_dic['h0']:col_dic['h99']+1]\n",
    "    pos_feature = row[col_dic['p0']:col_dic['p99']+1]\n",
    "    neg_feature = row[col_dic['n0']:col_dic['n99']+1]\n",
    "    test_set.append((prefix, profile, pos_feature, neg_feature))"
   ]
  },
  {
   "cell_type": "markdown",
   "metadata": {},
   "source": [
    "### 저장"
   ]
  },
  {
   "cell_type": "code",
   "execution_count": 29,
   "metadata": {
    "collapsed": true
   },
   "outputs": [],
   "source": [
    "random.shuffle(train_set)\n",
    "random.shuffle(test_set)"
   ]
  },
  {
   "cell_type": "code",
   "execution_count": 30,
   "metadata": {
    "collapsed": true
   },
   "outputs": [],
   "source": [
    "with open('w2v_dataset.pkl', 'wb') as f:\n",
    "    pickle.dump(train_set, f, pickle.HIGHEST_PROTOCOL)\n",
    "    pickle.dump(test_set, f, pickle.HIGHEST_PROTOCOL)"
   ]
  },
  {
   "cell_type": "code",
   "execution_count": null,
   "metadata": {
    "collapsed": true
   },
   "outputs": [],
   "source": []
  }
 ],
 "metadata": {
  "kernelspec": {
   "display_name": "Python 3",
   "language": "python",
   "name": "python3"
  },
  "language_info": {
   "codemirror_mode": {
    "name": "ipython",
    "version": 3
   },
   "file_extension": ".py",
   "mimetype": "text/x-python",
   "name": "python",
   "nbconvert_exporter": "python",
   "pygments_lexer": "ipython3",
   "version": "3.5.4"
  }
 },
 "nbformat": 4,
 "nbformat_minor": 2
}
