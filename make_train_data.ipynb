{
 "cells": [
  {
   "cell_type": "code",
   "execution_count": 1,
   "metadata": {
    "collapsed": true
   },
   "outputs": [],
   "source": [
    "from __future__ import absolute_import\n",
    "from __future__ import division\n",
    "from __future__ import print_function\n",
    "\n",
    "import os\n",
    "import time\n",
    "import pickle\n",
    "import randomz\n",
    "import numpy as np\n",
    "import sys\n",
    "import glob\n",
    "import pandas as pd\n",
    "from operator import itemgetter, attrgetter"
   ]
  },
  {
   "cell_type": "markdown",
   "metadata": {},
   "source": [
    "## Word2Vec 기반 데이터 가공하여 train / test 데이터 만들기\n",
    "\n",
    "- pandas로 csv 파일을 읽는다.\n",
    "- 각 컬럼은 미리 header 와 dtypes를 정의해둔다.\n",
    "- 그후 base_model_simple 에 맞게 python list 형태를 생성\n",
    "    - 단점: python list 생성시 메모리가 너무 많이 필요\n",
    "    - TODO: base_model_simple을 pandas를 직접 읽어서 처리 (python list 버리자)"
   ]
  },
  {
   "cell_type": "code",
   "execution_count": 2,
   "metadata": {
    "collapsed": true
   },
   "outputs": [],
   "source": [
    "D = 100"
   ]
  },
  {
   "cell_type": "code",
   "execution_count": 3,
   "metadata": {
    "collapsed": true
   },
   "outputs": [],
   "source": [
    "base_header = [\"u\", \"ts\", \"v\", \"slot\", \"label\"]\n",
    "dtypes = {\"u\":np.int32, \"ts\":str, \"v\":np.int32, \"slot\":np.int32, \"label\":np.int32}"
   ]
  },
  {
   "cell_type": "code",
   "execution_count": 4,
   "metadata": {
    "collapsed": true
   },
   "outputs": [],
   "source": [
    "name_header = base_header\n",
    "for i in range(D):\n",
    "    field = \"h{}\".format(i)\n",
    "    name_header.append(field)\n",
    "    dtypes[field] = np.float32\n",
    "for i in range(D):\n",
    "    field = \"d{}\".format(i)\n",
    "    name_header.append(field)\n",
    "    dtypes[field] = np.float32"
   ]
  },
  {
   "cell_type": "code",
   "execution_count": 5,
   "metadata": {
    "collapsed": true
   },
   "outputs": [],
   "source": [
    "train_df = pd.read_csv(r'd:\\WMIND\\temp\\train_data_w2vec_1M.csv', header=None, names=name_header, dtype=dtypes, parse_dates=['ts'])"
   ]
  },
  {
   "cell_type": "code",
   "execution_count": 6,
   "metadata": {
    "collapsed": true
   },
   "outputs": [],
   "source": [
    "col_dic = dict(zip(list(train_df), range(len(list(train_df)))))"
   ]
  },
  {
   "cell_type": "code",
   "execution_count": 7,
   "metadata": {
    "collapsed": true
   },
   "outputs": [],
   "source": [
    "train_df = train_df.sample(frac=0.5)"
   ]
  },
  {
   "cell_type": "code",
   "execution_count": 8,
   "metadata": {},
   "outputs": [
    {
     "name": "stdout",
     "output_type": "stream",
     "text": [
      "<class 'pandas.core.frame.DataFrame'>\n",
      "Int64Index: 731533 entries, 489494 to 582941\n",
      "Columns: 205 entries, u to d99\n",
      "dtypes: datetime64[ns](1), float32(200), int32(4)\n",
      "memory usage: 580.4 MB\n"
     ]
    }
   ],
   "source": [
    "train_df.info()"
   ]
  },
  {
   "cell_type": "code",
   "execution_count": 9,
   "metadata": {
    "collapsed": true
   },
   "outputs": [],
   "source": [
    "#print(test_df.dtypes)\n",
    "train_set = []\n",
    "for row in train_df.itertuples(False):    \n",
    "    prefix = row[col_dic['u']:col_dic['label']+1]\n",
    "    profile = row[col_dic['h0']:col_dic['h99']+1]\n",
    "    deal_feature = row[col_dic['d0']:col_dic['d99']+1]\n",
    "    train_set.append((prefix, profile, deal_feature))"
   ]
  },
  {
   "cell_type": "code",
   "execution_count": 10,
   "metadata": {
    "collapsed": true
   },
   "outputs": [],
   "source": [
    "test_base_header = [\"u\", \"ts\", \"p_v\", \"p_slot\", \"n_v\", \"n_slot\"]\n",
    "test_dtypes = {\"u\":np.int32, \"ts\":str, \"p_v\":np.int32, \"p_slot\":np.int32, \"n_v\":np.int32, \"n_slot\":np.int32}"
   ]
  },
  {
   "cell_type": "code",
   "execution_count": 11,
   "metadata": {
    "collapsed": true
   },
   "outputs": [],
   "source": [
    "name_header = test_base_header\n",
    "for i in range(D):\n",
    "    field = \"h{}\".format(i)\n",
    "    name_header.append(field)\n",
    "    test_dtypes[field] = np.float32\n",
    "for i in range(D):\n",
    "    field = \"p{}\".format(i)\n",
    "    name_header.append(field)\n",
    "    test_dtypes[field] = np.float32\n",
    "for i in range(D):\n",
    "    field = \"n{}\".format(i)\n",
    "    name_header.append(field)\n",
    "    test_dtypes[field] = np.float32"
   ]
  },
  {
   "cell_type": "code",
   "execution_count": 12,
   "metadata": {
    "collapsed": true
   },
   "outputs": [],
   "source": [
    "test_df = pd.read_csv(r'd:\\WMIND\\temp\\test_data_w2vec_1M.csv', header=None, names=name_header, dtype=test_dtypes, parse_dates=['ts'])"
   ]
  },
  {
   "cell_type": "code",
   "execution_count": 13,
   "metadata": {
    "collapsed": true
   },
   "outputs": [],
   "source": [
    "col_dic = dict(zip(list(test_df), range(len(list(test_df)))))"
   ]
  },
  {
   "cell_type": "code",
   "execution_count": 14,
   "metadata": {
    "collapsed": true,
    "scrolled": false
   },
   "outputs": [],
   "source": [
    "#print(test_df.dtypes)\n",
    "test_set = []\n",
    "for row in test_df.itertuples(False):    \n",
    "    prefix = row[col_dic['u']:col_dic['n_slot']+1]\n",
    "    profile = row[col_dic['h0']:col_dic['h99']+1]\n",
    "    pos_feature = row[col_dic['p0']:col_dic['p99']+1]\n",
    "    neg_feature = row[col_dic['n0']:col_dic['n99']+1]\n",
    "    test_set.append((prefix, profile, pos_feature, neg_feature))"
   ]
  },
  {
   "cell_type": "markdown",
   "metadata": {},
   "source": [
    "### 저장"
   ]
  },
  {
   "cell_type": "code",
   "execution_count": 15,
   "metadata": {
    "collapsed": true
   },
   "outputs": [],
   "source": [
    "random.shuffle(train_set)\n",
    "random.shuffle(test_set)"
   ]
  },
  {
   "cell_type": "code",
   "execution_count": 16,
   "metadata": {
    "collapsed": true
   },
   "outputs": [],
   "source": [
    "with open('w2v_dataset.pkl', 'wb') as f:\n",
    "    pickle.dump(train_set, f, pickle.HIGHEST_PROTOCOL)\n",
    "    pickle.dump(test_set, f, pickle.HIGHEST_PROTOCOL)"
   ]
  },
  {
   "cell_type": "code",
   "execution_count": null,
   "metadata": {
    "collapsed": true
   },
   "outputs": [],
   "source": []
  }
 ],
 "metadata": {
  "kernelspec": {
   "display_name": "Python 3",
   "language": "python",
   "name": "python3"
  },
  "language_info": {
   "codemirror_mode": {
    "name": "ipython",
    "version": 3
   },
   "file_extension": ".py",
   "mimetype": "text/x-python",
   "name": "python",
   "nbconvert_exporter": "python",
   "pygments_lexer": "ipython3",
   "version": "3.5.4"
  }
 },
 "nbformat": 4,
 "nbformat_minor": 2
}
