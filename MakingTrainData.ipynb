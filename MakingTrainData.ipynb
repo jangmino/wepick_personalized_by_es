{
 "cells": [
  {
   "cell_type": "markdown",
   "metadata": {},
   "source": [
    "# Train Dataset 빌딩\n",
    "\n",
    "- 위픽 슬롯 사용에 맞는 Positive/Negative Labeling 으로 정제된 데이터 생성\n",
    "\n",
    "### 데이터 기초 변형\n",
    "- 유저별 정렬된 위픽 히스토리 생성: \n",
    "    `sort -t, -k2,2n -k4n pos_dataset.csv > pos_dataset_by_user.csv`\n",
    "    \n",
    "- 각 유저별로 시간순으로 정렬된 시퀀스에 대해\n",
    "    - (pos, neg) 쌍으로 추출\n",
    "        - dt 별로 그룹화하여\n",
    "            - gte_slot (20)이상 ~ 100 미만 슬롯의 클릭을 우선 positive example로 선정\n",
    "            - 해당 positive example의 슬롯 상위 window 범위 내에서 랜덤 샘플링하여 negative example 짝을 선정\n",
    "                - 샘플링시, dt 내에서 일으킨 클릭은 제외함\n",
    "    - (pos, neg)에 대한 유저 프로파일을 정의할 히스토리 정의\n",
    "        - 히스토리 길이가 min_profile_cnt (4) 이상인 것만 골라서, 최근 기준 max_profile_cnt 길이로 히스토리를 제한\n",
    "        - 각 유저별로 히스토리의 갯수 (샘플 수)가 max_sample_per_user 넘지 않게 재한\n",
    "    - 그 후, word2vec 을 조회하여, user_profile, deal_profile 생성"
   ]
  },
  {
   "cell_type": "code",
   "execution_count": 1,
   "metadata": {
    "collapsed": true
   },
   "outputs": [],
   "source": [
    "import requests\n",
    "import time\n",
    "import urllib\n",
    "import matplotlib.pyplot as plt\n",
    "import matplotlib.font_manager as fm\n",
    "import json\n",
    "import elasticsearch\n",
    "import csv\n",
    "import pickle\n",
    "from elasticsearch.helpers import bulk\n",
    "import re\n",
    "import glob\n",
    "import os\n",
    "from datetime import timezone, timedelta, datetime\n",
    "import pandas as pd\n",
    "import numpy as np\n",
    "from random import shuffle"
   ]
  },
  {
   "cell_type": "markdown",
   "metadata": {},
   "source": [
    "### wepick_setting to ES (확장 버전)\n",
    "\n",
    "- 3월10일- 4월11일까지 전부"
   ]
  },
  {
   "cell_type": "code",
   "execution_count": 2,
   "metadata": {
    "collapsed": true
   },
   "outputs": [],
   "source": [
    "data_path = r'd:\\WMIND\\temp\\wepick_settings.txt'"
   ]
  },
  {
   "cell_type": "code",
   "execution_count": 3,
   "metadata": {
    "collapsed": true
   },
   "outputs": [],
   "source": [
    "with open(data_path) as csvfile:\n",
    "    reader = csv.reader(csvfile)\n",
    "    wepick_setting_dic = {}\n",
    "    for row in reader:\n",
    "        deal_info = row[0].strip().split(' ')\n",
    "        cnt, did = int(deal_info[0]), int(deal_info[1])\n",
    "        slot = int(row[1])\n",
    "        dt= row[2]\n",
    "        if dt not in wepick_setting_dic:\n",
    "            wepick_setting_dic[dt] = {}\n",
    "        if slot not in wepick_setting_dic[dt] or cnt > wepick_setting_dic[dt][slot][1]:\n",
    "            wepick_setting_dic[dt][slot] = (did, cnt)"
   ]
  },
  {
   "cell_type": "code",
   "execution_count": 4,
   "metadata": {
    "collapsed": true
   },
   "outputs": [
    {
     "data": {
      "text/plain": [
       "{1: (3527645, 4409),\n",
       " 2: (3526222, 4007),\n",
       " 3: (3524983, 885),\n",
       " 4: (3521050, 3398),\n",
       " 5: (3513020, 1521),\n",
       " 6: (3515664, 3382),\n",
       " 7: (3535398, 2978),\n",
       " 9: (3526953, 950),\n",
       " 10: (3525364, 2837),\n",
       " 11: (3532655, 324),\n",
       " 12: (3521622, 324),\n",
       " 13: (3524754, 152),\n",
       " 14: (3207879, 246),\n",
       " 15: (3528037, 894),\n",
       " 16: (3479353, 1),\n",
       " 17: (2991058, 489),\n",
       " 18: (3520987, 2121),\n",
       " 19: (1534369, 224),\n",
       " 20: (3527675, 1316),\n",
       " 21: (3525346, 108),\n",
       " 22: (3486081, 405),\n",
       " 23: (2409745, 300),\n",
       " 24: (3529131, 479),\n",
       " 25: (3521723, 826),\n",
       " 26: (3538332, 368),\n",
       " 27: (3528363, 1827),\n",
       " 28: (3525317, 2145),\n",
       " 29: (3505573, 448),\n",
       " 30: (3512215, 776),\n",
       " 31: (3519047, 415),\n",
       " 32: (3514459, 1050),\n",
       " 33: (3541064, 176),\n",
       " 34: (1438471, 338),\n",
       " 35: (3515997, 1515),\n",
       " 36: (3512593, 1759),\n",
       " 37: (3068897, 340),\n",
       " 38: (3525124, 160),\n",
       " 39: (3517009, 674),\n",
       " 40: (3544562, 713),\n",
       " 41: (3539755, 604),\n",
       " 42: (3526985, 1182),\n",
       " 43: (3527053, 702),\n",
       " 44: (3522402, 927),\n",
       " 45: (3515524, 1059),\n",
       " 46: (3522395, 952),\n",
       " 47: (3500355, 229),\n",
       " 48: (3516354, 199),\n",
       " 49: (3509649, 218),\n",
       " 50: (3061867, 200),\n",
       " 51: (3521785, 731),\n",
       " 53: (3483431, 456),\n",
       " 54: (3498872, 641),\n",
       " 55: (3527575, 930),\n",
       " 56: (3527861, 326),\n",
       " 57: (3464309, 141),\n",
       " 58: (3524547, 221),\n",
       " 59: (3527824, 197),\n",
       " 60: (3119252, 136),\n",
       " 61: (3527477, 723),\n",
       " 63: (3506713, 248),\n",
       " 64: (3508946, 374),\n",
       " 65: (3515873, 486),\n",
       " 66: (3525068, 1069),\n",
       " 67: (3513787, 148),\n",
       " 68: (3515414, 360),\n",
       " 69: (3477356, 115),\n",
       " 70: (3529165, 1717),\n",
       " 71: (3544419, 541),\n",
       " 73: (3521451, 219),\n",
       " 74: (3525500, 1004),\n",
       " 75: (3513766, 509),\n",
       " 76: (3521741, 210),\n",
       " 77: (3492158, 275),\n",
       " 78: (3504137, 340),\n",
       " 79: (3518630, 586),\n",
       " 80: (3511172, 62),\n",
       " 81: (3515690, 312),\n",
       " 82: (3532677, 1),\n",
       " 83: (3524294, 306),\n",
       " 84: (2258611, 189),\n",
       " 85: (3512421, 123),\n",
       " 86: (3532552, 113),\n",
       " 87: (3507588, 299),\n",
       " 88: (3533188, 199),\n",
       " 89: (3512948, 87),\n",
       " 90: (3527631, 830),\n",
       " 91: (3527569, 861),\n",
       " 92: (3519199, 148)}"
      ]
     },
     "execution_count": 4,
     "metadata": {},
     "output_type": "execute_result"
    }
   ],
   "source": [
    "wepick_setting_dic['2018-04-11 21']"
   ]
  },
  {
   "cell_type": "markdown",
   "metadata": {},
   "source": [
    "### 간단 분석"
   ]
  },
  {
   "cell_type": "code",
   "execution_count": 4,
   "metadata": {
    "collapsed": true
   },
   "outputs": [],
   "source": [
    "## 간단 분석\n",
    "path = 'c:\\\\windows\\\\fonts\\\\nanumgothiccoding.ttf'\n",
    "font_name = fm.FontProperties(fname=path, size=50).get_name()\n",
    "plt.rc('font', family=font_name)"
   ]
  },
  {
   "cell_type": "code",
   "execution_count": 5,
   "metadata": {
    "collapsed": true
   },
   "outputs": [],
   "source": [
    "h = []\n",
    "label = []\n",
    "for s, pair in wepick_setting_dic['2018-04-11 16'].items():\n",
    "    if s < 21: continue\n",
    "    h.append(int(pair[1]))\n",
    "    label.append(s)\n"
   ]
  },
  {
   "cell_type": "code",
   "execution_count": 6,
   "metadata": {
    "collapsed": true
   },
   "outputs": [],
   "source": [
    "slot_dic = {}\n",
    "#for i in range(24):\n",
    "for dt in wepick_setting_dic.keys():\n",
    "    #dt = '2018-04-10 {:02}'.format(i)\n",
    "    for s, pair in wepick_setting_dic[dt].items():\n",
    "        if s > 100 or s < 20: continue\n",
    "        if s not in slot_dic:\n",
    "            slot_dic[s] = pair[1]\n",
    "        else:\n",
    "            slot_dic[s] += pair[1]"
   ]
  },
  {
   "cell_type": "code",
   "execution_count": 7,
   "metadata": {
    "collapsed": true
   },
   "outputs": [],
   "source": [
    "n_groups = len(label)"
   ]
  },
  {
   "cell_type": "code",
   "execution_count": 8,
   "metadata": {},
   "outputs": [
    {
     "data": {
      "text/plain": [
       "[<matplotlib.lines.Line2D at 0x1c00d708358>]"
      ]
     },
     "execution_count": 8,
     "metadata": {},
     "output_type": "execute_result"
    }
   ],
   "source": [
    "plt.plot( slot_dic.keys(), slot_dic.values() )"
   ]
  },
  {
   "cell_type": "code",
   "execution_count": 9,
   "metadata": {
    "scrolled": true
   },
   "outputs": [
    {
     "data": {
      "image/png": "[encoded data removed]",
      "text/plain": [
       "<matplotlib.figure.Figure at 0x1c00ce3a518>"
      ]
     },
     "metadata": {},
     "output_type": "display_data"
    }
   ],
   "source": [
    "plt.show()"
   ]
  },
  {
   "cell_type": "code",
   "execution_count": 11,
   "metadata": {
    "collapsed": true
   },
   "outputs": [
    {
     "data": {
      "text/plain": [
       "{20: 618956,\n",
       " 21: 96344,\n",
       " 22: 555880,\n",
       " 23: 162338,\n",
       " 24: 590638,\n",
       " 25: 497122,\n",
       " 26: 105804,\n",
       " 27: 453021,\n",
       " 28: 457793,\n",
       " 29: 400802,\n",
       " 30: 432653,\n",
       " 31: 165501,\n",
       " 32: 362986,\n",
       " 33: 384490,\n",
       " 34: 351675,\n",
       " 35: 364683,\n",
       " 36: 380245,\n",
       " 37: 386812,\n",
       " 38: 346335,\n",
       " 39: 328041,\n",
       " 40: 354587,\n",
       " 41: 378463,\n",
       " 42: 326872,\n",
       " 43: 268729,\n",
       " 44: 293436,\n",
       " 45: 357237,\n",
       " 46: 322691,\n",
       " 47: 254410,\n",
       " 48: 299000,\n",
       " 49: 291971,\n",
       " 50: 314874,\n",
       " 51: 283494,\n",
       " 52: 237638,\n",
       " 53: 265361,\n",
       " 54: 291537,\n",
       " 55: 237128,\n",
       " 56: 225087,\n",
       " 57: 208740,\n",
       " 58: 231501,\n",
       " 59: 250360,\n",
       " 60: 273493,\n",
       " 61: 234818,\n",
       " 62: 197651,\n",
       " 63: 240403,\n",
       " 64: 246465,\n",
       " 65: 221687,\n",
       " 66: 200070,\n",
       " 67: 198304,\n",
       " 68: 194979,\n",
       " 69: 181843,\n",
       " 70: 213362,\n",
       " 71: 205468,\n",
       " 72: 197385,\n",
       " 73: 237838,\n",
       " 74: 223019,\n",
       " 75: 213612,\n",
       " 76: 195124,\n",
       " 77: 194301,\n",
       " 78: 176141,\n",
       " 79: 185387,\n",
       " 80: 191943,\n",
       " 81: 198641,\n",
       " 82: 182312,\n",
       " 83: 180791,\n",
       " 84: 180220,\n",
       " 85: 169651,\n",
       " 86: 186484,\n",
       " 87: 171513,\n",
       " 88: 163740,\n",
       " 89: 135349,\n",
       " 90: 108277,\n",
       " 91: 86088,\n",
       " 92: 82180,\n",
       " 93: 58596,\n",
       " 94: 47415,\n",
       " 95: 37902,\n",
       " 96: 20890,\n",
       " 97: 11280,\n",
       " 98: 15482,\n",
       " 99: 13931,\n",
       " 100: 6287}"
      ]
     },
     "execution_count": 11,
     "metadata": {},
     "output_type": "execute_result"
    }
   ],
   "source": [
    "slot_dic"
   ]
  },
  {
   "cell_type": "markdown",
   "metadata": {},
   "source": [
    "## ES 관련 루틴"
   ]
  },
  {
   "cell_type": "code",
   "execution_count": 5,
   "metadata": {
    "collapsed": true
   },
   "outputs": [],
   "source": [
    "es_url = '10.102.50.47:9200'\n",
    "es = elasticsearch.Elasticsearch(es_url)"
   ]
  },
  {
   "cell_type": "code",
   "execution_count": 6,
   "metadata": {
    "collapsed": true
   },
   "outputs": [],
   "source": [
    "def es_gather_word2vec_with_cache(dids, w2v_cache):\n",
    "    \"\"\"\n",
    "    dids로부터, word2vec을 모은다.\n",
    "    - 모아서, average pooling 실시\n",
    "    return\n",
    "    - vector normalized by L2-norm\n",
    "    \"\"\"\n",
    "    query = set()\n",
    "    for did in dids:\n",
    "        if did not in w2v_cache:\n",
    "            query.add(did)\n",
    "    \n",
    "    if len(query) > 0:    \n",
    "        res = es.search(index='deal_word2vec', \n",
    "                    body={\n",
    "                        'from':0, 'size': len(query),\n",
    "                        \"_source\": [\"values\", \"v\"],\n",
    "                        'query': {\n",
    "                            'ids': {'values': list(query) }\n",
    "                            }                        \n",
    "                        }\n",
    "                   )\n",
    "        for hit in res['hits']['hits']:\n",
    "            vec = np.array(hit['_source']['values'])\n",
    "            did = hit['_source']['v']\n",
    "            w2v_cache[did] = [] if np.all(vec==0.0) else vec\n",
    "    \n",
    "    # 진짜 처리\n",
    "    mat = []\n",
    "    for did in dids:\n",
    "        if did in w2v_cache:\n",
    "            vec = w2v_cache[did]\n",
    "            if len(vec) > 0:\n",
    "                mat.append(vec)\n",
    "    if len(mat) > 0:\n",
    "        vec = np.mean(np.vstack(mat), axis=0)\n",
    "        vec /= np.sqrt(np.sum(vec**2))\n",
    "        return vec\n",
    "    return None"
   ]
  },
  {
   "cell_type": "markdown",
   "metadata": {},
   "source": [
    "### Negative Labeling 전략\n",
    "\n",
    "-  데이터: pos_dataset_by_user.csv\n",
    "- ```\n",
    "sort -t, -k2,2n -k4n pos_dataset.csv > pos_dataset_by_user.csv\n",
    "```"
   ]
  },
  {
   "cell_type": "code",
   "execution_count": 7,
   "metadata": {
    "collapsed": true
   },
   "outputs": [],
   "source": [
    "data_path = r'd:\\WMIND\\temp\\pos_dataset_by_user.csv'"
   ]
  },
  {
   "cell_type": "code",
   "execution_count": 8,
   "metadata": {
    "collapsed": true
   },
   "outputs": [],
   "source": [
    "def sample_a_slot(dt, slot, reserved_slots, dic, window=10):\n",
    "    \"\"\"\n",
    "        [slow-window, slot-1] 에서 슬롯번호 샘플링\n",
    "        reserved_slots에 존재 하는 것은 제외\n",
    "        dic에 존재하지 않은 슬롯은 제외시킨다.\n",
    "        '만번' 이상 고르지 못하면 패스.\n",
    "    \"\"\"\n",
    "    i = 0\n",
    "    while True:\n",
    "        neg_slot = np.random.randint(max(1, slot-window), slot-1)\n",
    "        if neg_slot in dic and neg_slot not in reserved_slots:\n",
    "            return neg_slot\n",
    "        i += 1\n",
    "        if i >= 10000:\n",
    "            #print(\"=== dumps ====\")\n",
    "            #print(dt, slot, reserved_slots)\n",
    "            #raise StopIteration\n",
    "            return None\n"
   ]
  },
  {
   "cell_type": "code",
   "execution_count": 9,
   "metadata": {
    "collapsed": true
   },
   "outputs": [],
   "source": [
    "def do_above_sampling(u, dt, series, gte_slot):\n",
    "    \"\"\"\n",
    "        dt 구간에 클릭된 series에 대해 pos/neg 셋을 정해준다.\n",
    "        gte_slot 이상인 슬롯만 포함한다.\n",
    "        100 보다 작은 슬롯 번호만 고려\n",
    "    \"\"\"\n",
    "    pos_data = []\n",
    "    neg_data = []\n",
    "    dic = wepick_setting_dic[dt]\n",
    "    \n",
    "    reserved_slots = set(map(lambda x: x[1], series))\n",
    "    for v, slot, rgtime in series:\n",
    "        if slot >= gte_slot and slot < 100:\n",
    "            neg_slot = sample_a_slot(dt, slot, reserved_slots, dic)\n",
    "            if neg_slot is None:\n",
    "                print(\"Error: u:{}, dt:{}, len:{}\".format(u, dt, len(series)))\n",
    "                break\n",
    "            pos_data.append( (v, slot, rgtime) )\n",
    "            neg_data.append( (dic[neg_slot][0], neg_slot, rgtime) )            \n",
    "    return pos_data, neg_data\n"
   ]
  },
  {
   "cell_type": "code",
   "execution_count": 10,
   "metadata": {
    "collapsed": true
   },
   "outputs": [],
   "source": [
    "def get_negative_example(u, vec, wepick_setting_dic, gte_slot=20):\n",
    "    \"\"\"\n",
    "        negative example들을 모은다.\n",
    "    \"\"\"\n",
    "    pos_data = []\n",
    "    neg_data = []\n",
    "    prev_dt = None\n",
    "    series = []\n",
    "\n",
    "    for v, slot, rgtime, dt in vec:\n",
    "        if prev_dt != None and prev_dt != dt:\n",
    "            _pos_data, _neg_data = do_above_sampling(u, prev_dt, series, gte_slot)\n",
    "            pos_data += _pos_data\n",
    "            neg_data += _neg_data\n",
    "            series = []\n",
    "        prev_dt = dt\n",
    "        series.append((v, slot, rgtime))\n",
    "    if series != []:\n",
    "        _pos_data, _neg_data = do_above_sampling(u, prev_dt, series, gte_slot)\n",
    "        pos_data += _pos_data\n",
    "        neg_data += _neg_data\n",
    "    return pos_data, neg_data"
   ]
  },
  {
   "cell_type": "code",
   "execution_count": 11,
   "metadata": {
    "collapsed": true
   },
   "outputs": [],
   "source": [
    "def process_user(u, vec, wepick_setting_dic, max_profile_cnt = 24, min_profile_cnt = 4, max_sample_per_user = 24):\n",
    "    \"\"\"\n",
    "    데이터 생성\n",
    "    pos_data, neg_data를 먼저 설정한다. (딜번호 추출)\n",
    "    \n",
    "    user_profile 데이터 생성: 각 pos_data, neg_data의 rgtime보다 이전에 기록된 최신 max_profile_cnt 만큼을 피쳐로 사용\n",
    "    \n",
    "    한 유저당 최대 몇번으로 학습 데이터를 제거 해야할 필요도 있다 (아직 옵션...)\n",
    "    \"\"\"\n",
    "    pos_data, neg_data = get_negative_example(u, vec, wepick_setting_dic)\n",
    "\n",
    "    deal_seq = list(map(lambda x: x[0], vec))\n",
    "    i, j = 0, 0\n",
    "    m, n = len(vec), len(pos_data)\n",
    "    data = []\n",
    "\n",
    "    while True:\n",
    "        if i == m or j == n:\n",
    "            break\n",
    "        if vec[i][2] < pos_data[j][2]:\n",
    "            i += 1\n",
    "            continue\n",
    "        elif vec[i][2] > pos_data[j][2]:\n",
    "            j += 1\n",
    "            continue\n",
    "        else:\n",
    "            user_profile = deal_seq[:i]\n",
    "            if len(user_profile) >= min_profile_cnt:\n",
    "                data.append( (user_profile[-max_profile_cnt:], pos_data[j][0], pos_data[j][1], neg_data[j][0], neg_data[j][1], vec[i][2]) )\n",
    "            i += 1\n",
    "            j += 1\n",
    "\n",
    "    if len(data) > max_sample_per_user:\n",
    "        #shuffle(data)\n",
    "        data = data[(-max_sample_per_user):]\n",
    "\n",
    "    return data"
   ]
  },
  {
   "cell_type": "code",
   "execution_count": 12,
   "metadata": {
    "collapsed": true
   },
   "outputs": [],
   "source": [
    "def generate_train_data(user, data, w2v_cache, train_f, test_f):\n",
    "    train_from = pd.to_datetime('2018-03-21').tz_localize('Asia/Tokyo') \n",
    "    valid_from = pd.to_datetime('2018-04-08').tz_localize('Asia/Tokyo') \n",
    "    test_from = pd.to_datetime('2018-04-11').tz_localize('Asia/Tokyo')\n",
    "    for profile, p_d, ps, n_d, ns, rgtime in data:\n",
    "        profile_vec = es_gather_word2vec_with_cache(profile, w2v_cache)\n",
    "        pos_vec = es_gather_word2vec_with_cache([p_d], w2v_cache)\n",
    "        neg_vec = es_gather_word2vec_with_cache([n_d], w2v_cache)\n",
    "        if pos_vec is None or neg_vec is None or profile_vec is None:            \n",
    "            continue\n",
    "                    \n",
    "        ts = pd.to_datetime(rgtime, unit='ms', utc=True).tz_convert('Asia/Tokyo')\n",
    "        if ts < train_from:\n",
    "            continue\n",
    "        elif ts < valid_from:\n",
    "            # train data\n",
    "            pos_s = \",\".join(map(lambda x: \"{}\".format(x), pos_vec))\n",
    "            neg_s = \",\".join(map(lambda x: \"{}\".format(x), neg_vec))\n",
    "            profile_s = \",\".join(map(lambda x: \"{}\".format(x), profile_vec))\n",
    "            train_f.write(\"{},{},{},{},{},{},{}\\n\".format(user, ts, p_d, ps, 1, profile_s, pos_s))\n",
    "            train_f.write(\"{},{},{},{},{},{},{}\\n\".format(user, ts, n_d, ns, 0, profile_s, neg_s))\n",
    "            #print(\"train\", user, ts, len(w2v_cache), np.sum(pos_vec**2), np.sum(neg_vec**2), np.sum(profile_vec**2))\n",
    "        elif ts < test_from:\n",
    "            # test data\n",
    "            pos_s = \",\".join(map(lambda x: \"{}\".format(x), pos_vec))\n",
    "            neg_s = \",\".join(map(lambda x: \"{}\".format(x), neg_vec))\n",
    "            profile_s = \",\".join(map(lambda x: \"{}\".format(x), profile_vec))\n",
    "            test_f.write(\"{},{},{},{},{},{},{},{},{}\\n\".format(user, ts, p_d, ps, n_d, ns, profile_s, pos_s, neg_s))\n",
    "            #print(\"test\", user, ts, len(w2v_cache), np.sum(pos_vec**2), np.sum(neg_vec**2), np.sum(profile_vec**2))\n",
    "            \n",
    "        #print(\":::\", user, ts, len(w2v_cache), np.sum(pos_vec**2), np.sum(neg_vec**2), np.sum(profile_vec**2))\n",
    "        #print(rgtime, pos_vec, neg_vec, profile_vec)\n",
    "        "
   ]
  },
  {
   "cell_type": "code",
   "execution_count": 13,
   "metadata": {},
   "outputs": [
    {
     "name": "stdout",
     "output_type": "stream",
     "text": [
      "Error: u:1091959, dt:2018-04-06 13, len:53\n",
      "Error: u:1164647, dt:2018-03-23 21, len:25\n",
      "Error: u:1164647, dt:2018-03-30 09, len:39\n",
      "Error: u:1572472, dt:2018-04-11 19, len:70\n",
      "Error: u:1839749, dt:2018-04-09 00, len:55\n",
      "Error: u:2301955, dt:2018-03-28 16, len:91\n",
      "Error: u:2401044, dt:2018-04-11 14, len:17\n",
      "Error: u:3012680, dt:2018-04-10 12, len:51\n",
      "Error: u:3332539, dt:2018-04-10 01, len:43\n",
      "Error: u:4919183, dt:2018-04-11 02, len:35\n",
      "Error: u:5080359, dt:2018-04-06 04, len:3\n",
      "Error: u:5099826, dt:2018-04-06 22, len:18\n",
      "Error: u:5171307, dt:2018-04-06 01, len:43\n",
      "Error: u:6357069, dt:2018-04-11 00, len:56\n",
      "Error: u:6999658, dt:2018-04-06 12, len:19\n",
      "Error: u:7466302, dt:2018-04-11 18, len:31\n",
      "Error: u:12769537, dt:2018-03-24 17, len:19\n",
      "Error: u:12769537, dt:2018-04-02 18, len:55\n",
      "Error: u:12769537, dt:2018-04-11 15, len:37\n",
      "Error: u:13211197, dt:2018-03-18 17, len:44\n",
      "Error: u:16342726, dt:2018-03-27 18, len:19\n",
      "Error: u:19326397, dt:2018-04-11 17, len:42\n",
      "Elapsed Time 7702.853108167648 sec\n"
     ]
    }
   ],
   "source": [
    "np.random.seed(0)\n",
    "start = time.time()\n",
    "total_time = 0\n",
    "with open(r'd:\\WMIND\\temp\\train_data_w2vec.csv', 'w') as train_f:\n",
    "    with open(r'd:\\WMIND\\temp\\test_data_w2vec.csv', 'w') as test_f:\n",
    "        with open(data_path) as csvfile:\n",
    "            reader = csv.reader(csvfile)\n",
    "            prev_u = None\n",
    "            user_vec = []\n",
    "            w2v_cache = {}\n",
    "            i = 0\n",
    "            for row in reader:\n",
    "                #v,u,slot,rgtime,dt = row[0], row[1], row[2], pd.to_datetime(row[3], unit='ms', utc=True).tz_convert('Asia/Tokyo'), row[4]\n",
    "                v,u,slot,rgtime,dt = int(row[0]), int(row[1]), int(row[2]), int(row[3]), row[4]\n",
    "                if prev_u != None and prev_u != u:\n",
    "                    data = process_user(prev_u, user_vec, wepick_setting_dic)\n",
    "                    generate_train_data(prev_u, data, w2v_cache, train_f, test_f)\n",
    "                    user_vec = []\n",
    "                    i += 1\n",
    "                prev_u = u\n",
    "                user_vec.append((v, slot, rgtime, dt))\n",
    "            if user_vec != []:\n",
    "                data = process_user(prev_u, user_vec, wepick_setting_dic)\n",
    "                generate_train_data(prev_u, data, w2v_cache, train_f, test_f)\n",
    "\n",
    "total_time += (time.time() - start)\n",
    "print(\"Elapsed Time {} sec\".format(total_time))                "
   ]
  },
  {
   "cell_type": "markdown",
   "metadata": {},
   "source": [
    "## 특정일 위픽 판에 대한 테스트 준비"
   ]
  },
  {
   "cell_type": "code",
   "execution_count": 29,
   "metadata": {
    "collapsed": true
   },
   "outputs": [],
   "source": [
    "for_predict_dt = '2018-04-11 21'\n",
    "test_wepicks = wepick_setting_dic[for_predict_dt]"
   ]
  },
  {
   "cell_type": "code",
   "execution_count": 30,
   "metadata": {
    "collapsed": true
   },
   "outputs": [],
   "source": [
    "for_predict_dids = []\n",
    "w2v_cache = {}\n",
    "mat = []\n",
    "for_predict_wepick_data = None\n",
    "for slot, deal_infos  in test_wepicks.items():\n",
    "    if slot >= 20 and slot < 100:\n",
    "        deal_feature = es_gather_word2vec_with_cache([deal_infos[0]], w2v_cache)\n",
    "        if deal_feature is not None:\n",
    "            mat.append(np.array(deal_feature, dtype=np.float32))\n",
    "            for_predict_dids.append((slot, deal_infos[0]))\n",
    "        else:\n",
    "            print(slot, deal_infos[0])\n",
    "for_predict_wepick_data = np.vstack(mat)\n"
   ]
  },
  {
   "cell_type": "code",
   "execution_count": 31,
   "metadata": {
    "collapsed": true
   },
   "outputs": [],
   "source": [
    "with open('for_predict_w2v_dataset.pkl', 'wb') as f:\n",
    "    pickle.dump(for_predict_wepick_data, f, pickle.HIGHEST_PROTOCOL)\n",
    "    pickle.dump(for_predict_dids, f, pickle.HIGHEST_PROTOCOL)\n",
    "    pickle.dump(for_predict_dt, f, pickle.HIGHEST_PROTOCOL)"
   ]
  },
  {
   "cell_type": "code",
   "execution_count": 167,
   "metadata": {
    "collapsed": true
   },
   "outputs": [],
   "source": [
    "# ms 단위 timestamp 처리\n",
    "#pd.to_datetime('1520769276608', unit='ms', utc=True).tz_convert('Asia/Tokyo')"
   ]
  },
  {
   "cell_type": "code",
   "execution_count": 198,
   "metadata": {},
   "outputs": [
    {
     "data": {
      "text/plain": [
       "Timestamp('2018-04-11 07:56:14.328000+0900', tz='Asia/Tokyo')"
      ]
     },
     "execution_count": 198,
     "metadata": {},
     "output_type": "execute_result"
    }
   ],
   "source": [
    "pd.to_datetime('1523400974328', unit='ms', utc=True).tz_convert('Asia/Tokyo')"
   ]
  },
  {
   "cell_type": "code",
   "execution_count": 203,
   "metadata": {},
   "outputs": [
    {
     "data": {
      "text/plain": [
       "Timestamp('2018-04-11 00:00:00+0900', tz='Asia/Tokyo')"
      ]
     },
     "execution_count": 203,
     "metadata": {},
     "output_type": "execute_result"
    }
   ],
   "source": [
    "pd.to_datetime('2018-04-11').tz_localize('Asia/Tokyo')"
   ]
  },
  {
   "cell_type": "code",
   "execution_count": 206,
   "metadata": {},
   "outputs": [
    {
     "data": {
      "text/plain": [
       "Timestamp('2018-04-11 07:56:14.328000+0900', tz='Asia/Tokyo')"
      ]
     },
     "execution_count": 206,
     "metadata": {},
     "output_type": "execute_result"
    }
   ],
   "source": [
    "pd.Timestamp('2018-04-11 07:56:14.328000+0900',tz='Asia/Tokyo')"
   ]
  },
  {
   "cell_type": "code",
   "execution_count": 47,
   "metadata": {
    "collapsed": true
   },
   "outputs": [],
   "source": [
    "a = np.array([])"
   ]
  },
  {
   "cell_type": "code",
   "execution_count": 48,
   "metadata": {},
   "outputs": [
    {
     "data": {
      "text/plain": [
       "array([], dtype=float64)"
      ]
     },
     "execution_count": 48,
     "metadata": {},
     "output_type": "execute_result"
    }
   ],
   "source": [
    "a"
   ]
  },
  {
   "cell_type": "code",
   "execution_count": 49,
   "metadata": {},
   "outputs": [
    {
     "data": {
      "text/plain": [
       "False"
      ]
     },
     "execution_count": 49,
     "metadata": {},
     "output_type": "execute_result"
    }
   ],
   "source": [
    "np.all([]==0.0)"
   ]
  },
  {
   "cell_type": "code",
   "execution_count": null,
   "metadata": {
    "collapsed": true
   },
   "outputs": [],
   "source": []
  }
 ],
 "metadata": {
  "kernelspec": {
   "display_name": "Python 3",
   "language": "python",
   "name": "python3"
  },
  "language_info": {
   "codemirror_mode": {
    "name": "ipython",
    "version": 3
   },
   "file_extension": ".py",
   "mimetype": "text/x-python",
   "name": "python",
   "nbconvert_exporter": "python",
   "pygments_lexer": "ipython3",
   "version": "3.5.4"
  }
 },
 "nbformat": 4,
 "nbformat_minor": 2
}
