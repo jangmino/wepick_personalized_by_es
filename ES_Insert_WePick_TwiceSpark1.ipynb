{
 "cells": [
  {
   "cell_type": "markdown",
   "metadata": {},
   "source": [
    "# Wepick 데이터를 twiceSpark1의 ES에 벌크 인서트\n",
    "\n",
    "-  환경: ElasticSearch \n",
    "-  테스트 머신: twiceSpark1"
   ]
  },
  {
   "cell_type": "code",
   "execution_count": 1,
   "metadata": {
    "collapsed": true
   },
   "outputs": [],
   "source": [
    "import requests\n",
    "import time\n",
    "import urllib\n",
    "import matplotlib.pyplot as plt\n",
    "import matplotlib.font_manager as fm\n",
    "import json\n",
    "import elasticsearch\n",
    "import csv\n",
    "import pickle\n",
    "from elasticsearch.helpers import parallel_bulk, bulk\n",
    "import re\n",
    "import glob\n",
    "import os\n",
    "from datetime import timezone, timedelta, datetime\n",
    "from pymongo import MongoClient\n",
    "import random\n",
    "import numpy as np\n",
    "import sys\n",
    "import pandas as pd\n",
    "import csv"
   ]
  },
  {
   "cell_type": "code",
   "execution_count": 2,
   "metadata": {
    "collapsed": true
   },
   "outputs": [],
   "source": [
    "### twiceSpark1: 10.102.50.47\n",
    "es_url = 'twiceSpark1:9200'"
   ]
  },
  {
   "cell_type": "code",
   "execution_count": 3,
   "metadata": {
    "collapsed": true
   },
   "outputs": [],
   "source": [
    "es = elasticsearch.Elasticsearch(es_url)"
   ]
  },
  {
   "cell_type": "markdown",
   "metadata": {
    "collapsed": true
   },
   "source": [
    "### wepick_data\n",
    "\n",
    "format:\n",
    "deal_id, user_id, slot_id, timestamp, impression_time, label(always one)"
   ]
  },
  {
   "cell_type": "code",
   "execution_count": 4,
   "metadata": {
    "collapsed": true
   },
   "outputs": [],
   "source": [
    "data_path = r'd:\\WMIND\\temp\\pos_dataset.csv'"
   ]
  },
  {
   "cell_type": "code",
   "execution_count": 5,
   "metadata": {
    "collapsed": true
   },
   "outputs": [],
   "source": [
    "def make_wepick_documents2(file_path):\n",
    "    with open(file_path) as csvfile:\n",
    "        reader = csv.reader(csvfile)\n",
    "        for row in reader:\n",
    "            source = {}\n",
    "            v, u, slot, imp_dt = int(row[0]), int(row[1]), int(row[2]), row[4]         \n",
    "            source['u'] = u\n",
    "            source['v'] = v\n",
    "            source['slot'] = slot\n",
    "            source['rgtime'] = pd.to_datetime(row[3], unit='ms').to_pydatetime()\n",
    "            doc = {\n",
    "                #\"_op_type\":'create',\n",
    "                \"_index\":\"wepick_seq\",\n",
    "                \"_type\":\"doc\",\n",
    "                #\"_id\": u,\n",
    "                \"_source\": source\n",
    "            }\n",
    "            yield(doc)"
   ]
  },
  {
   "cell_type": "code",
   "execution_count": 6,
   "metadata": {},
   "outputs": [
    {
     "name": "stdout",
     "output_type": "stream",
     "text": [
      "{'_source': {'slot': 24, 'rgtime': datetime.datetime(2018, 3, 29, 10, 16, 2, 191000), 'v': 3473871, 'u': 10000015}, '_type': 'doc', '_index': 'wepick_seq'}\n"
     ]
    }
   ],
   "source": [
    "for x in make_wepick_documents2(data_path):\n",
    "    print(x)\n",
    "    break"
   ]
  },
  {
   "cell_type": "code",
   "execution_count": 13,
   "metadata": {},
   "outputs": [
    {
     "data": {
      "text/plain": [
       "{'wepick_seq': {'mappings': {'doc': {'properties': {'rgtime': {'type': 'date'},\n",
       "     'slot': {'type': 'long'},\n",
       "     'u': {'type': 'long'},\n",
       "     'v': {'type': 'long'}}}}}}"
      ]
     },
     "execution_count": 13,
     "metadata": {},
     "output_type": "execute_result"
    }
   ],
   "source": [
    "es.indices.get_mapping(index='wepick_seq')"
   ]
  },
  {
   "cell_type": "code",
   "execution_count": 14,
   "metadata": {},
   "outputs": [
    {
     "name": "stdout",
     "output_type": "stream",
     "text": [
      "Elapsed Time 30801.94765663147 sec\n"
     ]
    }
   ],
   "source": [
    "start = time.time()\n",
    "total_time = 0\n",
    "bulk(es, make_wepick_documents2(data_path), request_timeout=100)\n",
    "total_time += (time.time() - start)\n",
    "print(\"Elapsed Time {} sec\".format(total_time))"
   ]
  },
  {
   "cell_type": "code",
   "execution_count": 9,
   "metadata": {
    "collapsed": true
   },
   "outputs": [],
   "source": [
    "res = es.search(index='wepick_seq', body={'query': {'match':{'u':'1000007'}}})"
   ]
  },
  {
   "cell_type": "code",
   "execution_count": 10,
   "metadata": {},
   "outputs": [
    {
     "ename": "KeyError",
     "evalue": "'hist'",
     "output_type": "error",
     "traceback": [
      "\u001b[1;31m---------------------------------------------------------------------------\u001b[0m",
      "\u001b[1;31mKeyError\u001b[0m                                  Traceback (most recent call last)",
      "\u001b[1;32m<ipython-input-10-d327e8e7edb9>\u001b[0m in \u001b[0;36m<module>\u001b[1;34m()\u001b[0m\n\u001b[1;32m----> 1\u001b[1;33m \u001b[0mtype\u001b[0m\u001b[1;33m(\u001b[0m\u001b[0mres\u001b[0m\u001b[1;33m[\u001b[0m\u001b[1;34m'hits'\u001b[0m\u001b[1;33m]\u001b[0m\u001b[1;33m[\u001b[0m\u001b[1;34m'hits'\u001b[0m\u001b[1;33m]\u001b[0m\u001b[1;33m[\u001b[0m\u001b[1;36m0\u001b[0m\u001b[1;33m]\u001b[0m\u001b[1;33m[\u001b[0m\u001b[1;34m'_source'\u001b[0m\u001b[1;33m]\u001b[0m\u001b[1;33m[\u001b[0m\u001b[1;34m'hist'\u001b[0m\u001b[1;33m]\u001b[0m\u001b[1;33m[\u001b[0m\u001b[1;36m0\u001b[0m\u001b[1;33m]\u001b[0m\u001b[1;33m[\u001b[0m\u001b[1;34m'rgtime'\u001b[0m\u001b[1;33m]\u001b[0m\u001b[1;33m)\u001b[0m\u001b[1;33m\u001b[0m\u001b[0m\n\u001b[0m",
      "\u001b[1;31mKeyError\u001b[0m: 'hist'"
     ]
    }
   ],
   "source": [
    "type(res['hits']['hits'][0]['_source']['hist'][0]['rgtime'])"
   ]
  },
  {
   "cell_type": "code",
   "execution_count": 11,
   "metadata": {
    "scrolled": true
   },
   "outputs": [
    {
     "name": "stdout",
     "output_type": "stream",
     "text": [
      "{'timed_out': False, 'hits': {'hits': [{'_id': 'j9MkW2QBD5J0ujsh9LE1', '_source': {'slot': 1, 'u': 1000007, 'v': 3398754, 'rgtime': '2018-03-12T08:20:37.294000'}, '_score': 1.0, '_type': 'doc', '_index': 'wepick_seq'}, {'_id': 'kdMkW2QBD5J0ujsh9LE1', '_source': {'slot': 5, 'u': 1000007, 'v': 3389057, 'rgtime': '2018-03-13T15:43:56.579000'}, '_score': 1.0, '_type': 'doc', '_index': 'wepick_seq'}, {'_id': 'k9MkW2QBD5J0ujsh9LE1', '_source': {'slot': 4, 'u': 1000007, 'v': 3411797, 'rgtime': '2018-03-13T15:44:10.067000'}, '_score': 1.0, '_type': 'doc', '_index': 'wepick_seq'}, {'_id': 'mNMkW2QBD5J0ujsh9LE1', '_source': {'slot': 71, 'u': 1000007, 'v': 1590568, 'rgtime': '2018-03-23T13:04:03.368000'}, '_score': 1.0, '_type': 'doc', '_index': 'wepick_seq'}, {'_id': 'mdMkW2QBD5J0ujsh9LE1', '_source': {'slot': 78, 'u': 1000007, 'v': 3168382, 'rgtime': '2018-03-26T11:46:13.347000'}, '_score': 1.0, '_type': 'doc', '_index': 'wepick_seq'}, {'_id': 'nNMkW2QBD5J0ujsh9LE1', '_source': {'slot': 1, 'u': 1000007, 'v': 3464375, 'rgtime': '2018-03-29T07:47:46.268000'}, '_score': 1.0, '_type': 'doc', '_index': 'wepick_seq'}, {'_id': 'tNMkW2QBD5J0ujsh9LE1', '_source': {'slot': 4, 'u': 1000007, 'v': 3499380, 'rgtime': '2018-04-05T05:28:31.716000'}, '_score': 1.0, '_type': 'doc', '_index': 'wepick_seq'}, {'_id': 'wtMkW2QBD5J0ujsh9LE1', '_source': {'slot': 15, 'u': 1000007, 'v': 3528037, 'rgtime': '2018-04-11T07:16:52.195000'}, '_score': 1.0, '_type': 'doc', '_index': 'wepick_seq'}, {'_id': 'w9MkW2QBD5J0ujsh9LE1', '_source': {'slot': 33, 'u': 1000007, 'v': 3541064, 'rgtime': '2018-04-11T07:33:25.678000'}, '_score': 1.0, '_type': 'doc', '_index': 'wepick_seq'}, {'_id': 'xNMkW2QBD5J0ujsh9LE1', '_source': {'slot': 14, 'u': 1000007, 'v': 3207879, 'rgtime': '2018-04-11T09:23:58.609000'}, '_score': 1.0, '_type': 'doc', '_index': 'wepick_seq'}], 'total': 57, 'max_score': 1.0}, '_shards': {'failed': 0, 'total': 5, 'skipped': 0, 'successful': 5}, 'took': 58}\n"
     ]
    }
   ],
   "source": [
    "print(res)"
   ]
  },
  {
   "cell_type": "code",
   "execution_count": null,
   "metadata": {
    "collapsed": true
   },
   "outputs": [],
   "source": []
  }
 ],
 "metadata": {
  "kernelspec": {
   "display_name": "Python 3",
   "language": "python",
   "name": "python3"
  },
  "language_info": {
   "codemirror_mode": {
    "name": "ipython",
    "version": 3
   },
   "file_extension": ".py",
   "mimetype": "text/x-python",
   "name": "python",
   "nbconvert_exporter": "python",
   "pygments_lexer": "ipython3",
   "version": "3.5.4"
  }
 },
 "nbformat": 4,
 "nbformat_minor": 2
}
